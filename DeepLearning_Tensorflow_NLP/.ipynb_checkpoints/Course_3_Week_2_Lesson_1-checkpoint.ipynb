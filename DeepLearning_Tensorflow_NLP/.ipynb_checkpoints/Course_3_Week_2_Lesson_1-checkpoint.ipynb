{
  "nbformat": 4,
  "nbformat_minor": 0,
  "metadata": {
    "colab": {
      "name": "Course 3 - Week 2 - Lesson 1.ipynb",
      "provenance": [],
      "collapsed_sections": []
    },
    "kernelspec": {
      "name": "python3",
      "display_name": "Python 3"
    },
    "accelerator": "GPU",
    "widgets": {
      "application/vnd.jupyter.widget-state+json": {
        "7962b34fac914d24bc595ab98d6f289c": {
          "model_module": "@jupyter-widgets/controls",
          "model_name": "HBoxModel",
          "state": {
            "_view_name": "HBoxView",
            "_dom_classes": [],
            "_model_name": "HBoxModel",
            "_view_module": "@jupyter-widgets/controls",
            "_model_module_version": "1.5.0",
            "_view_count": null,
            "_view_module_version": "1.5.0",
            "box_style": "",
            "layout": "IPY_MODEL_6e0f66e19aa649659d337ea640d1bd45",
            "_model_module": "@jupyter-widgets/controls",
            "children": [
              "IPY_MODEL_d9f5e4e51a4941529134956cd4d7ba6c",
              "IPY_MODEL_43688c112a9d4f649ed2e8276cc11df9"
            ]
          }
        },
        "f01c59ef7642474eb5a382a558f3a3e2": {
          "model_module": "@jupyter-widgets/controls",
          "model_name": "HBoxModel",
          "state": {
            "_view_name": "HBoxView",
            "_dom_classes": [],
            "_model_name": "HBoxModel",
            "_view_module": "@jupyter-widgets/controls",
            "_model_module_version": "1.5.0",
            "_view_count": null,
            "_view_module_version": "1.5.0",
            "box_style": "",
            "layout": "IPY_MODEL_57cb61f223a842c0a6aaee117ada8cff",
            "_model_module": "@jupyter-widgets/controls",
            "children": [
              "IPY_MODEL_38388947bd8d470fbd5b27bd9bff69c6",
              "IPY_MODEL_c6a4b367978c400fa6bc2e7cf59fbc03"
            ]
          }
        },
        "af9efa40f7ac4585ab7c4f58f6aad90d": {
          "model_module": "@jupyter-widgets/controls",
          "model_name": "HBoxModel",
          "state": {
            "_view_name": "HBoxView",
            "_dom_classes": [],
            "_model_name": "HBoxModel",
            "_view_module": "@jupyter-widgets/controls",
            "_model_module_version": "1.5.0",
            "_view_count": null,
            "_view_module_version": "1.5.0",
            "box_style": "",
            "layout": "IPY_MODEL_977a98cc4f15418aa637278facc95e0d",
            "_model_module": "@jupyter-widgets/controls",
            "children": [
              "IPY_MODEL_001b764a9a2b419b8ac44c68a9698a87",
              "IPY_MODEL_23d2c65cc7944ce08ba6f9fb416d3c03"
            ]
          }
        },
        "456b1a0d7d794081b1bae1108b284cab": {
          "model_module": "@jupyter-widgets/controls",
          "model_name": "HBoxModel",
          "state": {
            "_view_name": "HBoxView",
            "_dom_classes": [],
            "_model_name": "HBoxModel",
            "_view_module": "@jupyter-widgets/controls",
            "_model_module_version": "1.5.0",
            "_view_count": null,
            "_view_module_version": "1.5.0",
            "box_style": "",
            "layout": "IPY_MODEL_8b7f49c0b5ba42a08cd4719bfc0f98de",
            "_model_module": "@jupyter-widgets/controls",
            "children": [
              "IPY_MODEL_879433e0ae824b8fb46d04ae8dd10612",
              "IPY_MODEL_5972cfae42514fb58eb77a02cadbc7fa"
            ]
          }
        },
        "c7e253bf313a453489568542c41ca7aa": {
          "model_module": "@jupyter-widgets/controls",
          "model_name": "HBoxModel",
          "state": {
            "_view_name": "HBoxView",
            "_dom_classes": [],
            "_model_name": "HBoxModel",
            "_view_module": "@jupyter-widgets/controls",
            "_model_module_version": "1.5.0",
            "_view_count": null,
            "_view_module_version": "1.5.0",
            "box_style": "",
            "layout": "IPY_MODEL_469c527df8fb4cde80b181fefa4e0893",
            "_model_module": "@jupyter-widgets/controls",
            "children": [
              "IPY_MODEL_187b866e40d3434fb488e8e363988665",
              "IPY_MODEL_3883b1931f71452a87d1cc11026c2841"
            ]
          }
        },
        "27d9bac9c9f74d28b04a47d32571fd48": {
          "model_module": "@jupyter-widgets/controls",
          "model_name": "HBoxModel",
          "state": {
            "_view_name": "HBoxView",
            "_dom_classes": [],
            "_model_name": "HBoxModel",
            "_view_module": "@jupyter-widgets/controls",
            "_model_module_version": "1.5.0",
            "_view_count": null,
            "_view_module_version": "1.5.0",
            "box_style": "",
            "layout": "IPY_MODEL_9459c9d83c284e3fb825d088f174d961",
            "_model_module": "@jupyter-widgets/controls",
            "children": [
              "IPY_MODEL_49b290f0a23f432d830751489ee61b04",
              "IPY_MODEL_3ff02743067a476aaea5539c1cee55c8"
            ]
          }
        },
        "f44fd91f34574bc7bac90559d392804c": {
          "model_module": "@jupyter-widgets/controls",
          "model_name": "HBoxModel",
          "state": {
            "_view_name": "HBoxView",
            "_dom_classes": [],
            "_model_name": "HBoxModel",
            "_view_module": "@jupyter-widgets/controls",
            "_model_module_version": "1.5.0",
            "_view_count": null,
            "_view_module_version": "1.5.0",
            "box_style": "",
            "layout": "IPY_MODEL_72088345a93c4698802f235aac638c0e",
            "_model_module": "@jupyter-widgets/controls",
            "children": [
              "IPY_MODEL_2db2f4efd3df4309908ca57ebde4b314",
              "IPY_MODEL_5d608a25fa6f46c187b97fd37a341ffe"
            ]
          }
        },
        "c0dd260c7d664625aa9e73e7b4ff9849": {
          "model_module": "@jupyter-widgets/controls",
          "model_name": "HBoxModel",
          "state": {
            "_view_name": "HBoxView",
            "_dom_classes": [],
            "_model_name": "HBoxModel",
            "_view_module": "@jupyter-widgets/controls",
            "_model_module_version": "1.5.0",
            "_view_count": null,
            "_view_module_version": "1.5.0",
            "box_style": "",
            "layout": "IPY_MODEL_6ef49f4dda49401d8d77df1ef22b8d9c",
            "_model_module": "@jupyter-widgets/controls",
            "children": [
              "IPY_MODEL_523f74f071ab49e8afe01b1da2c69765",
              "IPY_MODEL_b99a1ab14c14485a9722f4a6b7a1e080"
            ]
          }
        },
        "09fd509e4ff3431d82f5be12a9ce0a77": {
          "model_module": "@jupyter-widgets/controls",
          "model_name": "HBoxModel",
          "state": {
            "_view_name": "HBoxView",
            "_dom_classes": [],
            "_model_name": "HBoxModel",
            "_view_module": "@jupyter-widgets/controls",
            "_model_module_version": "1.5.0",
            "_view_count": null,
            "_view_module_version": "1.5.0",
            "box_style": "",
            "layout": "IPY_MODEL_7ea831bc8bcf4d7eae1eea250fe30923",
            "_model_module": "@jupyter-widgets/controls",
            "children": [
              "IPY_MODEL_b5ab0a5c028b465fae99d0aea0b7eab5",
              "IPY_MODEL_b07532343148454a8bba7c18152244d1"
            ]
          }
        },
        "5a068995daa44926b0a531fb5724b1e9": {
          "model_module": "@jupyter-widgets/controls",
          "model_name": "HBoxModel",
          "state": {
            "_view_name": "HBoxView",
            "_dom_classes": [],
            "_model_name": "HBoxModel",
            "_view_module": "@jupyter-widgets/controls",
            "_model_module_version": "1.5.0",
            "_view_count": null,
            "_view_module_version": "1.5.0",
            "box_style": "",
            "layout": "IPY_MODEL_998261d0219c4e9dbd41ead8e2f9bf15",
            "_model_module": "@jupyter-widgets/controls",
            "children": [
              "IPY_MODEL_aaa820c39f7e4f9c8e954d4ede528bb6",
              "IPY_MODEL_7fb86b3083394f828bf482c322518bec"
            ]
          }
        },
        "4595d701648b4605b4b48b7dded4fe5c": {
          "model_module": "@jupyter-widgets/controls",
          "model_name": "HBoxModel",
          "state": {
            "_view_name": "HBoxView",
            "_dom_classes": [],
            "_model_name": "HBoxModel",
            "_view_module": "@jupyter-widgets/controls",
            "_model_module_version": "1.5.0",
            "_view_count": null,
            "_view_module_version": "1.5.0",
            "box_style": "",
            "layout": "IPY_MODEL_593382133fc2406199e81910efeecc89",
            "_model_module": "@jupyter-widgets/controls",
            "children": [
              "IPY_MODEL_04977b555ec743cfaa6a4f3263da60a9",
              "IPY_MODEL_7f38bcc2b89a4d90988c9a274abd0c74"
            ]
          }
        },
        "d6b5f0cbede54a8bbd39447e1b120a4e": {
          "model_module": "@jupyter-widgets/controls",
          "model_name": "HBoxModel",
          "state": {
            "_view_name": "HBoxView",
            "_dom_classes": [],
            "_model_name": "HBoxModel",
            "_view_module": "@jupyter-widgets/controls",
            "_model_module_version": "1.5.0",
            "_view_count": null,
            "_view_module_version": "1.5.0",
            "box_style": "",
            "layout": "IPY_MODEL_7a242b1bc5a74e469c6a00ca6607ea9c",
            "_model_module": "@jupyter-widgets/controls",
            "children": [
              "IPY_MODEL_ab4cfda24190492288a6fb0d02da7c30",
              "IPY_MODEL_219550d640004c56a4accda2d2fff4eb"
            ]
          }
        },
        "e8fde260b92e4c2e9013c18df8b0e132": {
          "model_module": "@jupyter-widgets/controls",
          "model_name": "HBoxModel",
          "state": {
            "_view_name": "HBoxView",
            "_dom_classes": [],
            "_model_name": "HBoxModel",
            "_view_module": "@jupyter-widgets/controls",
            "_model_module_version": "1.5.0",
            "_view_count": null,
            "_view_module_version": "1.5.0",
            "box_style": "",
            "layout": "IPY_MODEL_be7ee166c6b246e3996f5fb872f29d74",
            "_model_module": "@jupyter-widgets/controls",
            "children": [
              "IPY_MODEL_9b6f002debb844f9b0b414bd8c197ee1",
              "IPY_MODEL_84f73d19db79495c9a90205dcd4b4f2c"
            ]
          }
        },
        "26dbd12a3a604d70944ed8566d9c73f0": {
          "model_module": "@jupyter-widgets/controls",
          "model_name": "HBoxModel",
          "state": {
            "_view_name": "HBoxView",
            "_dom_classes": [],
            "_model_name": "HBoxModel",
            "_view_module": "@jupyter-widgets/controls",
            "_model_module_version": "1.5.0",
            "_view_count": null,
            "_view_module_version": "1.5.0",
            "box_style": "",
            "layout": "IPY_MODEL_6c6f6498acb34990b930961a537974aa",
            "_model_module": "@jupyter-widgets/controls",
            "children": [
              "IPY_MODEL_9c8ab226e8ad40569411e32badfb6058",
              "IPY_MODEL_766623f6e83d4670a2ff37e8627e38a9"
            ]
          }
        },
        "edc7bc505b824651ba44187a3a43f26c": {
          "model_module": "@jupyter-widgets/controls",
          "model_name": "HBoxModel",
          "state": {
            "_view_name": "HBoxView",
            "_dom_classes": [],
            "_model_name": "HBoxModel",
            "_view_module": "@jupyter-widgets/controls",
            "_model_module_version": "1.5.0",
            "_view_count": null,
            "_view_module_version": "1.5.0",
            "box_style": "",
            "layout": "IPY_MODEL_116a9756608f40c187e176f1acbfbff3",
            "_model_module": "@jupyter-widgets/controls",
            "children": [
              "IPY_MODEL_aa80ca2949624301a3e941d92a1ade6e",
              "IPY_MODEL_a946c71c56694c339f035e351c6fed52"
            ]
          }
        },
        "dc04c1cdce0e4ccdb2b8a300ae1d6f70": {
          "model_module": "@jupyter-widgets/controls",
          "model_name": "HBoxModel",
          "state": {
            "_view_name": "HBoxView",
            "_dom_classes": [],
            "_model_name": "HBoxModel",
            "_view_module": "@jupyter-widgets/controls",
            "_model_module_version": "1.5.0",
            "_view_count": null,
            "_view_module_version": "1.5.0",
            "box_style": "",
            "layout": "IPY_MODEL_b1e6d33606cc425693c5545860cec5c5",
            "_model_module": "@jupyter-widgets/controls",
            "children": [
              "IPY_MODEL_3dc2e1068f7944bcaa0f0863934384bd",
              "IPY_MODEL_86cad29533884830a8aacb16a6a7042b"
            ]
          }
        },
        "d346486cd5864ec097403206fa1048fe": {
          "model_module": "@jupyter-widgets/controls",
          "model_name": "HBoxModel",
          "state": {
            "_view_name": "HBoxView",
            "_dom_classes": [],
            "_model_name": "HBoxModel",
            "_view_module": "@jupyter-widgets/controls",
            "_model_module_version": "1.5.0",
            "_view_count": null,
            "_view_module_version": "1.5.0",
            "box_style": "",
            "layout": "IPY_MODEL_0d212f7292134354be4478b847c496fa",
            "_model_module": "@jupyter-widgets/controls",
            "children": [
              "IPY_MODEL_205b3a87dd2440728b56187f76efcdd6",
              "IPY_MODEL_cbe6612262b5424aa01fd3e6e167d704"
            ]
          }
        },
        "74230b4db1d94682ba7d4da3de18fb25": {
          "model_module": "@jupyter-widgets/controls",
          "model_name": "HBoxModel",
          "state": {
            "_view_name": "HBoxView",
            "_dom_classes": [],
            "_model_name": "HBoxModel",
            "_view_module": "@jupyter-widgets/controls",
            "_model_module_version": "1.5.0",
            "_view_count": null,
            "_view_module_version": "1.5.0",
            "box_style": "",
            "layout": "IPY_MODEL_f8502fcd6a554b6da3ad690f317f335a",
            "_model_module": "@jupyter-widgets/controls",
            "children": [
              "IPY_MODEL_3b5e8daccf9042f9a6e655a05f447cb1",
              "IPY_MODEL_2fa780c2911e43e7b193f67a5b66a54d"
            ]
          }
        },
        "a7dd71a439f54d01829cb01aa9ad682a": {
          "model_module": "@jupyter-widgets/controls",
          "model_name": "HBoxModel",
          "state": {
            "_view_name": "HBoxView",
            "_dom_classes": [],
            "_model_name": "HBoxModel",
            "_view_module": "@jupyter-widgets/controls",
            "_model_module_version": "1.5.0",
            "_view_count": null,
            "_view_module_version": "1.5.0",
            "box_style": "",
            "layout": "IPY_MODEL_1cc53c06381a4f74867d333cbec95329",
            "_model_module": "@jupyter-widgets/controls",
            "children": [
              "IPY_MODEL_755f7bd6810744cdbe34a1171b5aba1f",
              "IPY_MODEL_c84adac7d3604e7db75530c55ecc84d2"
            ]
          }
        },
        "350ab0b46b0347d8b16fe9a54e4f68f7": {
          "model_module": "@jupyter-widgets/controls",
          "model_name": "HBoxModel",
          "state": {
            "_view_name": "HBoxView",
            "_dom_classes": [],
            "_model_name": "HBoxModel",
            "_view_module": "@jupyter-widgets/controls",
            "_model_module_version": "1.5.0",
            "_view_count": null,
            "_view_module_version": "1.5.0",
            "box_style": "",
            "layout": "IPY_MODEL_6959740b4b34441fba774c0d6590fa38",
            "_model_module": "@jupyter-widgets/controls",
            "children": [
              "IPY_MODEL_7f457c09e8a04cb181435e7c5f4a9790",
              "IPY_MODEL_31ddf3f7ed2d449db39a05482a05f636"
            ]
          }
        },
        "c8acd6ba1333469c94bbdcc99ff771b2": {
          "model_module": "@jupyter-widgets/controls",
          "model_name": "HBoxModel",
          "state": {
            "_view_name": "HBoxView",
            "_dom_classes": [],
            "_model_name": "HBoxModel",
            "_view_module": "@jupyter-widgets/controls",
            "_model_module_version": "1.5.0",
            "_view_count": null,
            "_view_module_version": "1.5.0",
            "box_style": "",
            "layout": "IPY_MODEL_7b26da588198493298ed1372341b1d23",
            "_model_module": "@jupyter-widgets/controls",
            "children": [
              "IPY_MODEL_74fa5a6791564e2b82d9e26d3a1b7e80",
              "IPY_MODEL_efdce344787742af88fab6a745de4370"
            ]
          }
        },
        "bbb1f9a256a64288aa40a4dcaaba2f25": {
          "model_module": "@jupyter-widgets/controls",
          "model_name": "HBoxModel",
          "state": {
            "_view_name": "HBoxView",
            "_dom_classes": [],
            "_model_name": "HBoxModel",
            "_view_module": "@jupyter-widgets/controls",
            "_model_module_version": "1.5.0",
            "_view_count": null,
            "_view_module_version": "1.5.0",
            "box_style": "",
            "layout": "IPY_MODEL_cfb58fe3a4604b27bcc49bf3900b38c9",
            "_model_module": "@jupyter-widgets/controls",
            "children": [
              "IPY_MODEL_d214ab6c5e934aa08cc05467c31195b4",
              "IPY_MODEL_b590374016cb44f69f869e84a1f2d5e1"
            ]
          }
        },
        "fb63ff950d284908b33bd370dc0cf10a": {
          "model_module": "@jupyter-widgets/controls",
          "model_name": "HBoxModel",
          "state": {
            "_view_name": "HBoxView",
            "_dom_classes": [],
            "_model_name": "HBoxModel",
            "_view_module": "@jupyter-widgets/controls",
            "_model_module_version": "1.5.0",
            "_view_count": null,
            "_view_module_version": "1.5.0",
            "box_style": "",
            "layout": "IPY_MODEL_f82290f20ade427c9c62e3a7923e68d3",
            "_model_module": "@jupyter-widgets/controls",
            "children": [
              "IPY_MODEL_e64aebb4d8eb42ccacdab57f669448a2",
              "IPY_MODEL_21d555bb048148cf911b7a8533f1b00e"
            ]
          }
        },
        "d2a220f1140049ea91bc752ef1a380cc": {
          "model_module": "@jupyter-widgets/controls",
          "model_name": "HBoxModel",
          "state": {
            "_view_name": "HBoxView",
            "_dom_classes": [],
            "_model_name": "HBoxModel",
            "_view_module": "@jupyter-widgets/controls",
            "_model_module_version": "1.5.0",
            "_view_count": null,
            "_view_module_version": "1.5.0",
            "box_style": "",
            "layout": "IPY_MODEL_bbf1f600d8384f51a89dc6f672d9ab18",
            "_model_module": "@jupyter-widgets/controls",
            "children": [
              "IPY_MODEL_41249847e02b4e0a956c2ec336cca13d",
              "IPY_MODEL_c7481315368c47dea855d7b45b44df8c"
            ]
          }
        },
        "028f6bed645b47fbb54f6ae7ccbff3a6": {
          "model_module": "@jupyter-widgets/controls",
          "model_name": "HBoxModel",
          "state": {
            "_view_name": "HBoxView",
            "_dom_classes": [],
            "_model_name": "HBoxModel",
            "_view_module": "@jupyter-widgets/controls",
            "_model_module_version": "1.5.0",
            "_view_count": null,
            "_view_module_version": "1.5.0",
            "box_style": "",
            "layout": "IPY_MODEL_9e0d1166cbf840168a34230a2d0b8733",
            "_model_module": "@jupyter-widgets/controls",
            "children": [
              "IPY_MODEL_ff8d7b9631e34e89a3f9dd87f2d54036",
              "IPY_MODEL_9df4c7ebbd984d21a0698fc849083645"
            ]
          }
        },
        "ac089b1228354958be28171008cbaa49": {
          "model_module": "@jupyter-widgets/controls",
          "model_name": "HBoxModel",
          "state": {
            "_view_name": "HBoxView",
            "_dom_classes": [],
            "_model_name": "HBoxModel",
            "_view_module": "@jupyter-widgets/controls",
            "_model_module_version": "1.5.0",
            "_view_count": null,
            "_view_module_version": "1.5.0",
            "box_style": "",
            "layout": "IPY_MODEL_8e0ffa5c615849b2a404b140a10987b7",
            "_model_module": "@jupyter-widgets/controls",
            "children": [
              "IPY_MODEL_4a7fe9cb52184dd993c1b77b99c02d88",
              "IPY_MODEL_095390b51d3d4719b99331b054775ff0"
            ]
          }
        },
        "fc00aa0b96df4a209d14562b2b0640af": {
          "model_module": "@jupyter-widgets/controls",
          "model_name": "HBoxModel",
          "state": {
            "_view_name": "HBoxView",
            "_dom_classes": [],
            "_model_name": "HBoxModel",
            "_view_module": "@jupyter-widgets/controls",
            "_model_module_version": "1.5.0",
            "_view_count": null,
            "_view_module_version": "1.5.0",
            "box_style": "",
            "layout": "IPY_MODEL_4fb73f18326b41ccbfe2fb8452ad9234",
            "_model_module": "@jupyter-widgets/controls",
            "children": [
              "IPY_MODEL_6d449eb0e17f4730b54e4a95a78f2370",
              "IPY_MODEL_9a6e37288c46431f97fbe6d46d246288"
            ]
          }
        },
        "9e717638ecb04ff98510d1376e1b2ce2": {
          "model_module": "@jupyter-widgets/controls",
          "model_name": "HBoxModel",
          "state": {
            "_view_name": "HBoxView",
            "_dom_classes": [],
            "_model_name": "HBoxModel",
            "_view_module": "@jupyter-widgets/controls",
            "_model_module_version": "1.5.0",
            "_view_count": null,
            "_view_module_version": "1.5.0",
            "box_style": "",
            "layout": "IPY_MODEL_6ef263a45b3c42008523acd4411f9be8",
            "_model_module": "@jupyter-widgets/controls",
            "children": [
              "IPY_MODEL_6e112948a9fc415d8d7faddbc7a0e72a",
              "IPY_MODEL_c0fa646d2c6d456081781fdc86605e5f"
            ]
          }
        },
        "6e03f65f4993406ab3501daadc8e57c9": {
          "model_module": "@jupyter-widgets/controls",
          "model_name": "HBoxModel",
          "state": {
            "_view_name": "HBoxView",
            "_dom_classes": [],
            "_model_name": "HBoxModel",
            "_view_module": "@jupyter-widgets/controls",
            "_model_module_version": "1.5.0",
            "_view_count": null,
            "_view_module_version": "1.5.0",
            "box_style": "",
            "layout": "IPY_MODEL_d2d132e85d0a457daa1f4496c64a1e9f",
            "_model_module": "@jupyter-widgets/controls",
            "children": [
              "IPY_MODEL_80d9f3cba80046359f8138941330a12e",
              "IPY_MODEL_c687918025424d5780c1d0cd3a5db9ae"
            ]
          }
        },
        "7748e071888d49f6b2eeb34d23dabb40": {
          "model_module": "@jupyter-widgets/controls",
          "model_name": "HBoxModel",
          "state": {
            "_view_name": "HBoxView",
            "_dom_classes": [],
            "_model_name": "HBoxModel",
            "_view_module": "@jupyter-widgets/controls",
            "_model_module_version": "1.5.0",
            "_view_count": null,
            "_view_module_version": "1.5.0",
            "box_style": "",
            "layout": "IPY_MODEL_659bbb40a0fb40be86bd51a8e2829869",
            "_model_module": "@jupyter-widgets/controls",
            "children": [
              "IPY_MODEL_7ab15addafc94a6ca53b42f5d07dfdcb",
              "IPY_MODEL_39e8b2576c06491588cdc4e436b5137c"
            ]
          }
        },
        "2eca5936b2d04c4db213391a5b9d69cb": {
          "model_module": "@jupyter-widgets/controls",
          "model_name": "HBoxModel",
          "state": {
            "_view_name": "HBoxView",
            "_dom_classes": [],
            "_model_name": "HBoxModel",
            "_view_module": "@jupyter-widgets/controls",
            "_model_module_version": "1.5.0",
            "_view_count": null,
            "_view_module_version": "1.5.0",
            "box_style": "",
            "layout": "IPY_MODEL_a183941fa2d64335a2bcb353650bc555",
            "_model_module": "@jupyter-widgets/controls",
            "children": [
              "IPY_MODEL_e781562c03e54f64b083805872192ce9",
              "IPY_MODEL_098e40bba80c4806b002a02574e918f8"
            ]
          }
        },
        "91e03f5c76314c67a3fddf73c200feec": {
          "model_module": "@jupyter-widgets/controls",
          "model_name": "HBoxModel",
          "state": {
            "_view_name": "HBoxView",
            "_dom_classes": [],
            "_model_name": "HBoxModel",
            "_view_module": "@jupyter-widgets/controls",
            "_model_module_version": "1.5.0",
            "_view_count": null,
            "_view_module_version": "1.5.0",
            "box_style": "",
            "layout": "IPY_MODEL_43df5d41302444d49d717d83ce590e8d",
            "_model_module": "@jupyter-widgets/controls",
            "children": [
              "IPY_MODEL_a19d90b6243e4312b2647d56f5f9ded3",
              "IPY_MODEL_ed0b4e3deabe4245a0deabc526001df5"
            ]
          }
        },
        "cc9f1cc461874d2386ef44687e5fe6c0": {
          "model_module": "@jupyter-widgets/controls",
          "model_name": "HBoxModel",
          "state": {
            "_view_name": "HBoxView",
            "_dom_classes": [],
            "_model_name": "HBoxModel",
            "_view_module": "@jupyter-widgets/controls",
            "_model_module_version": "1.5.0",
            "_view_count": null,
            "_view_module_version": "1.5.0",
            "box_style": "",
            "layout": "IPY_MODEL_302b4ba270aa4657a3bbd008043c980f",
            "_model_module": "@jupyter-widgets/controls",
            "children": [
              "IPY_MODEL_fc898af3fe2042f4b336b69fff53d9e9",
              "IPY_MODEL_268c6817aab94c0f821902033f52467c"
            ]
          }
        },
        "6d2e79d4b4004a6ab311019bb129a619": {
          "model_module": "@jupyter-widgets/controls",
          "model_name": "HBoxModel",
          "state": {
            "_view_name": "HBoxView",
            "_dom_classes": [],
            "_model_name": "HBoxModel",
            "_view_module": "@jupyter-widgets/controls",
            "_model_module_version": "1.5.0",
            "_view_count": null,
            "_view_module_version": "1.5.0",
            "box_style": "",
            "layout": "IPY_MODEL_253eb3319a88496b932f2294dc50aa19",
            "_model_module": "@jupyter-widgets/controls",
            "children": [
              "IPY_MODEL_eed201a674ec4b5694bda4cb1e599b62",
              "IPY_MODEL_b15b52a468714967b17eb85b2678193e"
            ]
          }
        },
        "1ea74c9639c54215a6383c7bda101367": {
          "model_module": "@jupyter-widgets/controls",
          "model_name": "HBoxModel",
          "state": {
            "_view_name": "HBoxView",
            "_dom_classes": [],
            "_model_name": "HBoxModel",
            "_view_module": "@jupyter-widgets/controls",
            "_model_module_version": "1.5.0",
            "_view_count": null,
            "_view_module_version": "1.5.0",
            "box_style": "",
            "layout": "IPY_MODEL_545201f4a62a407abf2404b6cbdab2fa",
            "_model_module": "@jupyter-widgets/controls",
            "children": [
              "IPY_MODEL_2a13f25d5f9d4ad38f9974eaba5b93b2",
              "IPY_MODEL_46101bbb85e9418a8812cd0f3dd9a3e1"
            ]
          }
        },
        "745f46953edd41b1912d2dff0e833d2c": {
          "model_module": "@jupyter-widgets/controls",
          "model_name": "HBoxModel",
          "state": {
            "_view_name": "HBoxView",
            "_dom_classes": [],
            "_model_name": "HBoxModel",
            "_view_module": "@jupyter-widgets/controls",
            "_model_module_version": "1.5.0",
            "_view_count": null,
            "_view_module_version": "1.5.0",
            "box_style": "",
            "layout": "IPY_MODEL_c19ff1072dbb4c92a177b8961888e098",
            "_model_module": "@jupyter-widgets/controls",
            "children": [
              "IPY_MODEL_10d2bc203c0241f680aa9780da188ca0",
              "IPY_MODEL_f4a2fd1db85d403fa0369e5f42be4271"
            ]
          }
        },
        "8d51015124fa493794f6c1d46f7f3414": {
          "model_module": "@jupyter-widgets/controls",
          "model_name": "HBoxModel",
          "state": {
            "_view_name": "HBoxView",
            "_dom_classes": [],
            "_model_name": "HBoxModel",
            "_view_module": "@jupyter-widgets/controls",
            "_model_module_version": "1.5.0",
            "_view_count": null,
            "_view_module_version": "1.5.0",
            "box_style": "",
            "layout": "IPY_MODEL_430341a62f754db2801ce7bb3bcae302",
            "_model_module": "@jupyter-widgets/controls",
            "children": [
              "IPY_MODEL_918060fbf7b54abd896f562dc63220d6",
              "IPY_MODEL_c9559b8418884286abc425bc18448a7b"
            ]
          }
        },
        "74f5a97aff7c4d1e8eac14be400ef7d9": {
          "model_module": "@jupyter-widgets/controls",
          "model_name": "HBoxModel",
          "state": {
            "_view_name": "HBoxView",
            "_dom_classes": [],
            "_model_name": "HBoxModel",
            "_view_module": "@jupyter-widgets/controls",
            "_model_module_version": "1.5.0",
            "_view_count": null,
            "_view_module_version": "1.5.0",
            "box_style": "",
            "layout": "IPY_MODEL_4ab1594d285b4b5eb6168010c5e39917",
            "_model_module": "@jupyter-widgets/controls",
            "children": [
              "IPY_MODEL_4dfd3c1bcad147f6b611f8d082ae0eeb",
              "IPY_MODEL_78a31391f7cd4b42980458e718f053b7"
            ]
          }
        },
        "100e4a04dbd841d2a7d89036eb748ae8": {
          "model_module": "@jupyter-widgets/controls",
          "model_name": "HBoxModel",
          "state": {
            "_view_name": "HBoxView",
            "_dom_classes": [],
            "_model_name": "HBoxModel",
            "_view_module": "@jupyter-widgets/controls",
            "_model_module_version": "1.5.0",
            "_view_count": null,
            "_view_module_version": "1.5.0",
            "box_style": "",
            "layout": "IPY_MODEL_f2b5d2972f0744c7b120e340f5415456",
            "_model_module": "@jupyter-widgets/controls",
            "children": [
              "IPY_MODEL_9a5841d6baee4cdcb7a9d4911ed82f2c",
              "IPY_MODEL_5ef2ef0e4c1642b588aed4a990da4540"
            ]
          }
        },
        "442667fe600e4f2391bd79cec04d5905": {
          "model_module": "@jupyter-widgets/controls",
          "model_name": "HBoxModel",
          "state": {
            "_view_name": "HBoxView",
            "_dom_classes": [],
            "_model_name": "HBoxModel",
            "_view_module": "@jupyter-widgets/controls",
            "_model_module_version": "1.5.0",
            "_view_count": null,
            "_view_module_version": "1.5.0",
            "box_style": "",
            "layout": "IPY_MODEL_c3bb65963729413395e5ad1ac73934e6",
            "_model_module": "@jupyter-widgets/controls",
            "children": [
              "IPY_MODEL_0d7b6da38e6145c8a6266e98371b06e6",
              "IPY_MODEL_21b2c8f200a8494b95b02296552b395f"
            ]
          }
        },
        "fd442c05f3b44b88b63972ab211c84ad": {
          "model_module": "@jupyter-widgets/controls",
          "model_name": "HBoxModel",
          "state": {
            "_view_name": "HBoxView",
            "_dom_classes": [],
            "_model_name": "HBoxModel",
            "_view_module": "@jupyter-widgets/controls",
            "_model_module_version": "1.5.0",
            "_view_count": null,
            "_view_module_version": "1.5.0",
            "box_style": "",
            "layout": "IPY_MODEL_e926a6b281b84d61973fc3c43300a900",
            "_model_module": "@jupyter-widgets/controls",
            "children": [
              "IPY_MODEL_152a7d569a9e41a283d86ea286b52ceb",
              "IPY_MODEL_38440881dae74f16961e828af71361d1"
            ]
          }
        },
        "77023616c83340879f99fa94a9b63e42": {
          "model_module": "@jupyter-widgets/controls",
          "model_name": "HBoxModel",
          "state": {
            "_view_name": "HBoxView",
            "_dom_classes": [],
            "_model_name": "HBoxModel",
            "_view_module": "@jupyter-widgets/controls",
            "_model_module_version": "1.5.0",
            "_view_count": null,
            "_view_module_version": "1.5.0",
            "box_style": "",
            "layout": "IPY_MODEL_1074f966b6e94504ad16e0ff65cd2f8c",
            "_model_module": "@jupyter-widgets/controls",
            "children": [
              "IPY_MODEL_551f2786d00a4640929b2bc9dfcee91b",
              "IPY_MODEL_2c3eafedc44b4d8db0267ea39d65e4f3"
            ]
          }
        },
        "ad7777988d0b4bd78222373661c454a3": {
          "model_module": "@jupyter-widgets/controls",
          "model_name": "HBoxModel",
          "state": {
            "_view_name": "HBoxView",
            "_dom_classes": [],
            "_model_name": "HBoxModel",
            "_view_module": "@jupyter-widgets/controls",
            "_model_module_version": "1.5.0",
            "_view_count": null,
            "_view_module_version": "1.5.0",
            "box_style": "",
            "layout": "IPY_MODEL_ae1af11ec17e4c879c400fc7ccdc4e44",
            "_model_module": "@jupyter-widgets/controls",
            "children": [
              "IPY_MODEL_a8a2861c2c674e379fca5bc399cc706a",
              "IPY_MODEL_e9a0bb5680fb45ab868acf9d87fdd9f2"
            ]
          }
        },
        "b4f55efce4e14f01a6a4241d814e364d": {
          "model_module": "@jupyter-widgets/controls",
          "model_name": "HBoxModel",
          "state": {
            "_view_name": "HBoxView",
            "_dom_classes": [],
            "_model_name": "HBoxModel",
            "_view_module": "@jupyter-widgets/controls",
            "_model_module_version": "1.5.0",
            "_view_count": null,
            "_view_module_version": "1.5.0",
            "box_style": "",
            "layout": "IPY_MODEL_2bf9a266f5de449ba6ee7b2ea41ff92e",
            "_model_module": "@jupyter-widgets/controls",
            "children": [
              "IPY_MODEL_33b109b5c9214f11816e224b4d316dd5",
              "IPY_MODEL_8bec79793b8c4feb881f944911b96fdc"
            ]
          }
        },
        "769270b781c4472c86697727f8ddaa20": {
          "model_module": "@jupyter-widgets/controls",
          "model_name": "HBoxModel",
          "state": {
            "_view_name": "HBoxView",
            "_dom_classes": [],
            "_model_name": "HBoxModel",
            "_view_module": "@jupyter-widgets/controls",
            "_model_module_version": "1.5.0",
            "_view_count": null,
            "_view_module_version": "1.5.0",
            "box_style": "",
            "layout": "IPY_MODEL_8f949dd50b9b470bba83e0839254a47f",
            "_model_module": "@jupyter-widgets/controls",
            "children": [
              "IPY_MODEL_e1beaee0e69f4fedbd33e30a8e839888",
              "IPY_MODEL_9d385d06d76b43bcb20ed9397a7b62e5"
            ]
          }
        },
        "981571cb810f43b9b07a2791b431ff21": {
          "model_module": "@jupyter-widgets/controls",
          "model_name": "HBoxModel",
          "state": {
            "_view_name": "HBoxView",
            "_dom_classes": [],
            "_model_name": "HBoxModel",
            "_view_module": "@jupyter-widgets/controls",
            "_model_module_version": "1.5.0",
            "_view_count": null,
            "_view_module_version": "1.5.0",
            "box_style": "",
            "layout": "IPY_MODEL_d3c361cf2c3e4ff59952a041654bd9df",
            "_model_module": "@jupyter-widgets/controls",
            "children": [
              "IPY_MODEL_cce1e47a59644d6eb19ef52392649b59",
              "IPY_MODEL_e06a5080e4004e73a1f568fb55547ba2"
            ]
          }
        },
        "1c3ba598061f4a4e98204ebe93c87c4b": {
          "model_module": "@jupyter-widgets/controls",
          "model_name": "HBoxModel",
          "state": {
            "_view_name": "HBoxView",
            "_dom_classes": [],
            "_model_name": "HBoxModel",
            "_view_module": "@jupyter-widgets/controls",
            "_model_module_version": "1.5.0",
            "_view_count": null,
            "_view_module_version": "1.5.0",
            "box_style": "",
            "layout": "IPY_MODEL_0910584a59e1475bb68fc18d4257347a",
            "_model_module": "@jupyter-widgets/controls",
            "children": [
              "IPY_MODEL_4d5ded0f6f30478fb694515882ddd346",
              "IPY_MODEL_b9c2a09892234f32b49ded054e7ef2ff"
            ]
          }
        },
        "f3cc1234a8f24f96881a89932ca839cf": {
          "model_module": "@jupyter-widgets/controls",
          "model_name": "HBoxModel",
          "state": {
            "_view_name": "HBoxView",
            "_dom_classes": [],
            "_model_name": "HBoxModel",
            "_view_module": "@jupyter-widgets/controls",
            "_model_module_version": "1.5.0",
            "_view_count": null,
            "_view_module_version": "1.5.0",
            "box_style": "",
            "layout": "IPY_MODEL_7f825a38fae04a73a6f543e9c1bfc632",
            "_model_module": "@jupyter-widgets/controls",
            "children": [
              "IPY_MODEL_50c4baef623047838ad88e9f7e318af7",
              "IPY_MODEL_e4f28409e9124a6b8fb425f87ee98e9c"
            ]
          }
        },
        "d23d1eb2b39a46f390368d4746558ddc": {
          "model_module": "@jupyter-widgets/controls",
          "model_name": "HBoxModel",
          "state": {
            "_view_name": "HBoxView",
            "_dom_classes": [],
            "_model_name": "HBoxModel",
            "_view_module": "@jupyter-widgets/controls",
            "_model_module_version": "1.5.0",
            "_view_count": null,
            "_view_module_version": "1.5.0",
            "box_style": "",
            "layout": "IPY_MODEL_06e9abccb2cd447c940e006b691f7cf5",
            "_model_module": "@jupyter-widgets/controls",
            "children": [
              "IPY_MODEL_0b46f86d2446472098196ba59432da45",
              "IPY_MODEL_010ec390ba71476ba7af7eb16f075618"
            ]
          }
        },
        "beb531e722a74e9182d62423accd4d70": {
          "model_module": "@jupyter-widgets/controls",
          "model_name": "HBoxModel",
          "state": {
            "_view_name": "HBoxView",
            "_dom_classes": [],
            "_model_name": "HBoxModel",
            "_view_module": "@jupyter-widgets/controls",
            "_model_module_version": "1.5.0",
            "_view_count": null,
            "_view_module_version": "1.5.0",
            "box_style": "",
            "layout": "IPY_MODEL_d3d928bb2f0d421985fe50e4cdf3f4ce",
            "_model_module": "@jupyter-widgets/controls",
            "children": [
              "IPY_MODEL_be063e1a8c554819a48916b0670ba9ea",
              "IPY_MODEL_f7f944b4a31a46749cf234ff9e240b7f"
            ]
          }
        },
        "db7039f610e6406392d91ce51b6fd334": {
          "model_module": "@jupyter-widgets/controls",
          "model_name": "HBoxModel",
          "state": {
            "_view_name": "HBoxView",
            "_dom_classes": [],
            "_model_name": "HBoxModel",
            "_view_module": "@jupyter-widgets/controls",
            "_model_module_version": "1.5.0",
            "_view_count": null,
            "_view_module_version": "1.5.0",
            "box_style": "",
            "layout": "IPY_MODEL_72a9ffe89e9540949681f3b9bbb4e1ec",
            "_model_module": "@jupyter-widgets/controls",
            "children": [
              "IPY_MODEL_880a92fce62643088b2c5305df6eb325",
              "IPY_MODEL_293cac353b8643349372e1ac4ce14235"
            ]
          }
        },
        "7a1a9dabd19e4f208c0d10acee775c10": {
          "model_module": "@jupyter-widgets/controls",
          "model_name": "HBoxModel",
          "state": {
            "_view_name": "HBoxView",
            "_dom_classes": [],
            "_model_name": "HBoxModel",
            "_view_module": "@jupyter-widgets/controls",
            "_model_module_version": "1.5.0",
            "_view_count": null,
            "_view_module_version": "1.5.0",
            "box_style": "",
            "layout": "IPY_MODEL_692a611f02974865b6fbf81066a2f9a1",
            "_model_module": "@jupyter-widgets/controls",
            "children": [
              "IPY_MODEL_c195a05e128b47e397729a2583c96710",
              "IPY_MODEL_abb30f2cce5d4a4181e47ab608f5fd45"
            ]
          }
        },
        "f35d7ca0b0ce4ecd9bc794eaeed70535": {
          "model_module": "@jupyter-widgets/controls",
          "model_name": "HBoxModel",
          "state": {
            "_view_name": "HBoxView",
            "_dom_classes": [],
            "_model_name": "HBoxModel",
            "_view_module": "@jupyter-widgets/controls",
            "_model_module_version": "1.5.0",
            "_view_count": null,
            "_view_module_version": "1.5.0",
            "box_style": "",
            "layout": "IPY_MODEL_19e4f17ba75644d5820465437d4771f7",
            "_model_module": "@jupyter-widgets/controls",
            "children": [
              "IPY_MODEL_6e01e44e521f49768f753e1ee6fc8299",
              "IPY_MODEL_7adfbb5269df4698b3727ecd2a7d357c"
            ]
          }
        },
        "31f782e27da94e2489ce7cb59569cd6a": {
          "model_module": "@jupyter-widgets/controls",
          "model_name": "HBoxModel",
          "state": {
            "_view_name": "HBoxView",
            "_dom_classes": [],
            "_model_name": "HBoxModel",
            "_view_module": "@jupyter-widgets/controls",
            "_model_module_version": "1.5.0",
            "_view_count": null,
            "_view_module_version": "1.5.0",
            "box_style": "",
            "layout": "IPY_MODEL_69823078840849438cbc7f078da22771",
            "_model_module": "@jupyter-widgets/controls",
            "children": [
              "IPY_MODEL_16c955e613444751a81ed6f0b929fc84",
              "IPY_MODEL_3901757eb78b422098f706bb60ab3cb9"
            ]
          }
        },
        "cb2d648e60f8416cbdb0c70db3e09362": {
          "model_module": "@jupyter-widgets/controls",
          "model_name": "HBoxModel",
          "state": {
            "_view_name": "HBoxView",
            "_dom_classes": [],
            "_model_name": "HBoxModel",
            "_view_module": "@jupyter-widgets/controls",
            "_model_module_version": "1.5.0",
            "_view_count": null,
            "_view_module_version": "1.5.0",
            "box_style": "",
            "layout": "IPY_MODEL_6f6373bc3ff24869b6e2d17dad00e43e",
            "_model_module": "@jupyter-widgets/controls",
            "children": [
              "IPY_MODEL_8b6bf3d10ef5489f895165d6cc74b014",
              "IPY_MODEL_f7fdbc45e358450d9851d338f5df9611"
            ]
          }
        },
        "f38b02e758d345ed808e3b5f1c3a2f52": {
          "model_module": "@jupyter-widgets/controls",
          "model_name": "HBoxModel",
          "state": {
            "_view_name": "HBoxView",
            "_dom_classes": [],
            "_model_name": "HBoxModel",
            "_view_module": "@jupyter-widgets/controls",
            "_model_module_version": "1.5.0",
            "_view_count": null,
            "_view_module_version": "1.5.0",
            "box_style": "",
            "layout": "IPY_MODEL_d238e153abd0404cb8105b52519b1b6f",
            "_model_module": "@jupyter-widgets/controls",
            "children": [
              "IPY_MODEL_3bcce590cd934c309d4350bd7480f4d9",
              "IPY_MODEL_1db190a5992549eb8190b35d39592061"
            ]
          }
        },
        "f6e4717c08aa402390c68d9bd1ab52df": {
          "model_module": "@jupyter-widgets/controls",
          "model_name": "HBoxModel",
          "state": {
            "_view_name": "HBoxView",
            "_dom_classes": [],
            "_model_name": "HBoxModel",
            "_view_module": "@jupyter-widgets/controls",
            "_model_module_version": "1.5.0",
            "_view_count": null,
            "_view_module_version": "1.5.0",
            "box_style": "",
            "layout": "IPY_MODEL_b130081d213b4a9098693ac02abb1e46",
            "_model_module": "@jupyter-widgets/controls",
            "children": [
              "IPY_MODEL_dcea7dd2b75b4706a8c64b3347f24403",
              "IPY_MODEL_aef870c41c304a5cbe6c59c52c700034"
            ]
          }
        },
        "a572f9183652498690f82050eeea2ecc": {
          "model_module": "@jupyter-widgets/controls",
          "model_name": "HBoxModel",
          "state": {
            "_view_name": "HBoxView",
            "_dom_classes": [],
            "_model_name": "HBoxModel",
            "_view_module": "@jupyter-widgets/controls",
            "_model_module_version": "1.5.0",
            "_view_count": null,
            "_view_module_version": "1.5.0",
            "box_style": "",
            "layout": "IPY_MODEL_2dcc4aaad2274129b618fbe362e58482",
            "_model_module": "@jupyter-widgets/controls",
            "children": [
              "IPY_MODEL_037c094513bd45eaa77f13b842b3662b",
              "IPY_MODEL_7258d1dbd29d4df29f09cf7d8b210c1e"
            ]
          }
        },
        "708d99c73f5d4a518ce3400d5aea8757": {
          "model_module": "@jupyter-widgets/controls",
          "model_name": "HBoxModel",
          "state": {
            "_view_name": "HBoxView",
            "_dom_classes": [],
            "_model_name": "HBoxModel",
            "_view_module": "@jupyter-widgets/controls",
            "_model_module_version": "1.5.0",
            "_view_count": null,
            "_view_module_version": "1.5.0",
            "box_style": "",
            "layout": "IPY_MODEL_45b003c49cca46ccb818337ba574de31",
            "_model_module": "@jupyter-widgets/controls",
            "children": [
              "IPY_MODEL_37f9c9d41e764ac19cc6b59158ef76ec",
              "IPY_MODEL_315a71b2ba0549e29bffcb736f7e499e"
            ]
          }
        },
        "fceebe9a1d944940a8d1639c9c4d9c36": {
          "model_module": "@jupyter-widgets/controls",
          "model_name": "HBoxModel",
          "state": {
            "_view_name": "HBoxView",
            "_dom_classes": [],
            "_model_name": "HBoxModel",
            "_view_module": "@jupyter-widgets/controls",
            "_model_module_version": "1.5.0",
            "_view_count": null,
            "_view_module_version": "1.5.0",
            "box_style": "",
            "layout": "IPY_MODEL_799585076c9344c588d22a889681f12a",
            "_model_module": "@jupyter-widgets/controls",
            "children": [
              "IPY_MODEL_8bbdc472e6af447d911cfebec443296a",
              "IPY_MODEL_514cda1a1f6549b797509629656e76b3"
            ]
          }
        },
        "c839491e65aa4eb89c83b22253d9ca43": {
          "model_module": "@jupyter-widgets/controls",
          "model_name": "HBoxModel",
          "state": {
            "_view_name": "HBoxView",
            "_dom_classes": [],
            "_model_name": "HBoxModel",
            "_view_module": "@jupyter-widgets/controls",
            "_model_module_version": "1.5.0",
            "_view_count": null,
            "_view_module_version": "1.5.0",
            "box_style": "",
            "layout": "IPY_MODEL_f2a9fd222f604982b1f15631af7992a2",
            "_model_module": "@jupyter-widgets/controls",
            "children": [
              "IPY_MODEL_f71041b5cca848cda5e91cb8a350e97d",
              "IPY_MODEL_2099c149645444eaafd5e6f867193804"
            ]
          }
        },
        "6c79b100d4a94eeba6b6cc59e26ec5be": {
          "model_module": "@jupyter-widgets/controls",
          "model_name": "HBoxModel",
          "state": {
            "_view_name": "HBoxView",
            "_dom_classes": [],
            "_model_name": "HBoxModel",
            "_view_module": "@jupyter-widgets/controls",
            "_model_module_version": "1.5.0",
            "_view_count": null,
            "_view_module_version": "1.5.0",
            "box_style": "",
            "layout": "IPY_MODEL_dd4aa492cf2f4473a91aa18b1dc81555",
            "_model_module": "@jupyter-widgets/controls",
            "children": [
              "IPY_MODEL_8d94ca3d68324201baa0fe070e33bc57",
              "IPY_MODEL_e0a6578eeead47f39bcc849110d07cbc"
            ]
          }
        },
        "fcff28a9d7954d8cae9e10b3b27e5daf": {
          "model_module": "@jupyter-widgets/controls",
          "model_name": "HBoxModel",
          "state": {
            "_view_name": "HBoxView",
            "_dom_classes": [],
            "_model_name": "HBoxModel",
            "_view_module": "@jupyter-widgets/controls",
            "_model_module_version": "1.5.0",
            "_view_count": null,
            "_view_module_version": "1.5.0",
            "box_style": "",
            "layout": "IPY_MODEL_f1eb365e7b024ff482e9126e1532ac83",
            "_model_module": "@jupyter-widgets/controls",
            "children": [
              "IPY_MODEL_7b9da661bc1a429eb3e07b56f6b975ad",
              "IPY_MODEL_339d2cf291a944689e66b876b148f965"
            ]
          }
        },
        "27d28ae74aab45a0b84116c0347cf388": {
          "model_module": "@jupyter-widgets/controls",
          "model_name": "HBoxModel",
          "state": {
            "_view_name": "HBoxView",
            "_dom_classes": [],
            "_model_name": "HBoxModel",
            "_view_module": "@jupyter-widgets/controls",
            "_model_module_version": "1.5.0",
            "_view_count": null,
            "_view_module_version": "1.5.0",
            "box_style": "",
            "layout": "IPY_MODEL_cee59bd24eae42b6b8d31ed8d2d224e4",
            "_model_module": "@jupyter-widgets/controls",
            "children": [
              "IPY_MODEL_7eb543b091cb45c79435dd3d070ec35f",
              "IPY_MODEL_aee446ff8e8c4ca1badc460a1ceabb77"
            ]
          }
        },
        "5d0a9843eda94e6bbc76ad316c0351e7": {
          "model_module": "@jupyter-widgets/controls",
          "model_name": "HBoxModel",
          "state": {
            "_view_name": "HBoxView",
            "_dom_classes": [],
            "_model_name": "HBoxModel",
            "_view_module": "@jupyter-widgets/controls",
            "_model_module_version": "1.5.0",
            "_view_count": null,
            "_view_module_version": "1.5.0",
            "box_style": "",
            "layout": "IPY_MODEL_f20e0f0cd4ff4582b74b1ab8062c0425",
            "_model_module": "@jupyter-widgets/controls",
            "children": [
              "IPY_MODEL_da0448c876ce4335b3390942b5e2bf30",
              "IPY_MODEL_a6b1039bd3e84be88e99a3376fc66311"
            ]
          }
        },
        "9ab4a13ef44340c0b8b92594951f1737": {
          "model_module": "@jupyter-widgets/controls",
          "model_name": "HBoxModel",
          "state": {
            "_view_name": "HBoxView",
            "_dom_classes": [],
            "_model_name": "HBoxModel",
            "_view_module": "@jupyter-widgets/controls",
            "_model_module_version": "1.5.0",
            "_view_count": null,
            "_view_module_version": "1.5.0",
            "box_style": "",
            "layout": "IPY_MODEL_f9b554e315dd49b4b8ef3f79bd2113f9",
            "_model_module": "@jupyter-widgets/controls",
            "children": [
              "IPY_MODEL_e606d6605e8c4910af65b444f3044609",
              "IPY_MODEL_c48f9da9d8714369bb8ddb01d180a09a"
            ]
          }
        },
        "ba401150ee8a4eb79f18f97db7761f0e": {
          "model_module": "@jupyter-widgets/controls",
          "model_name": "HBoxModel",
          "state": {
            "_view_name": "HBoxView",
            "_dom_classes": [],
            "_model_name": "HBoxModel",
            "_view_module": "@jupyter-widgets/controls",
            "_model_module_version": "1.5.0",
            "_view_count": null,
            "_view_module_version": "1.5.0",
            "box_style": "",
            "layout": "IPY_MODEL_02f6def5cab54a0ea1dcc6c6f22ab1c5",
            "_model_module": "@jupyter-widgets/controls",
            "children": [
              "IPY_MODEL_4ea522d2934842c2a465ddedefe6e983",
              "IPY_MODEL_90fbfc9b1f914ee9bddb8e72065a65af"
            ]
          }
        },
        "bb35c783d3654ce694e9c6071d07439f": {
          "model_module": "@jupyter-widgets/controls",
          "model_name": "HBoxModel",
          "state": {
            "_view_name": "HBoxView",
            "_dom_classes": [],
            "_model_name": "HBoxModel",
            "_view_module": "@jupyter-widgets/controls",
            "_model_module_version": "1.5.0",
            "_view_count": null,
            "_view_module_version": "1.5.0",
            "box_style": "",
            "layout": "IPY_MODEL_2db8940b99124d0cba1542ac6ca55b89",
            "_model_module": "@jupyter-widgets/controls",
            "children": [
              "IPY_MODEL_74c7711187c14eb886e2ffd98d6b1b32",
              "IPY_MODEL_f1e0fc554d4b4cc7b6051a6268f023a8"
            ]
          }
        },
        "03b9120c049b4246bc7926fd68996105": {
          "model_module": "@jupyter-widgets/controls",
          "model_name": "HBoxModel",
          "state": {
            "_view_name": "HBoxView",
            "_dom_classes": [],
            "_model_name": "HBoxModel",
            "_view_module": "@jupyter-widgets/controls",
            "_model_module_version": "1.5.0",
            "_view_count": null,
            "_view_module_version": "1.5.0",
            "box_style": "",
            "layout": "IPY_MODEL_3d60bb4ae9184e119aafdbc0ab631a05",
            "_model_module": "@jupyter-widgets/controls",
            "children": [
              "IPY_MODEL_d565d552f8bb431d946344d33cf2c6e3",
              "IPY_MODEL_bc586233c99e4b3d808b35d92d64224b"
            ]
          }
        },
        "74344fb0a8ae476eb4d891d68acb794c": {
          "model_module": "@jupyter-widgets/controls",
          "model_name": "HBoxModel",
          "state": {
            "_view_name": "HBoxView",
            "_dom_classes": [],
            "_model_name": "HBoxModel",
            "_view_module": "@jupyter-widgets/controls",
            "_model_module_version": "1.5.0",
            "_view_count": null,
            "_view_module_version": "1.5.0",
            "box_style": "",
            "layout": "IPY_MODEL_c20dffa0dd2d48d9b144e1102f921387",
            "_model_module": "@jupyter-widgets/controls",
            "children": [
              "IPY_MODEL_4a58dcf863b24486b3dcff4a662a1b3c",
              "IPY_MODEL_1c2ba2437ab04500b4f89a0c6941568b"
            ]
          }
        },
        "32520527419e44409f2b2584c45e8479": {
          "model_module": "@jupyter-widgets/controls",
          "model_name": "HBoxModel",
          "state": {
            "_view_name": "HBoxView",
            "_dom_classes": [],
            "_model_name": "HBoxModel",
            "_view_module": "@jupyter-widgets/controls",
            "_model_module_version": "1.5.0",
            "_view_count": null,
            "_view_module_version": "1.5.0",
            "box_style": "",
            "layout": "IPY_MODEL_297bd6f3be0a4a1daa0200307b400e2b",
            "_model_module": "@jupyter-widgets/controls",
            "children": [
              "IPY_MODEL_8badaa2bc756474cacea1df892fa90df",
              "IPY_MODEL_783e37dc0fe84b059a2d1d84d8643726"
            ]
          }
        },
        "f85cb7a306cc49dcbed55a533a8ea789": {
          "model_module": "@jupyter-widgets/controls",
          "model_name": "HBoxModel",
          "state": {
            "_view_name": "HBoxView",
            "_dom_classes": [],
            "_model_name": "HBoxModel",
            "_view_module": "@jupyter-widgets/controls",
            "_model_module_version": "1.5.0",
            "_view_count": null,
            "_view_module_version": "1.5.0",
            "box_style": "",
            "layout": "IPY_MODEL_b27d268d1dea486fbb72e94219317f43",
            "_model_module": "@jupyter-widgets/controls",
            "children": [
              "IPY_MODEL_60826b45fbfe4213a54c1f3547dca1b1",
              "IPY_MODEL_a9ab4e727a77485882d6fc2af18838e7"
            ]
          }
        },
        "4e644bdbaeb249a2a47b5b36694a6f66": {
          "model_module": "@jupyter-widgets/controls",
          "model_name": "HBoxModel",
          "state": {
            "_view_name": "HBoxView",
            "_dom_classes": [],
            "_model_name": "HBoxModel",
            "_view_module": "@jupyter-widgets/controls",
            "_model_module_version": "1.5.0",
            "_view_count": null,
            "_view_module_version": "1.5.0",
            "box_style": "",
            "layout": "IPY_MODEL_c0cd71550644434493ca3f4e0ca03ca3",
            "_model_module": "@jupyter-widgets/controls",
            "children": [
              "IPY_MODEL_e84b3bcb0be04ac6ba714650e25d53aa",
              "IPY_MODEL_90af2dc105474db2a15bf7fef3b4ee16"
            ]
          }
        },
        "5fb22d613b6d4b8abf5db512c9b3c1bb": {
          "model_module": "@jupyter-widgets/controls",
          "model_name": "HBoxModel",
          "state": {
            "_view_name": "HBoxView",
            "_dom_classes": [],
            "_model_name": "HBoxModel",
            "_view_module": "@jupyter-widgets/controls",
            "_model_module_version": "1.5.0",
            "_view_count": null,
            "_view_module_version": "1.5.0",
            "box_style": "",
            "layout": "IPY_MODEL_36de2860043a4b7195dd149f5f9c070a",
            "_model_module": "@jupyter-widgets/controls",
            "children": [
              "IPY_MODEL_f0ed2eb0948d4256971e12836427440b",
              "IPY_MODEL_8b2284933aa34f8ab766a027972e16bf"
            ]
          }
        },
        "ab86d44eefef413ba1ea86f9a4264047": {
          "model_module": "@jupyter-widgets/controls",
          "model_name": "HBoxModel",
          "state": {
            "_view_name": "HBoxView",
            "_dom_classes": [],
            "_model_name": "HBoxModel",
            "_view_module": "@jupyter-widgets/controls",
            "_model_module_version": "1.5.0",
            "_view_count": null,
            "_view_module_version": "1.5.0",
            "box_style": "",
            "layout": "IPY_MODEL_a7277e2f8d6f42fc9b8462e4b611ee93",
            "_model_module": "@jupyter-widgets/controls",
            "children": [
              "IPY_MODEL_893376f07b27483fbfab9a4ce31f292f",
              "IPY_MODEL_bec068f8c0084f5186a9a2cf603b0468"
            ]
          }
        },
        "61b72bb501d844a9b38f03b3b481bc14": {
          "model_module": "@jupyter-widgets/controls",
          "model_name": "HBoxModel",
          "state": {
            "_view_name": "HBoxView",
            "_dom_classes": [],
            "_model_name": "HBoxModel",
            "_view_module": "@jupyter-widgets/controls",
            "_model_module_version": "1.5.0",
            "_view_count": null,
            "_view_module_version": "1.5.0",
            "box_style": "",
            "layout": "IPY_MODEL_940ef582a6c941388ea1fb0af0698f3e",
            "_model_module": "@jupyter-widgets/controls",
            "children": [
              "IPY_MODEL_97cccc3a2f1244028d17f55612ddc926",
              "IPY_MODEL_d6d7397225074ed4b92b8a7905d3100b"
            ]
          }
        },
        "684461f159b1407db3b084cc97367b5d": {
          "model_module": "@jupyter-widgets/controls",
          "model_name": "HBoxModel",
          "state": {
            "_view_name": "HBoxView",
            "_dom_classes": [],
            "_model_name": "HBoxModel",
            "_view_module": "@jupyter-widgets/controls",
            "_model_module_version": "1.5.0",
            "_view_count": null,
            "_view_module_version": "1.5.0",
            "box_style": "",
            "layout": "IPY_MODEL_5e3cea58299c4c599987012d0dfd9a7b",
            "_model_module": "@jupyter-widgets/controls",
            "children": [
              "IPY_MODEL_852205558e444a1c80f6b997e3681de9",
              "IPY_MODEL_eb3e6b6b5e5d45cb81323d47766e9c80"
            ]
          }
        },
        "2a380517cb064ea1a898adb3ee94753d": {
          "model_module": "@jupyter-widgets/controls",
          "model_name": "HBoxModel",
          "state": {
            "_view_name": "HBoxView",
            "_dom_classes": [],
            "_model_name": "HBoxModel",
            "_view_module": "@jupyter-widgets/controls",
            "_model_module_version": "1.5.0",
            "_view_count": null,
            "_view_module_version": "1.5.0",
            "box_style": "",
            "layout": "IPY_MODEL_76279474b579411a86757dec41d694a4",
            "_model_module": "@jupyter-widgets/controls",
            "children": [
              "IPY_MODEL_ed80e32c8a4f4d28b1021b9970c0b21a",
              "IPY_MODEL_3b616c9473aa4489b891233352fff952"
            ]
          }
        },
        "d42e476f9489418693aa2ae31b6d8fb9": {
          "model_module": "@jupyter-widgets/controls",
          "model_name": "HBoxModel",
          "state": {
            "_view_name": "HBoxView",
            "_dom_classes": [],
            "_model_name": "HBoxModel",
            "_view_module": "@jupyter-widgets/controls",
            "_model_module_version": "1.5.0",
            "_view_count": null,
            "_view_module_version": "1.5.0",
            "box_style": "",
            "layout": "IPY_MODEL_be30c3d687be4508be65ef193fa2ef4f",
            "_model_module": "@jupyter-widgets/controls",
            "children": [
              "IPY_MODEL_26517eec8cae4c3ba4ac877465db76b6",
              "IPY_MODEL_bb9df4d231d34fd9b3475b077484f28d"
            ]
          }
        },
        "2ea26f0a16a745d6a484486ea6e501fc": {
          "model_module": "@jupyter-widgets/controls",
          "model_name": "HBoxModel",
          "state": {
            "_view_name": "HBoxView",
            "_dom_classes": [],
            "_model_name": "HBoxModel",
            "_view_module": "@jupyter-widgets/controls",
            "_model_module_version": "1.5.0",
            "_view_count": null,
            "_view_module_version": "1.5.0",
            "box_style": "",
            "layout": "IPY_MODEL_6c6338696f094085be1537c6f26c825b",
            "_model_module": "@jupyter-widgets/controls",
            "children": [
              "IPY_MODEL_58ad316e030f416e88bbaba946f6b1a2",
              "IPY_MODEL_22270aa6365c4fa8b072a114b194095e"
            ]
          }
        },
        "957c4117211348faa938fcf45242e09e": {
          "model_module": "@jupyter-widgets/controls",
          "model_name": "HBoxModel",
          "state": {
            "_view_name": "HBoxView",
            "_dom_classes": [],
            "_model_name": "HBoxModel",
            "_view_module": "@jupyter-widgets/controls",
            "_model_module_version": "1.5.0",
            "_view_count": null,
            "_view_module_version": "1.5.0",
            "box_style": "",
            "layout": "IPY_MODEL_38efcaacdd7f43839ed1f88f713f2f00",
            "_model_module": "@jupyter-widgets/controls",
            "children": [
              "IPY_MODEL_f7ac312bfc5f4af48fcc7bee7361b92d",
              "IPY_MODEL_48830cb5d4484745a0088158408e2363"
            ]
          }
        },
        "7b8e5f4dd2ed4f9c9dd74c1c9abf2dc9": {
          "model_module": "@jupyter-widgets/controls",
          "model_name": "HBoxModel",
          "state": {
            "_view_name": "HBoxView",
            "_dom_classes": [],
            "_model_name": "HBoxModel",
            "_view_module": "@jupyter-widgets/controls",
            "_model_module_version": "1.5.0",
            "_view_count": null,
            "_view_module_version": "1.5.0",
            "box_style": "",
            "layout": "IPY_MODEL_0b7df1df81824fbc9ae065f9e88d7d59",
            "_model_module": "@jupyter-widgets/controls",
            "children": [
              "IPY_MODEL_d2af8ce34dba4d08925785da1854c432",
              "IPY_MODEL_599f73184250439cb6ea08e573f83597"
            ]
          }
        },
        "4129b2f02b24432981f72373bf64dd74": {
          "model_module": "@jupyter-widgets/controls",
          "model_name": "HBoxModel",
          "state": {
            "_view_name": "HBoxView",
            "_dom_classes": [],
            "_model_name": "HBoxModel",
            "_view_module": "@jupyter-widgets/controls",
            "_model_module_version": "1.5.0",
            "_view_count": null,
            "_view_module_version": "1.5.0",
            "box_style": "",
            "layout": "IPY_MODEL_d78f2ac58daa474985d5565a4858cc2f",
            "_model_module": "@jupyter-widgets/controls",
            "children": [
              "IPY_MODEL_53a711781f184a9eb7e06e0b2eae75a6",
              "IPY_MODEL_7498a63545304f7581801a6d0180f93d"
            ]
          }
        },
        "26ec87c78f41475391d65b9080ea8b07": {
          "model_module": "@jupyter-widgets/controls",
          "model_name": "HBoxModel",
          "state": {
            "_view_name": "HBoxView",
            "_dom_classes": [],
            "_model_name": "HBoxModel",
            "_view_module": "@jupyter-widgets/controls",
            "_model_module_version": "1.5.0",
            "_view_count": null,
            "_view_module_version": "1.5.0",
            "box_style": "",
            "layout": "IPY_MODEL_efb3a33fde8c4cbb99f198956f822bf8",
            "_model_module": "@jupyter-widgets/controls",
            "children": [
              "IPY_MODEL_a2d1891e743b422598c1cdc43ac181f0",
              "IPY_MODEL_00861e8934fb4e4695fbabe476274eab"
            ]
          }
        },
        "79b5db2ca414447e93ebc29a592ec4ac": {
          "model_module": "@jupyter-widgets/controls",
          "model_name": "HBoxModel",
          "state": {
            "_view_name": "HBoxView",
            "_dom_classes": [],
            "_model_name": "HBoxModel",
            "_view_module": "@jupyter-widgets/controls",
            "_model_module_version": "1.5.0",
            "_view_count": null,
            "_view_module_version": "1.5.0",
            "box_style": "",
            "layout": "IPY_MODEL_cba3c5a8d16847babc6c0bec9a618a6e",
            "_model_module": "@jupyter-widgets/controls",
            "children": [
              "IPY_MODEL_56942e72cdb34df18e9b02ef2c6de4bd",
              "IPY_MODEL_6bde5443529e47ee833d77c40d64ecff"
            ]
          }
        },
        "12a8622a7525422e922c89f336dd9fee": {
          "model_module": "@jupyter-widgets/controls",
          "model_name": "HBoxModel",
          "state": {
            "_view_name": "HBoxView",
            "_dom_classes": [],
            "_model_name": "HBoxModel",
            "_view_module": "@jupyter-widgets/controls",
            "_model_module_version": "1.5.0",
            "_view_count": null,
            "_view_module_version": "1.5.0",
            "box_style": "",
            "layout": "IPY_MODEL_ed52c66df60742a58ab4efd93e5ea3dc",
            "_model_module": "@jupyter-widgets/controls",
            "children": [
              "IPY_MODEL_330afb8c1e9b44558e6646d6a13206cc",
              "IPY_MODEL_be814ffc96624c268b57b5cb9a980763"
            ]
          }
        },
        "188e4d66607b4e108fa42c84ddf65ffb": {
          "model_module": "@jupyter-widgets/controls",
          "model_name": "HBoxModel",
          "state": {
            "_view_name": "HBoxView",
            "_dom_classes": [],
            "_model_name": "HBoxModel",
            "_view_module": "@jupyter-widgets/controls",
            "_model_module_version": "1.5.0",
            "_view_count": null,
            "_view_module_version": "1.5.0",
            "box_style": "",
            "layout": "IPY_MODEL_6443ebe7a8884ef2b3a109eea79905f1",
            "_model_module": "@jupyter-widgets/controls",
            "children": [
              "IPY_MODEL_ef40bf14310543708d02a7dea3e52c48",
              "IPY_MODEL_2f9b473adf124170bbb319c1fef97178"
            ]
          }
        },
        "99a3d9a64995481a84dca052eecf5955": {
          "model_module": "@jupyter-widgets/controls",
          "model_name": "HBoxModel",
          "state": {
            "_view_name": "HBoxView",
            "_dom_classes": [],
            "_model_name": "HBoxModel",
            "_view_module": "@jupyter-widgets/controls",
            "_model_module_version": "1.5.0",
            "_view_count": null,
            "_view_module_version": "1.5.0",
            "box_style": "",
            "layout": "IPY_MODEL_b9760ff1e49049f3b62ffcf577f5f76d",
            "_model_module": "@jupyter-widgets/controls",
            "children": [
              "IPY_MODEL_48f10cabbecd49ed96e4687bcee3c919",
              "IPY_MODEL_1613dacfda7846b5b68de9e8cc04ad5c"
            ]
          }
        }
      }
    }
  },
  "cells": [
    {
      "cell_type": "code",
      "metadata": {
        "id": "P-AhVYeBWgQ3",
        "colab_type": "code",
        "colab": {
          "base_uri": "https://localhost:8080/",
          "height": 80
        },
        "outputId": "657e1e49-b327-4b13-acc0-e04c94b80a13"
      },
      "source": [
        "# NOTE: PLEASE MAKE SURE YOU ARE RUNNING THIS IN A PYTHON3 ENVIRONMENT\n",
        "\n",
        "import tensorflow as tf\n",
        "print(tf.__version__)\n",
        "\n",
        "# This is needed for the iterator over the data\n",
        "# But not necessary if you have TF 2.0 installed\n",
        "#!pip install tensorflow==2.0.0-beta0\n",
        "\n",
        "\n",
        "tf.enable_eager_execution()\n",
        "\n",
        "# !pip install -q tensorflow-datasets"
      ],
      "execution_count": 1,
      "outputs": [
        {
          "output_type": "display_data",
          "data": {
            "text/html": [
              "<p style=\"color: red;\">\n",
              "The default version of TensorFlow in Colab will soon switch to TensorFlow 2.x.<br>\n",
              "We recommend you <a href=\"https://www.tensorflow.org/guide/migrate\" target=\"_blank\">upgrade</a> now \n",
              "or ensure your notebook will continue to use TensorFlow 1.x via the <code>%tensorflow_version 1.x</code> magic:\n",
              "<a href=\"https://colab.research.google.com/notebooks/tensorflow_version.ipynb\" target=\"_blank\">more info</a>.</p>\n"
            ],
            "text/plain": [
              "<IPython.core.display.HTML object>"
            ]
          },
          "metadata": {
            "tags": []
          }
        },
        {
          "output_type": "stream",
          "text": [
            "1.15.0\n"
          ],
          "name": "stdout"
        }
      ]
    },
    {
      "cell_type": "code",
      "metadata": {
        "id": "_IoM4VFxWpMR",
        "colab_type": "code",
        "colab": {
          "base_uri": "https://localhost:8080/",
          "height": 258,
          "referenced_widgets": [
            "7962b34fac914d24bc595ab98d6f289c",
            "f01c59ef7642474eb5a382a558f3a3e2",
            "af9efa40f7ac4585ab7c4f58f6aad90d",
            "456b1a0d7d794081b1bae1108b284cab",
            "c7e253bf313a453489568542c41ca7aa",
            "27d9bac9c9f74d28b04a47d32571fd48",
            "f44fd91f34574bc7bac90559d392804c",
            "c0dd260c7d664625aa9e73e7b4ff9849",
            "09fd509e4ff3431d82f5be12a9ce0a77",
            "5a068995daa44926b0a531fb5724b1e9",
            "4595d701648b4605b4b48b7dded4fe5c",
            "d6b5f0cbede54a8bbd39447e1b120a4e",
            "e8fde260b92e4c2e9013c18df8b0e132",
            "26dbd12a3a604d70944ed8566d9c73f0",
            "edc7bc505b824651ba44187a3a43f26c",
            "dc04c1cdce0e4ccdb2b8a300ae1d6f70",
            "d346486cd5864ec097403206fa1048fe",
            "74230b4db1d94682ba7d4da3de18fb25",
            "a7dd71a439f54d01829cb01aa9ad682a",
            "350ab0b46b0347d8b16fe9a54e4f68f7",
            "c8acd6ba1333469c94bbdcc99ff771b2",
            "bbb1f9a256a64288aa40a4dcaaba2f25",
            "fb63ff950d284908b33bd370dc0cf10a",
            "d2a220f1140049ea91bc752ef1a380cc",
            "028f6bed645b47fbb54f6ae7ccbff3a6",
            "ac089b1228354958be28171008cbaa49",
            "fc00aa0b96df4a209d14562b2b0640af",
            "9e717638ecb04ff98510d1376e1b2ce2",
            "6e03f65f4993406ab3501daadc8e57c9",
            "7748e071888d49f6b2eeb34d23dabb40",
            "2eca5936b2d04c4db213391a5b9d69cb",
            "91e03f5c76314c67a3fddf73c200feec",
            "cc9f1cc461874d2386ef44687e5fe6c0",
            "6d2e79d4b4004a6ab311019bb129a619",
            "1ea74c9639c54215a6383c7bda101367",
            "745f46953edd41b1912d2dff0e833d2c",
            "8d51015124fa493794f6c1d46f7f3414",
            "74f5a97aff7c4d1e8eac14be400ef7d9",
            "100e4a04dbd841d2a7d89036eb748ae8",
            "442667fe600e4f2391bd79cec04d5905",
            "fd442c05f3b44b88b63972ab211c84ad",
            "77023616c83340879f99fa94a9b63e42",
            "ad7777988d0b4bd78222373661c454a3",
            "b4f55efce4e14f01a6a4241d814e364d",
            "769270b781c4472c86697727f8ddaa20",
            "981571cb810f43b9b07a2791b431ff21",
            "1c3ba598061f4a4e98204ebe93c87c4b",
            "f3cc1234a8f24f96881a89932ca839cf",
            "d23d1eb2b39a46f390368d4746558ddc",
            "beb531e722a74e9182d62423accd4d70",
            "db7039f610e6406392d91ce51b6fd334",
            "7a1a9dabd19e4f208c0d10acee775c10",
            "f35d7ca0b0ce4ecd9bc794eaeed70535",
            "31f782e27da94e2489ce7cb59569cd6a",
            "cb2d648e60f8416cbdb0c70db3e09362",
            "f38b02e758d345ed808e3b5f1c3a2f52",
            "f6e4717c08aa402390c68d9bd1ab52df",
            "a572f9183652498690f82050eeea2ecc",
            "708d99c73f5d4a518ce3400d5aea8757",
            "fceebe9a1d944940a8d1639c9c4d9c36",
            "c839491e65aa4eb89c83b22253d9ca43",
            "6c79b100d4a94eeba6b6cc59e26ec5be",
            "fcff28a9d7954d8cae9e10b3b27e5daf",
            "27d28ae74aab45a0b84116c0347cf388",
            "5d0a9843eda94e6bbc76ad316c0351e7",
            "9ab4a13ef44340c0b8b92594951f1737",
            "ba401150ee8a4eb79f18f97db7761f0e",
            "bb35c783d3654ce694e9c6071d07439f",
            "03b9120c049b4246bc7926fd68996105",
            "74344fb0a8ae476eb4d891d68acb794c",
            "32520527419e44409f2b2584c45e8479",
            "f85cb7a306cc49dcbed55a533a8ea789",
            "4e644bdbaeb249a2a47b5b36694a6f66",
            "5fb22d613b6d4b8abf5db512c9b3c1bb",
            "ab86d44eefef413ba1ea86f9a4264047",
            "61b72bb501d844a9b38f03b3b481bc14",
            "684461f159b1407db3b084cc97367b5d",
            "2a380517cb064ea1a898adb3ee94753d",
            "d42e476f9489418693aa2ae31b6d8fb9",
            "2ea26f0a16a745d6a484486ea6e501fc",
            "957c4117211348faa938fcf45242e09e",
            "7b8e5f4dd2ed4f9c9dd74c1c9abf2dc9",
            "4129b2f02b24432981f72373bf64dd74",
            "26ec87c78f41475391d65b9080ea8b07",
            "79b5db2ca414447e93ebc29a592ec4ac",
            "12a8622a7525422e922c89f336dd9fee",
            "188e4d66607b4e108fa42c84ddf65ffb",
            "99a3d9a64995481a84dca052eecf5955"
          ]
        },
        "outputId": "6577a3fb-680a-4a70-b316-572abc998e1e"
      },
      "source": [
        "import tensorflow_datasets as tfds\n",
        "imdb, info = tfds.load(\"imdb_reviews\", with_info=True, as_supervised=True)\n"
      ],
      "execution_count": 2,
      "outputs": [
        {
          "output_type": "stream",
          "text": [
            "\u001b[1mDownloading and preparing dataset imdb_reviews (80.23 MiB) to /root/tensorflow_datasets/imdb_reviews/plain_text/0.1.0...\u001b[0m\n"
          ],
          "name": "stdout"
        },
        {
          "output_type": "display_data",
          "data": {
            "application/vnd.jupyter.widget-view+json": {
              "model_id": "7962b34fac914d24bc595ab98d6f289c",
              "version_minor": 0,
              "version_major": 2
            },
            "text/plain": [
              "HBox(children=(IntProgress(value=1, bar_style='info', description='Dl Completed...', max=1, style=ProgressStyl…"
            ]
          },
          "metadata": {
            "tags": []
          }
        },
        {
          "output_type": "display_data",
          "data": {
            "application/vnd.jupyter.widget-view+json": {
              "model_id": "f01c59ef7642474eb5a382a558f3a3e2",
              "version_minor": 0,
              "version_major": 2
            },
            "text/plain": [
              "HBox(children=(IntProgress(value=1, bar_style='info', description='Dl Size...', max=1, style=ProgressStyle(des…"
            ]
          },
          "metadata": {
            "tags": []
          }
        },
        {
          "output_type": "stream",
          "text": [
            "\n",
            "\n",
            "\n"
          ],
          "name": "stdout"
        },
        {
          "output_type": "display_data",
          "data": {
            "application/vnd.jupyter.widget-view+json": {
              "model_id": "af9efa40f7ac4585ab7c4f58f6aad90d",
              "version_minor": 0,
              "version_major": 2
            },
            "text/plain": [
              "HBox(children=(IntProgress(value=1, bar_style='info', max=1), HTML(value='')))"
            ]
          },
          "metadata": {
            "tags": []
          }
        },
        {
          "output_type": "stream",
          "text": [
            "\r"
          ],
          "name": "stdout"
        },
        {
          "output_type": "display_data",
          "data": {
            "application/vnd.jupyter.widget-view+json": {
              "model_id": "456b1a0d7d794081b1bae1108b284cab",
              "version_minor": 0,
              "version_major": 2
            },
            "text/plain": [
              "HBox(children=(IntProgress(value=0, description='Shuffling...', max=10, style=ProgressStyle(description_width=…"
            ]
          },
          "metadata": {
            "tags": []
          }
        },
        {
          "output_type": "stream",
          "text": [
            "WARNING:tensorflow:From /usr/local/lib/python3.6/dist-packages/tensorflow_datasets/core/file_format_adapter.py:209: tf_record_iterator (from tensorflow.python.lib.io.tf_record) is deprecated and will be removed in a future version.\n",
            "Instructions for updating:\n",
            "Use eager execution and: \n",
            "`tf.data.TFRecordDataset(path)`\n"
          ],
          "name": "stdout"
        },
        {
          "output_type": "stream",
          "text": [
            "WARNING:tensorflow:From /usr/local/lib/python3.6/dist-packages/tensorflow_datasets/core/file_format_adapter.py:209: tf_record_iterator (from tensorflow.python.lib.io.tf_record) is deprecated and will be removed in a future version.\n",
            "Instructions for updating:\n",
            "Use eager execution and: \n",
            "`tf.data.TFRecordDataset(path)`\n"
          ],
          "name": "stderr"
        },
        {
          "output_type": "display_data",
          "data": {
            "application/vnd.jupyter.widget-view+json": {
              "model_id": "c7e253bf313a453489568542c41ca7aa",
              "version_minor": 0,
              "version_major": 2
            },
            "text/plain": [
              "HBox(children=(IntProgress(value=1, bar_style='info', description='Reading...', max=1, style=ProgressStyle(des…"
            ]
          },
          "metadata": {
            "tags": []
          }
        },
        {
          "output_type": "display_data",
          "data": {
            "application/vnd.jupyter.widget-view+json": {
              "model_id": "27d9bac9c9f74d28b04a47d32571fd48",
              "version_minor": 0,
              "version_major": 2
            },
            "text/plain": [
              "HBox(children=(IntProgress(value=0, description='Writing...', max=2500, style=ProgressStyle(description_width=…"
            ]
          },
          "metadata": {
            "tags": []
          }
        },
        {
          "output_type": "display_data",
          "data": {
            "application/vnd.jupyter.widget-view+json": {
              "model_id": "f44fd91f34574bc7bac90559d392804c",
              "version_minor": 0,
              "version_major": 2
            },
            "text/plain": [
              "HBox(children=(IntProgress(value=1, bar_style='info', description='Reading...', max=1, style=ProgressStyle(des…"
            ]
          },
          "metadata": {
            "tags": []
          }
        },
        {
          "output_type": "display_data",
          "data": {
            "application/vnd.jupyter.widget-view+json": {
              "model_id": "c0dd260c7d664625aa9e73e7b4ff9849",
              "version_minor": 0,
              "version_major": 2
            },
            "text/plain": [
              "HBox(children=(IntProgress(value=0, description='Writing...', max=2500, style=ProgressStyle(description_width=…"
            ]
          },
          "metadata": {
            "tags": []
          }
        },
        {
          "output_type": "display_data",
          "data": {
            "application/vnd.jupyter.widget-view+json": {
              "model_id": "09fd509e4ff3431d82f5be12a9ce0a77",
              "version_minor": 0,
              "version_major": 2
            },
            "text/plain": [
              "HBox(children=(IntProgress(value=1, bar_style='info', description='Reading...', max=1, style=ProgressStyle(des…"
            ]
          },
          "metadata": {
            "tags": []
          }
        },
        {
          "output_type": "display_data",
          "data": {
            "application/vnd.jupyter.widget-view+json": {
              "model_id": "5a068995daa44926b0a531fb5724b1e9",
              "version_minor": 0,
              "version_major": 2
            },
            "text/plain": [
              "HBox(children=(IntProgress(value=0, description='Writing...', max=2500, style=ProgressStyle(description_width=…"
            ]
          },
          "metadata": {
            "tags": []
          }
        },
        {
          "output_type": "display_data",
          "data": {
            "application/vnd.jupyter.widget-view+json": {
              "model_id": "4595d701648b4605b4b48b7dded4fe5c",
              "version_minor": 0,
              "version_major": 2
            },
            "text/plain": [
              "HBox(children=(IntProgress(value=1, bar_style='info', description='Reading...', max=1, style=ProgressStyle(des…"
            ]
          },
          "metadata": {
            "tags": []
          }
        },
        {
          "output_type": "display_data",
          "data": {
            "application/vnd.jupyter.widget-view+json": {
              "model_id": "d6b5f0cbede54a8bbd39447e1b120a4e",
              "version_minor": 0,
              "version_major": 2
            },
            "text/plain": [
              "HBox(children=(IntProgress(value=0, description='Writing...', max=2500, style=ProgressStyle(description_width=…"
            ]
          },
          "metadata": {
            "tags": []
          }
        },
        {
          "output_type": "display_data",
          "data": {
            "application/vnd.jupyter.widget-view+json": {
              "model_id": "e8fde260b92e4c2e9013c18df8b0e132",
              "version_minor": 0,
              "version_major": 2
            },
            "text/plain": [
              "HBox(children=(IntProgress(value=1, bar_style='info', description='Reading...', max=1, style=ProgressStyle(des…"
            ]
          },
          "metadata": {
            "tags": []
          }
        },
        {
          "output_type": "display_data",
          "data": {
            "application/vnd.jupyter.widget-view+json": {
              "model_id": "26dbd12a3a604d70944ed8566d9c73f0",
              "version_minor": 0,
              "version_major": 2
            },
            "text/plain": [
              "HBox(children=(IntProgress(value=0, description='Writing...', max=2500, style=ProgressStyle(description_width=…"
            ]
          },
          "metadata": {
            "tags": []
          }
        },
        {
          "output_type": "display_data",
          "data": {
            "application/vnd.jupyter.widget-view+json": {
              "model_id": "edc7bc505b824651ba44187a3a43f26c",
              "version_minor": 0,
              "version_major": 2
            },
            "text/plain": [
              "HBox(children=(IntProgress(value=1, bar_style='info', description='Reading...', max=1, style=ProgressStyle(des…"
            ]
          },
          "metadata": {
            "tags": []
          }
        },
        {
          "output_type": "display_data",
          "data": {
            "application/vnd.jupyter.widget-view+json": {
              "model_id": "dc04c1cdce0e4ccdb2b8a300ae1d6f70",
              "version_minor": 0,
              "version_major": 2
            },
            "text/plain": [
              "HBox(children=(IntProgress(value=0, description='Writing...', max=2500, style=ProgressStyle(description_width=…"
            ]
          },
          "metadata": {
            "tags": []
          }
        },
        {
          "output_type": "display_data",
          "data": {
            "application/vnd.jupyter.widget-view+json": {
              "model_id": "d346486cd5864ec097403206fa1048fe",
              "version_minor": 0,
              "version_major": 2
            },
            "text/plain": [
              "HBox(children=(IntProgress(value=1, bar_style='info', description='Reading...', max=1, style=ProgressStyle(des…"
            ]
          },
          "metadata": {
            "tags": []
          }
        },
        {
          "output_type": "display_data",
          "data": {
            "application/vnd.jupyter.widget-view+json": {
              "model_id": "74230b4db1d94682ba7d4da3de18fb25",
              "version_minor": 0,
              "version_major": 2
            },
            "text/plain": [
              "HBox(children=(IntProgress(value=0, description='Writing...', max=2500, style=ProgressStyle(description_width=…"
            ]
          },
          "metadata": {
            "tags": []
          }
        },
        {
          "output_type": "display_data",
          "data": {
            "application/vnd.jupyter.widget-view+json": {
              "model_id": "a7dd71a439f54d01829cb01aa9ad682a",
              "version_minor": 0,
              "version_major": 2
            },
            "text/plain": [
              "HBox(children=(IntProgress(value=1, bar_style='info', description='Reading...', max=1, style=ProgressStyle(des…"
            ]
          },
          "metadata": {
            "tags": []
          }
        },
        {
          "output_type": "display_data",
          "data": {
            "application/vnd.jupyter.widget-view+json": {
              "model_id": "350ab0b46b0347d8b16fe9a54e4f68f7",
              "version_minor": 0,
              "version_major": 2
            },
            "text/plain": [
              "HBox(children=(IntProgress(value=0, description='Writing...', max=2500, style=ProgressStyle(description_width=…"
            ]
          },
          "metadata": {
            "tags": []
          }
        },
        {
          "output_type": "display_data",
          "data": {
            "application/vnd.jupyter.widget-view+json": {
              "model_id": "c8acd6ba1333469c94bbdcc99ff771b2",
              "version_minor": 0,
              "version_major": 2
            },
            "text/plain": [
              "HBox(children=(IntProgress(value=1, bar_style='info', description='Reading...', max=1, style=ProgressStyle(des…"
            ]
          },
          "metadata": {
            "tags": []
          }
        },
        {
          "output_type": "display_data",
          "data": {
            "application/vnd.jupyter.widget-view+json": {
              "model_id": "bbb1f9a256a64288aa40a4dcaaba2f25",
              "version_minor": 0,
              "version_major": 2
            },
            "text/plain": [
              "HBox(children=(IntProgress(value=0, description='Writing...', max=2500, style=ProgressStyle(description_width=…"
            ]
          },
          "metadata": {
            "tags": []
          }
        },
        {
          "output_type": "display_data",
          "data": {
            "application/vnd.jupyter.widget-view+json": {
              "model_id": "fb63ff950d284908b33bd370dc0cf10a",
              "version_minor": 0,
              "version_major": 2
            },
            "text/plain": [
              "HBox(children=(IntProgress(value=1, bar_style='info', description='Reading...', max=1, style=ProgressStyle(des…"
            ]
          },
          "metadata": {
            "tags": []
          }
        },
        {
          "output_type": "display_data",
          "data": {
            "application/vnd.jupyter.widget-view+json": {
              "model_id": "d2a220f1140049ea91bc752ef1a380cc",
              "version_minor": 0,
              "version_major": 2
            },
            "text/plain": [
              "HBox(children=(IntProgress(value=0, description='Writing...', max=2500, style=ProgressStyle(description_width=…"
            ]
          },
          "metadata": {
            "tags": []
          }
        },
        {
          "output_type": "stream",
          "text": [
            "\r"
          ],
          "name": "stdout"
        },
        {
          "output_type": "display_data",
          "data": {
            "application/vnd.jupyter.widget-view+json": {
              "model_id": "028f6bed645b47fbb54f6ae7ccbff3a6",
              "version_minor": 0,
              "version_major": 2
            },
            "text/plain": [
              "HBox(children=(IntProgress(value=1, bar_style='info', max=1), HTML(value='')))"
            ]
          },
          "metadata": {
            "tags": []
          }
        },
        {
          "output_type": "stream",
          "text": [
            "\r"
          ],
          "name": "stdout"
        },
        {
          "output_type": "display_data",
          "data": {
            "application/vnd.jupyter.widget-view+json": {
              "model_id": "ac089b1228354958be28171008cbaa49",
              "version_minor": 0,
              "version_major": 2
            },
            "text/plain": [
              "HBox(children=(IntProgress(value=0, description='Shuffling...', max=10, style=ProgressStyle(description_width=…"
            ]
          },
          "metadata": {
            "tags": []
          }
        },
        {
          "output_type": "display_data",
          "data": {
            "application/vnd.jupyter.widget-view+json": {
              "model_id": "fc00aa0b96df4a209d14562b2b0640af",
              "version_minor": 0,
              "version_major": 2
            },
            "text/plain": [
              "HBox(children=(IntProgress(value=1, bar_style='info', description='Reading...', max=1, style=ProgressStyle(des…"
            ]
          },
          "metadata": {
            "tags": []
          }
        },
        {
          "output_type": "display_data",
          "data": {
            "application/vnd.jupyter.widget-view+json": {
              "model_id": "9e717638ecb04ff98510d1376e1b2ce2",
              "version_minor": 0,
              "version_major": 2
            },
            "text/plain": [
              "HBox(children=(IntProgress(value=0, description='Writing...', max=2500, style=ProgressStyle(description_width=…"
            ]
          },
          "metadata": {
            "tags": []
          }
        },
        {
          "output_type": "display_data",
          "data": {
            "application/vnd.jupyter.widget-view+json": {
              "model_id": "6e03f65f4993406ab3501daadc8e57c9",
              "version_minor": 0,
              "version_major": 2
            },
            "text/plain": [
              "HBox(children=(IntProgress(value=1, bar_style='info', description='Reading...', max=1, style=ProgressStyle(des…"
            ]
          },
          "metadata": {
            "tags": []
          }
        },
        {
          "output_type": "display_data",
          "data": {
            "application/vnd.jupyter.widget-view+json": {
              "model_id": "7748e071888d49f6b2eeb34d23dabb40",
              "version_minor": 0,
              "version_major": 2
            },
            "text/plain": [
              "HBox(children=(IntProgress(value=0, description='Writing...', max=2500, style=ProgressStyle(description_width=…"
            ]
          },
          "metadata": {
            "tags": []
          }
        },
        {
          "output_type": "display_data",
          "data": {
            "application/vnd.jupyter.widget-view+json": {
              "model_id": "2eca5936b2d04c4db213391a5b9d69cb",
              "version_minor": 0,
              "version_major": 2
            },
            "text/plain": [
              "HBox(children=(IntProgress(value=1, bar_style='info', description='Reading...', max=1, style=ProgressStyle(des…"
            ]
          },
          "metadata": {
            "tags": []
          }
        },
        {
          "output_type": "display_data",
          "data": {
            "application/vnd.jupyter.widget-view+json": {
              "model_id": "91e03f5c76314c67a3fddf73c200feec",
              "version_minor": 0,
              "version_major": 2
            },
            "text/plain": [
              "HBox(children=(IntProgress(value=0, description='Writing...', max=2500, style=ProgressStyle(description_width=…"
            ]
          },
          "metadata": {
            "tags": []
          }
        },
        {
          "output_type": "display_data",
          "data": {
            "application/vnd.jupyter.widget-view+json": {
              "model_id": "cc9f1cc461874d2386ef44687e5fe6c0",
              "version_minor": 0,
              "version_major": 2
            },
            "text/plain": [
              "HBox(children=(IntProgress(value=1, bar_style='info', description='Reading...', max=1, style=ProgressStyle(des…"
            ]
          },
          "metadata": {
            "tags": []
          }
        },
        {
          "output_type": "display_data",
          "data": {
            "application/vnd.jupyter.widget-view+json": {
              "model_id": "6d2e79d4b4004a6ab311019bb129a619",
              "version_minor": 0,
              "version_major": 2
            },
            "text/plain": [
              "HBox(children=(IntProgress(value=0, description='Writing...', max=2500, style=ProgressStyle(description_width=…"
            ]
          },
          "metadata": {
            "tags": []
          }
        },
        {
          "output_type": "display_data",
          "data": {
            "application/vnd.jupyter.widget-view+json": {
              "model_id": "1ea74c9639c54215a6383c7bda101367",
              "version_minor": 0,
              "version_major": 2
            },
            "text/plain": [
              "HBox(children=(IntProgress(value=1, bar_style='info', description='Reading...', max=1, style=ProgressStyle(des…"
            ]
          },
          "metadata": {
            "tags": []
          }
        },
        {
          "output_type": "display_data",
          "data": {
            "application/vnd.jupyter.widget-view+json": {
              "model_id": "745f46953edd41b1912d2dff0e833d2c",
              "version_minor": 0,
              "version_major": 2
            },
            "text/plain": [
              "HBox(children=(IntProgress(value=0, description='Writing...', max=2500, style=ProgressStyle(description_width=…"
            ]
          },
          "metadata": {
            "tags": []
          }
        },
        {
          "output_type": "display_data",
          "data": {
            "application/vnd.jupyter.widget-view+json": {
              "model_id": "8d51015124fa493794f6c1d46f7f3414",
              "version_minor": 0,
              "version_major": 2
            },
            "text/plain": [
              "HBox(children=(IntProgress(value=1, bar_style='info', description='Reading...', max=1, style=ProgressStyle(des…"
            ]
          },
          "metadata": {
            "tags": []
          }
        },
        {
          "output_type": "display_data",
          "data": {
            "application/vnd.jupyter.widget-view+json": {
              "model_id": "74f5a97aff7c4d1e8eac14be400ef7d9",
              "version_minor": 0,
              "version_major": 2
            },
            "text/plain": [
              "HBox(children=(IntProgress(value=0, description='Writing...', max=2500, style=ProgressStyle(description_width=…"
            ]
          },
          "metadata": {
            "tags": []
          }
        },
        {
          "output_type": "display_data",
          "data": {
            "application/vnd.jupyter.widget-view+json": {
              "model_id": "100e4a04dbd841d2a7d89036eb748ae8",
              "version_minor": 0,
              "version_major": 2
            },
            "text/plain": [
              "HBox(children=(IntProgress(value=1, bar_style='info', description='Reading...', max=1, style=ProgressStyle(des…"
            ]
          },
          "metadata": {
            "tags": []
          }
        },
        {
          "output_type": "display_data",
          "data": {
            "application/vnd.jupyter.widget-view+json": {
              "model_id": "442667fe600e4f2391bd79cec04d5905",
              "version_minor": 0,
              "version_major": 2
            },
            "text/plain": [
              "HBox(children=(IntProgress(value=0, description='Writing...', max=2500, style=ProgressStyle(description_width=…"
            ]
          },
          "metadata": {
            "tags": []
          }
        },
        {
          "output_type": "display_data",
          "data": {
            "application/vnd.jupyter.widget-view+json": {
              "model_id": "fd442c05f3b44b88b63972ab211c84ad",
              "version_minor": 0,
              "version_major": 2
            },
            "text/plain": [
              "HBox(children=(IntProgress(value=1, bar_style='info', description='Reading...', max=1, style=ProgressStyle(des…"
            ]
          },
          "metadata": {
            "tags": []
          }
        },
        {
          "output_type": "display_data",
          "data": {
            "application/vnd.jupyter.widget-view+json": {
              "model_id": "77023616c83340879f99fa94a9b63e42",
              "version_minor": 0,
              "version_major": 2
            },
            "text/plain": [
              "HBox(children=(IntProgress(value=0, description='Writing...', max=2500, style=ProgressStyle(description_width=…"
            ]
          },
          "metadata": {
            "tags": []
          }
        },
        {
          "output_type": "display_data",
          "data": {
            "application/vnd.jupyter.widget-view+json": {
              "model_id": "ad7777988d0b4bd78222373661c454a3",
              "version_minor": 0,
              "version_major": 2
            },
            "text/plain": [
              "HBox(children=(IntProgress(value=1, bar_style='info', description='Reading...', max=1, style=ProgressStyle(des…"
            ]
          },
          "metadata": {
            "tags": []
          }
        },
        {
          "output_type": "display_data",
          "data": {
            "application/vnd.jupyter.widget-view+json": {
              "model_id": "b4f55efce4e14f01a6a4241d814e364d",
              "version_minor": 0,
              "version_major": 2
            },
            "text/plain": [
              "HBox(children=(IntProgress(value=0, description='Writing...', max=2500, style=ProgressStyle(description_width=…"
            ]
          },
          "metadata": {
            "tags": []
          }
        },
        {
          "output_type": "display_data",
          "data": {
            "application/vnd.jupyter.widget-view+json": {
              "model_id": "769270b781c4472c86697727f8ddaa20",
              "version_minor": 0,
              "version_major": 2
            },
            "text/plain": [
              "HBox(children=(IntProgress(value=1, bar_style='info', description='Reading...', max=1, style=ProgressStyle(des…"
            ]
          },
          "metadata": {
            "tags": []
          }
        },
        {
          "output_type": "display_data",
          "data": {
            "application/vnd.jupyter.widget-view+json": {
              "model_id": "981571cb810f43b9b07a2791b431ff21",
              "version_minor": 0,
              "version_major": 2
            },
            "text/plain": [
              "HBox(children=(IntProgress(value=0, description='Writing...', max=2500, style=ProgressStyle(description_width=…"
            ]
          },
          "metadata": {
            "tags": []
          }
        },
        {
          "output_type": "stream",
          "text": [
            "\r"
          ],
          "name": "stdout"
        },
        {
          "output_type": "display_data",
          "data": {
            "application/vnd.jupyter.widget-view+json": {
              "model_id": "1c3ba598061f4a4e98204ebe93c87c4b",
              "version_minor": 0,
              "version_major": 2
            },
            "text/plain": [
              "HBox(children=(IntProgress(value=1, bar_style='info', max=1), HTML(value='')))"
            ]
          },
          "metadata": {
            "tags": []
          }
        },
        {
          "output_type": "stream",
          "text": [
            "\r"
          ],
          "name": "stdout"
        },
        {
          "output_type": "display_data",
          "data": {
            "application/vnd.jupyter.widget-view+json": {
              "model_id": "f3cc1234a8f24f96881a89932ca839cf",
              "version_minor": 0,
              "version_major": 2
            },
            "text/plain": [
              "HBox(children=(IntProgress(value=0, description='Shuffling...', max=20, style=ProgressStyle(description_width=…"
            ]
          },
          "metadata": {
            "tags": []
          }
        },
        {
          "output_type": "display_data",
          "data": {
            "application/vnd.jupyter.widget-view+json": {
              "model_id": "d23d1eb2b39a46f390368d4746558ddc",
              "version_minor": 0,
              "version_major": 2
            },
            "text/plain": [
              "HBox(children=(IntProgress(value=1, bar_style='info', description='Reading...', max=1, style=ProgressStyle(des…"
            ]
          },
          "metadata": {
            "tags": []
          }
        },
        {
          "output_type": "display_data",
          "data": {
            "application/vnd.jupyter.widget-view+json": {
              "model_id": "beb531e722a74e9182d62423accd4d70",
              "version_minor": 0,
              "version_major": 2
            },
            "text/plain": [
              "HBox(children=(IntProgress(value=0, description='Writing...', max=2500, style=ProgressStyle(description_width=…"
            ]
          },
          "metadata": {
            "tags": []
          }
        },
        {
          "output_type": "display_data",
          "data": {
            "application/vnd.jupyter.widget-view+json": {
              "model_id": "db7039f610e6406392d91ce51b6fd334",
              "version_minor": 0,
              "version_major": 2
            },
            "text/plain": [
              "HBox(children=(IntProgress(value=1, bar_style='info', description='Reading...', max=1, style=ProgressStyle(des…"
            ]
          },
          "metadata": {
            "tags": []
          }
        },
        {
          "output_type": "display_data",
          "data": {
            "application/vnd.jupyter.widget-view+json": {
              "model_id": "7a1a9dabd19e4f208c0d10acee775c10",
              "version_minor": 0,
              "version_major": 2
            },
            "text/plain": [
              "HBox(children=(IntProgress(value=0, description='Writing...', max=2500, style=ProgressStyle(description_width=…"
            ]
          },
          "metadata": {
            "tags": []
          }
        },
        {
          "output_type": "display_data",
          "data": {
            "application/vnd.jupyter.widget-view+json": {
              "model_id": "f35d7ca0b0ce4ecd9bc794eaeed70535",
              "version_minor": 0,
              "version_major": 2
            },
            "text/plain": [
              "HBox(children=(IntProgress(value=1, bar_style='info', description='Reading...', max=1, style=ProgressStyle(des…"
            ]
          },
          "metadata": {
            "tags": []
          }
        },
        {
          "output_type": "display_data",
          "data": {
            "application/vnd.jupyter.widget-view+json": {
              "model_id": "31f782e27da94e2489ce7cb59569cd6a",
              "version_minor": 0,
              "version_major": 2
            },
            "text/plain": [
              "HBox(children=(IntProgress(value=0, description='Writing...', max=2500, style=ProgressStyle(description_width=…"
            ]
          },
          "metadata": {
            "tags": []
          }
        },
        {
          "output_type": "display_data",
          "data": {
            "application/vnd.jupyter.widget-view+json": {
              "model_id": "cb2d648e60f8416cbdb0c70db3e09362",
              "version_minor": 0,
              "version_major": 2
            },
            "text/plain": [
              "HBox(children=(IntProgress(value=1, bar_style='info', description='Reading...', max=1, style=ProgressStyle(des…"
            ]
          },
          "metadata": {
            "tags": []
          }
        },
        {
          "output_type": "display_data",
          "data": {
            "application/vnd.jupyter.widget-view+json": {
              "model_id": "f38b02e758d345ed808e3b5f1c3a2f52",
              "version_minor": 0,
              "version_major": 2
            },
            "text/plain": [
              "HBox(children=(IntProgress(value=0, description='Writing...', max=2500, style=ProgressStyle(description_width=…"
            ]
          },
          "metadata": {
            "tags": []
          }
        },
        {
          "output_type": "display_data",
          "data": {
            "application/vnd.jupyter.widget-view+json": {
              "model_id": "f6e4717c08aa402390c68d9bd1ab52df",
              "version_minor": 0,
              "version_major": 2
            },
            "text/plain": [
              "HBox(children=(IntProgress(value=1, bar_style='info', description='Reading...', max=1, style=ProgressStyle(des…"
            ]
          },
          "metadata": {
            "tags": []
          }
        },
        {
          "output_type": "display_data",
          "data": {
            "application/vnd.jupyter.widget-view+json": {
              "model_id": "a572f9183652498690f82050eeea2ecc",
              "version_minor": 0,
              "version_major": 2
            },
            "text/plain": [
              "HBox(children=(IntProgress(value=0, description='Writing...', max=2500, style=ProgressStyle(description_width=…"
            ]
          },
          "metadata": {
            "tags": []
          }
        },
        {
          "output_type": "display_data",
          "data": {
            "application/vnd.jupyter.widget-view+json": {
              "model_id": "708d99c73f5d4a518ce3400d5aea8757",
              "version_minor": 0,
              "version_major": 2
            },
            "text/plain": [
              "HBox(children=(IntProgress(value=1, bar_style='info', description='Reading...', max=1, style=ProgressStyle(des…"
            ]
          },
          "metadata": {
            "tags": []
          }
        },
        {
          "output_type": "display_data",
          "data": {
            "application/vnd.jupyter.widget-view+json": {
              "model_id": "fceebe9a1d944940a8d1639c9c4d9c36",
              "version_minor": 0,
              "version_major": 2
            },
            "text/plain": [
              "HBox(children=(IntProgress(value=0, description='Writing...', max=2500, style=ProgressStyle(description_width=…"
            ]
          },
          "metadata": {
            "tags": []
          }
        },
        {
          "output_type": "display_data",
          "data": {
            "application/vnd.jupyter.widget-view+json": {
              "model_id": "c839491e65aa4eb89c83b22253d9ca43",
              "version_minor": 0,
              "version_major": 2
            },
            "text/plain": [
              "HBox(children=(IntProgress(value=1, bar_style='info', description='Reading...', max=1, style=ProgressStyle(des…"
            ]
          },
          "metadata": {
            "tags": []
          }
        },
        {
          "output_type": "display_data",
          "data": {
            "application/vnd.jupyter.widget-view+json": {
              "model_id": "6c79b100d4a94eeba6b6cc59e26ec5be",
              "version_minor": 0,
              "version_major": 2
            },
            "text/plain": [
              "HBox(children=(IntProgress(value=0, description='Writing...', max=2500, style=ProgressStyle(description_width=…"
            ]
          },
          "metadata": {
            "tags": []
          }
        },
        {
          "output_type": "display_data",
          "data": {
            "application/vnd.jupyter.widget-view+json": {
              "model_id": "fcff28a9d7954d8cae9e10b3b27e5daf",
              "version_minor": 0,
              "version_major": 2
            },
            "text/plain": [
              "HBox(children=(IntProgress(value=1, bar_style='info', description='Reading...', max=1, style=ProgressStyle(des…"
            ]
          },
          "metadata": {
            "tags": []
          }
        },
        {
          "output_type": "display_data",
          "data": {
            "application/vnd.jupyter.widget-view+json": {
              "model_id": "27d28ae74aab45a0b84116c0347cf388",
              "version_minor": 0,
              "version_major": 2
            },
            "text/plain": [
              "HBox(children=(IntProgress(value=0, description='Writing...', max=2500, style=ProgressStyle(description_width=…"
            ]
          },
          "metadata": {
            "tags": []
          }
        },
        {
          "output_type": "display_data",
          "data": {
            "application/vnd.jupyter.widget-view+json": {
              "model_id": "5d0a9843eda94e6bbc76ad316c0351e7",
              "version_minor": 0,
              "version_major": 2
            },
            "text/plain": [
              "HBox(children=(IntProgress(value=1, bar_style='info', description='Reading...', max=1, style=ProgressStyle(des…"
            ]
          },
          "metadata": {
            "tags": []
          }
        },
        {
          "output_type": "display_data",
          "data": {
            "application/vnd.jupyter.widget-view+json": {
              "model_id": "9ab4a13ef44340c0b8b92594951f1737",
              "version_minor": 0,
              "version_major": 2
            },
            "text/plain": [
              "HBox(children=(IntProgress(value=0, description='Writing...', max=2500, style=ProgressStyle(description_width=…"
            ]
          },
          "metadata": {
            "tags": []
          }
        },
        {
          "output_type": "display_data",
          "data": {
            "application/vnd.jupyter.widget-view+json": {
              "model_id": "ba401150ee8a4eb79f18f97db7761f0e",
              "version_minor": 0,
              "version_major": 2
            },
            "text/plain": [
              "HBox(children=(IntProgress(value=1, bar_style='info', description='Reading...', max=1, style=ProgressStyle(des…"
            ]
          },
          "metadata": {
            "tags": []
          }
        },
        {
          "output_type": "display_data",
          "data": {
            "application/vnd.jupyter.widget-view+json": {
              "model_id": "bb35c783d3654ce694e9c6071d07439f",
              "version_minor": 0,
              "version_major": 2
            },
            "text/plain": [
              "HBox(children=(IntProgress(value=0, description='Writing...', max=2500, style=ProgressStyle(description_width=…"
            ]
          },
          "metadata": {
            "tags": []
          }
        },
        {
          "output_type": "display_data",
          "data": {
            "application/vnd.jupyter.widget-view+json": {
              "model_id": "03b9120c049b4246bc7926fd68996105",
              "version_minor": 0,
              "version_major": 2
            },
            "text/plain": [
              "HBox(children=(IntProgress(value=1, bar_style='info', description='Reading...', max=1, style=ProgressStyle(des…"
            ]
          },
          "metadata": {
            "tags": []
          }
        },
        {
          "output_type": "display_data",
          "data": {
            "application/vnd.jupyter.widget-view+json": {
              "model_id": "74344fb0a8ae476eb4d891d68acb794c",
              "version_minor": 0,
              "version_major": 2
            },
            "text/plain": [
              "HBox(children=(IntProgress(value=0, description='Writing...', max=2500, style=ProgressStyle(description_width=…"
            ]
          },
          "metadata": {
            "tags": []
          }
        },
        {
          "output_type": "display_data",
          "data": {
            "application/vnd.jupyter.widget-view+json": {
              "model_id": "32520527419e44409f2b2584c45e8479",
              "version_minor": 0,
              "version_major": 2
            },
            "text/plain": [
              "HBox(children=(IntProgress(value=1, bar_style='info', description='Reading...', max=1, style=ProgressStyle(des…"
            ]
          },
          "metadata": {
            "tags": []
          }
        },
        {
          "output_type": "display_data",
          "data": {
            "application/vnd.jupyter.widget-view+json": {
              "model_id": "f85cb7a306cc49dcbed55a533a8ea789",
              "version_minor": 0,
              "version_major": 2
            },
            "text/plain": [
              "HBox(children=(IntProgress(value=0, description='Writing...', max=2500, style=ProgressStyle(description_width=…"
            ]
          },
          "metadata": {
            "tags": []
          }
        },
        {
          "output_type": "display_data",
          "data": {
            "application/vnd.jupyter.widget-view+json": {
              "model_id": "4e644bdbaeb249a2a47b5b36694a6f66",
              "version_minor": 0,
              "version_major": 2
            },
            "text/plain": [
              "HBox(children=(IntProgress(value=1, bar_style='info', description='Reading...', max=1, style=ProgressStyle(des…"
            ]
          },
          "metadata": {
            "tags": []
          }
        },
        {
          "output_type": "display_data",
          "data": {
            "application/vnd.jupyter.widget-view+json": {
              "model_id": "5fb22d613b6d4b8abf5db512c9b3c1bb",
              "version_minor": 0,
              "version_major": 2
            },
            "text/plain": [
              "HBox(children=(IntProgress(value=0, description='Writing...', max=2500, style=ProgressStyle(description_width=…"
            ]
          },
          "metadata": {
            "tags": []
          }
        },
        {
          "output_type": "display_data",
          "data": {
            "application/vnd.jupyter.widget-view+json": {
              "model_id": "ab86d44eefef413ba1ea86f9a4264047",
              "version_minor": 0,
              "version_major": 2
            },
            "text/plain": [
              "HBox(children=(IntProgress(value=1, bar_style='info', description='Reading...', max=1, style=ProgressStyle(des…"
            ]
          },
          "metadata": {
            "tags": []
          }
        },
        {
          "output_type": "display_data",
          "data": {
            "application/vnd.jupyter.widget-view+json": {
              "model_id": "61b72bb501d844a9b38f03b3b481bc14",
              "version_minor": 0,
              "version_major": 2
            },
            "text/plain": [
              "HBox(children=(IntProgress(value=0, description='Writing...', max=2500, style=ProgressStyle(description_width=…"
            ]
          },
          "metadata": {
            "tags": []
          }
        },
        {
          "output_type": "display_data",
          "data": {
            "application/vnd.jupyter.widget-view+json": {
              "model_id": "684461f159b1407db3b084cc97367b5d",
              "version_minor": 0,
              "version_major": 2
            },
            "text/plain": [
              "HBox(children=(IntProgress(value=1, bar_style='info', description='Reading...', max=1, style=ProgressStyle(des…"
            ]
          },
          "metadata": {
            "tags": []
          }
        },
        {
          "output_type": "display_data",
          "data": {
            "application/vnd.jupyter.widget-view+json": {
              "model_id": "2a380517cb064ea1a898adb3ee94753d",
              "version_minor": 0,
              "version_major": 2
            },
            "text/plain": [
              "HBox(children=(IntProgress(value=0, description='Writing...', max=2500, style=ProgressStyle(description_width=…"
            ]
          },
          "metadata": {
            "tags": []
          }
        },
        {
          "output_type": "display_data",
          "data": {
            "application/vnd.jupyter.widget-view+json": {
              "model_id": "d42e476f9489418693aa2ae31b6d8fb9",
              "version_minor": 0,
              "version_major": 2
            },
            "text/plain": [
              "HBox(children=(IntProgress(value=1, bar_style='info', description='Reading...', max=1, style=ProgressStyle(des…"
            ]
          },
          "metadata": {
            "tags": []
          }
        },
        {
          "output_type": "display_data",
          "data": {
            "application/vnd.jupyter.widget-view+json": {
              "model_id": "2ea26f0a16a745d6a484486ea6e501fc",
              "version_minor": 0,
              "version_major": 2
            },
            "text/plain": [
              "HBox(children=(IntProgress(value=0, description='Writing...', max=2500, style=ProgressStyle(description_width=…"
            ]
          },
          "metadata": {
            "tags": []
          }
        },
        {
          "output_type": "display_data",
          "data": {
            "application/vnd.jupyter.widget-view+json": {
              "model_id": "957c4117211348faa938fcf45242e09e",
              "version_minor": 0,
              "version_major": 2
            },
            "text/plain": [
              "HBox(children=(IntProgress(value=1, bar_style='info', description='Reading...', max=1, style=ProgressStyle(des…"
            ]
          },
          "metadata": {
            "tags": []
          }
        },
        {
          "output_type": "display_data",
          "data": {
            "application/vnd.jupyter.widget-view+json": {
              "model_id": "7b8e5f4dd2ed4f9c9dd74c1c9abf2dc9",
              "version_minor": 0,
              "version_major": 2
            },
            "text/plain": [
              "HBox(children=(IntProgress(value=0, description='Writing...', max=2500, style=ProgressStyle(description_width=…"
            ]
          },
          "metadata": {
            "tags": []
          }
        },
        {
          "output_type": "display_data",
          "data": {
            "application/vnd.jupyter.widget-view+json": {
              "model_id": "4129b2f02b24432981f72373bf64dd74",
              "version_minor": 0,
              "version_major": 2
            },
            "text/plain": [
              "HBox(children=(IntProgress(value=1, bar_style='info', description='Reading...', max=1, style=ProgressStyle(des…"
            ]
          },
          "metadata": {
            "tags": []
          }
        },
        {
          "output_type": "display_data",
          "data": {
            "application/vnd.jupyter.widget-view+json": {
              "model_id": "26ec87c78f41475391d65b9080ea8b07",
              "version_minor": 0,
              "version_major": 2
            },
            "text/plain": [
              "HBox(children=(IntProgress(value=0, description='Writing...', max=2500, style=ProgressStyle(description_width=…"
            ]
          },
          "metadata": {
            "tags": []
          }
        },
        {
          "output_type": "display_data",
          "data": {
            "application/vnd.jupyter.widget-view+json": {
              "model_id": "79b5db2ca414447e93ebc29a592ec4ac",
              "version_minor": 0,
              "version_major": 2
            },
            "text/plain": [
              "HBox(children=(IntProgress(value=1, bar_style='info', description='Reading...', max=1, style=ProgressStyle(des…"
            ]
          },
          "metadata": {
            "tags": []
          }
        },
        {
          "output_type": "display_data",
          "data": {
            "application/vnd.jupyter.widget-view+json": {
              "model_id": "12a8622a7525422e922c89f336dd9fee",
              "version_minor": 0,
              "version_major": 2
            },
            "text/plain": [
              "HBox(children=(IntProgress(value=0, description='Writing...', max=2500, style=ProgressStyle(description_width=…"
            ]
          },
          "metadata": {
            "tags": []
          }
        },
        {
          "output_type": "display_data",
          "data": {
            "application/vnd.jupyter.widget-view+json": {
              "model_id": "188e4d66607b4e108fa42c84ddf65ffb",
              "version_minor": 0,
              "version_major": 2
            },
            "text/plain": [
              "HBox(children=(IntProgress(value=1, bar_style='info', description='Reading...', max=1, style=ProgressStyle(des…"
            ]
          },
          "metadata": {
            "tags": []
          }
        },
        {
          "output_type": "display_data",
          "data": {
            "application/vnd.jupyter.widget-view+json": {
              "model_id": "99a3d9a64995481a84dca052eecf5955",
              "version_minor": 0,
              "version_major": 2
            },
            "text/plain": [
              "HBox(children=(IntProgress(value=0, description='Writing...', max=2500, style=ProgressStyle(description_width=…"
            ]
          },
          "metadata": {
            "tags": []
          }
        },
        {
          "output_type": "stream",
          "text": [
            "\r\u001b[1mDataset imdb_reviews downloaded and prepared to /root/tensorflow_datasets/imdb_reviews/plain_text/0.1.0. Subsequent calls will reuse this data.\u001b[0m\n"
          ],
          "name": "stdout"
        }
      ]
    },
    {
      "cell_type": "code",
      "metadata": {
        "id": "wHQ2Ko0zl7M4",
        "colab_type": "code",
        "colab": {}
      },
      "source": [
        "import numpy as np\n",
        "\n",
        "train_data, test_data = imdb['train'], imdb['test']\n",
        "\n",
        "training_sentences = []\n",
        "training_labels = []\n",
        "\n",
        "testing_sentences = []\n",
        "testing_labels = []\n",
        "\n",
        "# str(s.tonumpy()) is needed in Python3 instead of just s.numpy()\n",
        "for s,l in train_data:\n",
        "  training_sentences.append(str(s.numpy()))\n",
        "  training_labels.append(l.numpy())\n",
        "  \n",
        "for s,l in test_data:\n",
        "  testing_sentences.append(str(s.numpy()))\n",
        "  testing_labels.append(l.numpy())\n",
        "  \n",
        "training_labels_final = np.array(training_labels)\n",
        "testing_labels_final = np.array(testing_labels)\n"
      ],
      "execution_count": 0,
      "outputs": []
    },
    {
      "cell_type": "code",
      "metadata": {
        "id": "7n15yyMdmoH1",
        "colab_type": "code",
        "colab": {}
      },
      "source": [
        "vocab_size = 10000\n",
        "embedding_dim = 16\n",
        "max_length = 120\n",
        "trunc_type='post'\n",
        "oov_tok = \"<OOV>\"\n",
        "\n",
        "\n",
        "from tensorflow.keras.preprocessing.text import Tokenizer\n",
        "from tensorflow.keras.preprocessing.sequence import pad_sequences\n",
        "\n",
        "tokenizer = Tokenizer(num_words = vocab_size, oov_token=oov_tok)\n",
        "tokenizer.fit_on_texts(training_sentences)\n",
        "word_index = tokenizer.word_index\n",
        "sequences = tokenizer.texts_to_sequences(training_sentences)\n",
        "padded = pad_sequences(sequences,maxlen=max_length, truncating=trunc_type)\n",
        "\n",
        "testing_sequences = tokenizer.texts_to_sequences(testing_sentences)\n",
        "testing_padded = pad_sequences(testing_sequences,maxlen=max_length)\n",
        "\n"
      ],
      "execution_count": 0,
      "outputs": []
    },
    {
      "cell_type": "code",
      "metadata": {
        "colab_type": "code",
        "id": "9axf0uIXVMhO",
        "colab": {
          "base_uri": "https://localhost:8080/",
          "height": 71
        },
        "outputId": "f4566285-dad6-412f-abaa-1ab8557b737b"
      },
      "source": [
        "reverse_word_index = dict([(value, key) for (key, value) in word_index.items()])\n",
        "\n",
        "def decode_review(text):\n",
        "    return ' '.join([reverse_word_index.get(i, '?') for i in text])\n",
        "\n",
        "print(decode_review(padded[1]))\n",
        "print(training_sentences[1])"
      ],
      "execution_count": 5,
      "outputs": [
        {
          "output_type": "stream",
          "text": [
            "b oh yeah jenna jameson did it again yeah baby this movie rocks it was one of the 1st movies i saw of her and i have to say i feel in love with her she was great in this move br br her performance was outstanding and what i liked the most was the scenery and the wardrobe it was amazing you can tell that they put a lot into the movie the girls cloth were amazing br br i hope this comment helps and u can buy the movie the storyline is awesome is very unique and i'm sure u are going to like it jenna amazed us once more and no wonder the movie won so many\n",
            "b\"Oh yeah! Jenna Jameson did it again! Yeah Baby! This movie rocks. It was one of the 1st movies i saw of her. And i have to say i feel in love with her, she was great in this move.<br /><br />Her performance was outstanding and what i liked the most was the scenery and the wardrobe it was amazing you can tell that they put a lot into the movie the girls cloth were amazing.<br /><br />I hope this comment helps and u can buy the movie, the storyline is awesome is very unique and i'm sure u are going to like it. Jenna amazed us once more and no wonder the movie won so many awards. Her make-up and wardrobe is very very sexy and the girls on girls scene is amazing. specially the one where she looks like an angel. It's a must see and i hope u share my interests\"\n"
          ],
          "name": "stdout"
        }
      ]
    },
    {
      "cell_type": "code",
      "metadata": {
        "id": "5NEpdhb8AxID",
        "colab_type": "code",
        "colab": {
          "base_uri": "https://localhost:8080/",
          "height": 289
        },
        "outputId": "fd30b0c7-21b8-4ee8-a7ad-0f3eaa274b4d"
      },
      "source": [
        "model = tf.keras.Sequential([\n",
        "    tf.keras.layers.Embedding(vocab_size, embedding_dim, input_length=max_length),\n",
        "    tf.keras.layers.Flatten(),\n",
        "    tf.keras.layers.Dense(6, activation='relu'),\n",
        "    tf.keras.layers.Dense(1, activation='sigmoid')\n",
        "])\n",
        "model.compile(loss='binary_crossentropy',optimizer='adam',metrics=['accuracy'])\n",
        "model.summary()\n"
      ],
      "execution_count": 6,
      "outputs": [
        {
          "output_type": "stream",
          "text": [
            "Model: \"sequential\"\n",
            "_________________________________________________________________\n",
            "Layer (type)                 Output Shape              Param #   \n",
            "=================================================================\n",
            "embedding (Embedding)        (None, 120, 16)           160000    \n",
            "_________________________________________________________________\n",
            "flatten (Flatten)            (None, 1920)              0         \n",
            "_________________________________________________________________\n",
            "dense (Dense)                (None, 6)                 11526     \n",
            "_________________________________________________________________\n",
            "dense_1 (Dense)              (None, 1)                 7         \n",
            "=================================================================\n",
            "Total params: 171,533\n",
            "Trainable params: 171,533\n",
            "Non-trainable params: 0\n",
            "_________________________________________________________________\n"
          ],
          "name": "stdout"
        }
      ]
    },
    {
      "cell_type": "code",
      "metadata": {
        "id": "V5LLrXC-uNX6",
        "colab_type": "code",
        "colab": {
          "base_uri": "https://localhost:8080/",
          "height": 513
        },
        "outputId": "f44067a1-fb79-4a69-8873-003506b269a3"
      },
      "source": [
        "num_epochs = 10\n",
        "model.fit(padded, training_labels_final, epochs=num_epochs, validation_data=(testing_padded, testing_labels_final))"
      ],
      "execution_count": 7,
      "outputs": [
        {
          "output_type": "stream",
          "text": [
            "Train on 25000 samples, validate on 25000 samples\n",
            "Epoch 1/10\n",
            "WARNING:tensorflow:From /usr/local/lib/python3.6/dist-packages/tensorflow_core/python/ops/nn_impl.py:183: where (from tensorflow.python.ops.array_ops) is deprecated and will be removed in a future version.\n",
            "Instructions for updating:\n",
            "Use tf.where in 2.0, which has the same broadcast rule as np.where\n"
          ],
          "name": "stdout"
        },
        {
          "output_type": "stream",
          "text": [
            "WARNING:tensorflow:From /usr/local/lib/python3.6/dist-packages/tensorflow_core/python/ops/nn_impl.py:183: where (from tensorflow.python.ops.array_ops) is deprecated and will be removed in a future version.\n",
            "Instructions for updating:\n",
            "Use tf.where in 2.0, which has the same broadcast rule as np.where\n"
          ],
          "name": "stderr"
        },
        {
          "output_type": "stream",
          "text": [
            "25000/25000 [==============================] - 8s 316us/sample - loss: 0.4969 - acc: 0.7384 - val_loss: 0.3454 - val_acc: 0.8487\n",
            "Epoch 2/10\n",
            "25000/25000 [==============================] - 7s 260us/sample - loss: 0.2403 - acc: 0.9072 - val_loss: 0.3712 - val_acc: 0.8366\n",
            "Epoch 3/10\n",
            "25000/25000 [==============================] - 6s 258us/sample - loss: 0.0870 - acc: 0.9783 - val_loss: 0.4565 - val_acc: 0.8270\n",
            "Epoch 4/10\n",
            "25000/25000 [==============================] - 6s 257us/sample - loss: 0.0221 - acc: 0.9971 - val_loss: 0.5348 - val_acc: 0.8246\n",
            "Epoch 5/10\n",
            "25000/25000 [==============================] - 6s 259us/sample - loss: 0.0066 - acc: 0.9994 - val_loss: 0.5902 - val_acc: 0.8237\n",
            "Epoch 6/10\n",
            "25000/25000 [==============================] - 6s 258us/sample - loss: 0.0019 - acc: 1.0000 - val_loss: 0.6452 - val_acc: 0.8243\n",
            "Epoch 7/10\n",
            "25000/25000 [==============================] - 6s 257us/sample - loss: 8.7182e-04 - acc: 1.0000 - val_loss: 0.6881 - val_acc: 0.8249\n",
            "Epoch 8/10\n",
            "25000/25000 [==============================] - 6s 255us/sample - loss: 4.7434e-04 - acc: 1.0000 - val_loss: 0.7290 - val_acc: 0.8240\n",
            "Epoch 9/10\n",
            "25000/25000 [==============================] - 6s 257us/sample - loss: 2.6945e-04 - acc: 1.0000 - val_loss: 0.7656 - val_acc: 0.8243\n",
            "Epoch 10/10\n",
            "25000/25000 [==============================] - 6s 260us/sample - loss: 1.6091e-04 - acc: 1.0000 - val_loss: 0.8033 - val_acc: 0.8245\n"
          ],
          "name": "stdout"
        },
        {
          "output_type": "execute_result",
          "data": {
            "text/plain": [
              "<tensorflow.python.keras.callbacks.History at 0x7f4525fcc470>"
            ]
          },
          "metadata": {
            "tags": []
          },
          "execution_count": 7
        }
      ]
    },
    {
      "cell_type": "code",
      "metadata": {
        "id": "yAmjJqEyCOF_",
        "colab_type": "code",
        "colab": {
          "base_uri": "https://localhost:8080/",
          "height": 34
        },
        "outputId": "0b76f232-ddf4-486b-fe41-cf90656394a1"
      },
      "source": [
        "e = model.layers[0]\n",
        "weights = e.get_weights()[0]\n",
        "print(weights.shape) # shape: (vocab_size, embedding_dim)"
      ],
      "execution_count": 8,
      "outputs": [
        {
          "output_type": "stream",
          "text": [
            "(10000, 16)\n"
          ],
          "name": "stdout"
        }
      ]
    },
    {
      "cell_type": "code",
      "metadata": {
        "id": "jmB0Uxk0ycP6",
        "colab_type": "code",
        "colab": {}
      },
      "source": [
        "import io\n",
        "\n",
        "out_v = io.open('vecs.tsv', 'w', encoding='utf-8')\n",
        "out_m = io.open('meta.tsv', 'w', encoding='utf-8')\n",
        "for word_num in range(1, vocab_size):\n",
        "  word = reverse_word_index[word_num]\n",
        "  embeddings = weights[word_num]\n",
        "  out_m.write(word + \"\\n\")\n",
        "  out_v.write('\\t'.join([str(x) for x in embeddings]) + \"\\n\")\n",
        "out_v.close()\n",
        "out_m.close()"
      ],
      "execution_count": 0,
      "outputs": []
    },
    {
      "cell_type": "code",
      "metadata": {
        "id": "VDeqpOCVydtq",
        "colab_type": "code",
        "colab": {}
      },
      "source": [
        "\n",
        "\n",
        "try:\n",
        "  from google.colab import files\n",
        "except ImportError:\n",
        "  pass\n",
        "else:\n",
        "  files.download('vecs.tsv')\n",
        "  files.download('meta.tsv')"
      ],
      "execution_count": 0,
      "outputs": []
    },
    {
      "cell_type": "code",
      "metadata": {
        "id": "YRxoxc2apscY",
        "colab_type": "code",
        "colab": {
          "base_uri": "https://localhost:8080/",
          "height": 54
        },
        "outputId": "a671cac4-7c22-45a3-deeb-43382562a44f"
      },
      "source": [
        "sentence = \"I really think this is amazing. honest.\"\n",
        "sequence = tokenizer.texts_to_sequences(sentence)\n",
        "print(sequence)"
      ],
      "execution_count": 11,
      "outputs": [
        {
          "output_type": "stream",
          "text": [
            "[[11], [], [1430], [968], [4], [1537], [1537], [4738], [], [790], [2015], [11], [2922], [2191], [], [790], [2015], [11], [579], [], [11], [579], [], [4], [1783], [4], [4508], [11], [2922], [1277], [], [], [2015], [1005], [2922], [968], [579], [790], []]\n"
          ],
          "name": "stdout"
        }
      ]
    }
  ]
}