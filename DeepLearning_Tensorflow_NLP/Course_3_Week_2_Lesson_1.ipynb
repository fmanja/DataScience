{
 "cells": [
  {
   "cell_type": "code",
   "execution_count": 2,
   "metadata": {
    "colab": {
     "base_uri": "https://localhost:8080/",
     "height": 80
    },
    "colab_type": "code",
    "id": "P-AhVYeBWgQ3",
    "outputId": "657e1e49-b327-4b13-acc0-e04c94b80a13"
   },
   "outputs": [
    {
     "name": "stdout",
     "output_type": "stream",
     "text": [
      "2.0.0-beta0\n"
     ]
    }
   ],
   "source": [
    "# NOTE: PLEASE MAKE SURE YOU ARE RUNNING THIS IN A PYTHON3 ENVIRONMENT\n",
    "\n",
    "import tensorflow as tf\n",
    "print(tf.__version__)\n",
    "\n",
    "# This is needed for the iterator over the data\n",
    "# But not necessary if you have TF 2.0 installed\n",
    "#!pip install tensorflow==2.0.0-beta0\n",
    "\n",
    "\n",
    "#tf.enable_eager_execution()\n",
    "\n",
    "# !pip install -q tensorflow-datasets"
   ]
  },
  {
   "cell_type": "code",
   "execution_count": 3,
   "metadata": {
    "colab": {
     "base_uri": "https://localhost:8080/",
     "height": 258,
     "referenced_widgets": [
      "7962b34fac914d24bc595ab98d6f289c",
      "f01c59ef7642474eb5a382a558f3a3e2",
      "af9efa40f7ac4585ab7c4f58f6aad90d",
      "456b1a0d7d794081b1bae1108b284cab",
      "c7e253bf313a453489568542c41ca7aa",
      "27d9bac9c9f74d28b04a47d32571fd48",
      "f44fd91f34574bc7bac90559d392804c",
      "c0dd260c7d664625aa9e73e7b4ff9849",
      "09fd509e4ff3431d82f5be12a9ce0a77",
      "5a068995daa44926b0a531fb5724b1e9",
      "4595d701648b4605b4b48b7dded4fe5c",
      "d6b5f0cbede54a8bbd39447e1b120a4e",
      "e8fde260b92e4c2e9013c18df8b0e132",
      "26dbd12a3a604d70944ed8566d9c73f0",
      "edc7bc505b824651ba44187a3a43f26c",
      "dc04c1cdce0e4ccdb2b8a300ae1d6f70",
      "d346486cd5864ec097403206fa1048fe",
      "74230b4db1d94682ba7d4da3de18fb25",
      "a7dd71a439f54d01829cb01aa9ad682a",
      "350ab0b46b0347d8b16fe9a54e4f68f7",
      "c8acd6ba1333469c94bbdcc99ff771b2",
      "bbb1f9a256a64288aa40a4dcaaba2f25",
      "fb63ff950d284908b33bd370dc0cf10a",
      "d2a220f1140049ea91bc752ef1a380cc",
      "028f6bed645b47fbb54f6ae7ccbff3a6",
      "ac089b1228354958be28171008cbaa49",
      "fc00aa0b96df4a209d14562b2b0640af",
      "9e717638ecb04ff98510d1376e1b2ce2",
      "6e03f65f4993406ab3501daadc8e57c9",
      "7748e071888d49f6b2eeb34d23dabb40",
      "2eca5936b2d04c4db213391a5b9d69cb",
      "91e03f5c76314c67a3fddf73c200feec",
      "cc9f1cc461874d2386ef44687e5fe6c0",
      "6d2e79d4b4004a6ab311019bb129a619",
      "1ea74c9639c54215a6383c7bda101367",
      "745f46953edd41b1912d2dff0e833d2c",
      "8d51015124fa493794f6c1d46f7f3414",
      "74f5a97aff7c4d1e8eac14be400ef7d9",
      "100e4a04dbd841d2a7d89036eb748ae8",
      "442667fe600e4f2391bd79cec04d5905",
      "fd442c05f3b44b88b63972ab211c84ad",
      "77023616c83340879f99fa94a9b63e42",
      "ad7777988d0b4bd78222373661c454a3",
      "b4f55efce4e14f01a6a4241d814e364d",
      "769270b781c4472c86697727f8ddaa20",
      "981571cb810f43b9b07a2791b431ff21",
      "1c3ba598061f4a4e98204ebe93c87c4b",
      "f3cc1234a8f24f96881a89932ca839cf",
      "d23d1eb2b39a46f390368d4746558ddc",
      "beb531e722a74e9182d62423accd4d70",
      "db7039f610e6406392d91ce51b6fd334",
      "7a1a9dabd19e4f208c0d10acee775c10",
      "f35d7ca0b0ce4ecd9bc794eaeed70535",
      "31f782e27da94e2489ce7cb59569cd6a",
      "cb2d648e60f8416cbdb0c70db3e09362",
      "f38b02e758d345ed808e3b5f1c3a2f52",
      "f6e4717c08aa402390c68d9bd1ab52df",
      "a572f9183652498690f82050eeea2ecc",
      "708d99c73f5d4a518ce3400d5aea8757",
      "fceebe9a1d944940a8d1639c9c4d9c36",
      "c839491e65aa4eb89c83b22253d9ca43",
      "6c79b100d4a94eeba6b6cc59e26ec5be",
      "fcff28a9d7954d8cae9e10b3b27e5daf",
      "27d28ae74aab45a0b84116c0347cf388",
      "5d0a9843eda94e6bbc76ad316c0351e7",
      "9ab4a13ef44340c0b8b92594951f1737",
      "ba401150ee8a4eb79f18f97db7761f0e",
      "bb35c783d3654ce694e9c6071d07439f",
      "03b9120c049b4246bc7926fd68996105",
      "74344fb0a8ae476eb4d891d68acb794c",
      "32520527419e44409f2b2584c45e8479",
      "f85cb7a306cc49dcbed55a533a8ea789",
      "4e644bdbaeb249a2a47b5b36694a6f66",
      "5fb22d613b6d4b8abf5db512c9b3c1bb",
      "ab86d44eefef413ba1ea86f9a4264047",
      "61b72bb501d844a9b38f03b3b481bc14",
      "684461f159b1407db3b084cc97367b5d",
      "2a380517cb064ea1a898adb3ee94753d",
      "d42e476f9489418693aa2ae31b6d8fb9",
      "2ea26f0a16a745d6a484486ea6e501fc",
      "957c4117211348faa938fcf45242e09e",
      "7b8e5f4dd2ed4f9c9dd74c1c9abf2dc9",
      "4129b2f02b24432981f72373bf64dd74",
      "26ec87c78f41475391d65b9080ea8b07",
      "79b5db2ca414447e93ebc29a592ec4ac",
      "12a8622a7525422e922c89f336dd9fee",
      "188e4d66607b4e108fa42c84ddf65ffb",
      "99a3d9a64995481a84dca052eecf5955"
     ]
    },
    "colab_type": "code",
    "id": "_IoM4VFxWpMR",
    "outputId": "6577a3fb-680a-4a70-b316-572abc998e1e"
   },
   "outputs": [
    {
     "name": "stdout",
     "output_type": "stream",
     "text": [
      "\u001b[1mDownloading and preparing dataset imdb_reviews (80.23 MiB) to /Users/frankmanja/tensorflow_datasets/imdb_reviews/plain_text/0.1.0...\u001b[0m\n"
     ]
    },
    {
     "data": {
      "application/vnd.jupyter.widget-view+json": {
       "model_id": "1aaaeaa6c9d34664a8b9ef0ff9488e1e",
       "version_major": 2,
       "version_minor": 0
      },
      "text/plain": [
       "HBox(children=(IntProgress(value=1, bar_style='info', description='Dl Completed...', max=1, style=ProgressStyl…"
      ]
     },
     "metadata": {},
     "output_type": "display_data"
    },
    {
     "data": {
      "application/vnd.jupyter.widget-view+json": {
       "model_id": "338645a2a46b4f4db0903cdbb9330264",
       "version_major": 2,
       "version_minor": 0
      },
      "text/plain": [
       "HBox(children=(IntProgress(value=1, bar_style='info', description='Dl Size...', max=1, style=ProgressStyle(des…"
      ]
     },
     "metadata": {},
     "output_type": "display_data"
    },
    {
     "name": "stdout",
     "output_type": "stream",
     "text": [
      "\n",
      "\n",
      "\n",
      "\n"
     ]
    },
    {
     "data": {
      "application/vnd.jupyter.widget-view+json": {
       "model_id": "633f42ebe55742d4913f3abd5561e519",
       "version_major": 2,
       "version_minor": 0
      },
      "text/plain": [
       "HBox(children=(IntProgress(value=1, bar_style='info', max=1), HTML(value='')))"
      ]
     },
     "metadata": {},
     "output_type": "display_data"
    },
    {
     "name": "stdout",
     "output_type": "stream",
     "text": [
      "\r"
     ]
    },
    {
     "data": {
      "application/vnd.jupyter.widget-view+json": {
       "model_id": "f3b3c469a4494e80a1dcbee55e47564e",
       "version_major": 2,
       "version_minor": 0
      },
      "text/plain": [
       "HBox(children=(IntProgress(value=0, description='Shuffling...', max=10, style=ProgressStyle(description_width=…"
      ]
     },
     "metadata": {},
     "output_type": "display_data"
    },
    {
     "name": "stdout",
     "output_type": "stream",
     "text": [
      "WARNING:tensorflow:From /opt/anaconda3/lib/python3.7/site-packages/tensorflow_datasets/core/file_format_adapter.py:209: tf_record_iterator (from tensorflow.python.lib.io.tf_record) is deprecated and will be removed in a future version.\n",
      "Instructions for updating:\n",
      "Use eager execution and: \n",
      "`tf.data.TFRecordDataset(path)`\n"
     ]
    },
    {
     "name": "stderr",
     "output_type": "stream",
     "text": [
      "WARNING:tensorflow:From /opt/anaconda3/lib/python3.7/site-packages/tensorflow_datasets/core/file_format_adapter.py:209: tf_record_iterator (from tensorflow.python.lib.io.tf_record) is deprecated and will be removed in a future version.\n",
      "Instructions for updating:\n",
      "Use eager execution and: \n",
      "`tf.data.TFRecordDataset(path)`\n"
     ]
    },
    {
     "data": {
      "application/vnd.jupyter.widget-view+json": {
       "model_id": "f47b0cf26ba248be96a80bb27aac3613",
       "version_major": 2,
       "version_minor": 0
      },
      "text/plain": [
       "HBox(children=(IntProgress(value=1, bar_style='info', description='Reading...', max=1, style=ProgressStyle(des…"
      ]
     },
     "metadata": {},
     "output_type": "display_data"
    },
    {
     "data": {
      "application/vnd.jupyter.widget-view+json": {
       "model_id": "11d77b72d205463ba3d4dcab235b35d2",
       "version_major": 2,
       "version_minor": 0
      },
      "text/plain": [
       "HBox(children=(IntProgress(value=0, description='Writing...', max=2500, style=ProgressStyle(description_width=…"
      ]
     },
     "metadata": {},
     "output_type": "display_data"
    },
    {
     "data": {
      "application/vnd.jupyter.widget-view+json": {
       "model_id": "7efa13e8da714e34a324a12e7b28d8f2",
       "version_major": 2,
       "version_minor": 0
      },
      "text/plain": [
       "HBox(children=(IntProgress(value=1, bar_style='info', description='Reading...', max=1, style=ProgressStyle(des…"
      ]
     },
     "metadata": {},
     "output_type": "display_data"
    },
    {
     "data": {
      "application/vnd.jupyter.widget-view+json": {
       "model_id": "e65a9236e9bf4135984e414a624c905a",
       "version_major": 2,
       "version_minor": 0
      },
      "text/plain": [
       "HBox(children=(IntProgress(value=0, description='Writing...', max=2500, style=ProgressStyle(description_width=…"
      ]
     },
     "metadata": {},
     "output_type": "display_data"
    },
    {
     "data": {
      "application/vnd.jupyter.widget-view+json": {
       "model_id": "6819563cc8154d09ac5c2a70a4098c9f",
       "version_major": 2,
       "version_minor": 0
      },
      "text/plain": [
       "HBox(children=(IntProgress(value=1, bar_style='info', description='Reading...', max=1, style=ProgressStyle(des…"
      ]
     },
     "metadata": {},
     "output_type": "display_data"
    },
    {
     "data": {
      "application/vnd.jupyter.widget-view+json": {
       "model_id": "da666f236b1c40b0b04d549a1bc19e20",
       "version_major": 2,
       "version_minor": 0
      },
      "text/plain": [
       "HBox(children=(IntProgress(value=0, description='Writing...', max=2500, style=ProgressStyle(description_width=…"
      ]
     },
     "metadata": {},
     "output_type": "display_data"
    },
    {
     "data": {
      "application/vnd.jupyter.widget-view+json": {
       "model_id": "9236fa5e71c64de8bea5f122603fa225",
       "version_major": 2,
       "version_minor": 0
      },
      "text/plain": [
       "HBox(children=(IntProgress(value=1, bar_style='info', description='Reading...', max=1, style=ProgressStyle(des…"
      ]
     },
     "metadata": {},
     "output_type": "display_data"
    },
    {
     "data": {
      "application/vnd.jupyter.widget-view+json": {
       "model_id": "edbd72886b124a619de1cce41448b59b",
       "version_major": 2,
       "version_minor": 0
      },
      "text/plain": [
       "HBox(children=(IntProgress(value=0, description='Writing...', max=2500, style=ProgressStyle(description_width=…"
      ]
     },
     "metadata": {},
     "output_type": "display_data"
    },
    {
     "data": {
      "application/vnd.jupyter.widget-view+json": {
       "model_id": "27c41e356af946829225c87128467e32",
       "version_major": 2,
       "version_minor": 0
      },
      "text/plain": [
       "HBox(children=(IntProgress(value=1, bar_style='info', description='Reading...', max=1, style=ProgressStyle(des…"
      ]
     },
     "metadata": {},
     "output_type": "display_data"
    },
    {
     "data": {
      "application/vnd.jupyter.widget-view+json": {
       "model_id": "a1a2bcfd1dcf4e219a3cdb9aeeaac6a7",
       "version_major": 2,
       "version_minor": 0
      },
      "text/plain": [
       "HBox(children=(IntProgress(value=0, description='Writing...', max=2500, style=ProgressStyle(description_width=…"
      ]
     },
     "metadata": {},
     "output_type": "display_data"
    },
    {
     "data": {
      "application/vnd.jupyter.widget-view+json": {
       "model_id": "481624c832254de0aa8e0ca8f5f5b359",
       "version_major": 2,
       "version_minor": 0
      },
      "text/plain": [
       "HBox(children=(IntProgress(value=1, bar_style='info', description='Reading...', max=1, style=ProgressStyle(des…"
      ]
     },
     "metadata": {},
     "output_type": "display_data"
    },
    {
     "data": {
      "application/vnd.jupyter.widget-view+json": {
       "model_id": "088e38b539d94b2e9fed9b3d5cfd4ac1",
       "version_major": 2,
       "version_minor": 0
      },
      "text/plain": [
       "HBox(children=(IntProgress(value=0, description='Writing...', max=2500, style=ProgressStyle(description_width=…"
      ]
     },
     "metadata": {},
     "output_type": "display_data"
    },
    {
     "data": {
      "application/vnd.jupyter.widget-view+json": {
       "model_id": "e59f05896a3c498da83c9641ed2fce6a",
       "version_major": 2,
       "version_minor": 0
      },
      "text/plain": [
       "HBox(children=(IntProgress(value=1, bar_style='info', description='Reading...', max=1, style=ProgressStyle(des…"
      ]
     },
     "metadata": {},
     "output_type": "display_data"
    },
    {
     "data": {
      "application/vnd.jupyter.widget-view+json": {
       "model_id": "126d684121f84a69b50d2519d374845e",
       "version_major": 2,
       "version_minor": 0
      },
      "text/plain": [
       "HBox(children=(IntProgress(value=0, description='Writing...', max=2500, style=ProgressStyle(description_width=…"
      ]
     },
     "metadata": {},
     "output_type": "display_data"
    },
    {
     "data": {
      "application/vnd.jupyter.widget-view+json": {
       "model_id": "ba298dd61eb844c2b2d8568f1f580958",
       "version_major": 2,
       "version_minor": 0
      },
      "text/plain": [
       "HBox(children=(IntProgress(value=1, bar_style='info', description='Reading...', max=1, style=ProgressStyle(des…"
      ]
     },
     "metadata": {},
     "output_type": "display_data"
    },
    {
     "data": {
      "application/vnd.jupyter.widget-view+json": {
       "model_id": "2397cdc3aa674539aab15ab3857df1d9",
       "version_major": 2,
       "version_minor": 0
      },
      "text/plain": [
       "HBox(children=(IntProgress(value=0, description='Writing...', max=2500, style=ProgressStyle(description_width=…"
      ]
     },
     "metadata": {},
     "output_type": "display_data"
    },
    {
     "data": {
      "application/vnd.jupyter.widget-view+json": {
       "model_id": "b170c29efa704e14811cb1c0289b293b",
       "version_major": 2,
       "version_minor": 0
      },
      "text/plain": [
       "HBox(children=(IntProgress(value=1, bar_style='info', description='Reading...', max=1, style=ProgressStyle(des…"
      ]
     },
     "metadata": {},
     "output_type": "display_data"
    },
    {
     "data": {
      "application/vnd.jupyter.widget-view+json": {
       "model_id": "54abd5f658954ce1ae8ad025c9b16239",
       "version_major": 2,
       "version_minor": 0
      },
      "text/plain": [
       "HBox(children=(IntProgress(value=0, description='Writing...', max=2500, style=ProgressStyle(description_width=…"
      ]
     },
     "metadata": {},
     "output_type": "display_data"
    },
    {
     "data": {
      "application/vnd.jupyter.widget-view+json": {
       "model_id": "280888eafeac49659167428724911a62",
       "version_major": 2,
       "version_minor": 0
      },
      "text/plain": [
       "HBox(children=(IntProgress(value=1, bar_style='info', description='Reading...', max=1, style=ProgressStyle(des…"
      ]
     },
     "metadata": {},
     "output_type": "display_data"
    },
    {
     "data": {
      "application/vnd.jupyter.widget-view+json": {
       "model_id": "3c14f52dfd734505897d0b7b89564461",
       "version_major": 2,
       "version_minor": 0
      },
      "text/plain": [
       "HBox(children=(IntProgress(value=0, description='Writing...', max=2500, style=ProgressStyle(description_width=…"
      ]
     },
     "metadata": {},
     "output_type": "display_data"
    },
    {
     "name": "stdout",
     "output_type": "stream",
     "text": [
      "\r"
     ]
    },
    {
     "data": {
      "application/vnd.jupyter.widget-view+json": {
       "model_id": "6db6b172b9df4d4eb0f013dac9255463",
       "version_major": 2,
       "version_minor": 0
      },
      "text/plain": [
       "HBox(children=(IntProgress(value=1, bar_style='info', max=1), HTML(value='')))"
      ]
     },
     "metadata": {},
     "output_type": "display_data"
    },
    {
     "name": "stdout",
     "output_type": "stream",
     "text": [
      "\r"
     ]
    },
    {
     "data": {
      "application/vnd.jupyter.widget-view+json": {
       "model_id": "40075c76496a47478de9eb16a2981091",
       "version_major": 2,
       "version_minor": 0
      },
      "text/plain": [
       "HBox(children=(IntProgress(value=0, description='Shuffling...', max=10, style=ProgressStyle(description_width=…"
      ]
     },
     "metadata": {},
     "output_type": "display_data"
    },
    {
     "data": {
      "application/vnd.jupyter.widget-view+json": {
       "model_id": "a51d91eb9d8644a28b09f0e3f697bde7",
       "version_major": 2,
       "version_minor": 0
      },
      "text/plain": [
       "HBox(children=(IntProgress(value=1, bar_style='info', description='Reading...', max=1, style=ProgressStyle(des…"
      ]
     },
     "metadata": {},
     "output_type": "display_data"
    },
    {
     "data": {
      "application/vnd.jupyter.widget-view+json": {
       "model_id": "6263f093bc5d40498ce61610ec662073",
       "version_major": 2,
       "version_minor": 0
      },
      "text/plain": [
       "HBox(children=(IntProgress(value=0, description='Writing...', max=2500, style=ProgressStyle(description_width=…"
      ]
     },
     "metadata": {},
     "output_type": "display_data"
    },
    {
     "data": {
      "application/vnd.jupyter.widget-view+json": {
       "model_id": "1f64652a43d743f792f2c8741c84580f",
       "version_major": 2,
       "version_minor": 0
      },
      "text/plain": [
       "HBox(children=(IntProgress(value=1, bar_style='info', description='Reading...', max=1, style=ProgressStyle(des…"
      ]
     },
     "metadata": {},
     "output_type": "display_data"
    },
    {
     "data": {
      "application/vnd.jupyter.widget-view+json": {
       "model_id": "0453c9b77ac34ed1bb8d85e9df91cbac",
       "version_major": 2,
       "version_minor": 0
      },
      "text/plain": [
       "HBox(children=(IntProgress(value=0, description='Writing...', max=2500, style=ProgressStyle(description_width=…"
      ]
     },
     "metadata": {},
     "output_type": "display_data"
    },
    {
     "data": {
      "application/vnd.jupyter.widget-view+json": {
       "model_id": "9e323409e17a455a91abc685f22cce7a",
       "version_major": 2,
       "version_minor": 0
      },
      "text/plain": [
       "HBox(children=(IntProgress(value=1, bar_style='info', description='Reading...', max=1, style=ProgressStyle(des…"
      ]
     },
     "metadata": {},
     "output_type": "display_data"
    },
    {
     "data": {
      "application/vnd.jupyter.widget-view+json": {
       "model_id": "4e4ef245fb4f4a52b9f1e34c589285b7",
       "version_major": 2,
       "version_minor": 0
      },
      "text/plain": [
       "HBox(children=(IntProgress(value=0, description='Writing...', max=2500, style=ProgressStyle(description_width=…"
      ]
     },
     "metadata": {},
     "output_type": "display_data"
    },
    {
     "data": {
      "application/vnd.jupyter.widget-view+json": {
       "model_id": "43e816bc65c7456996fdadc406f7418b",
       "version_major": 2,
       "version_minor": 0
      },
      "text/plain": [
       "HBox(children=(IntProgress(value=1, bar_style='info', description='Reading...', max=1, style=ProgressStyle(des…"
      ]
     },
     "metadata": {},
     "output_type": "display_data"
    },
    {
     "data": {
      "application/vnd.jupyter.widget-view+json": {
       "model_id": "e960184708044331bcac90cd27b2157a",
       "version_major": 2,
       "version_minor": 0
      },
      "text/plain": [
       "HBox(children=(IntProgress(value=0, description='Writing...', max=2500, style=ProgressStyle(description_width=…"
      ]
     },
     "metadata": {},
     "output_type": "display_data"
    },
    {
     "data": {
      "application/vnd.jupyter.widget-view+json": {
       "model_id": "a4741e0bd5a449ddbd8c36f57dbb1eb0",
       "version_major": 2,
       "version_minor": 0
      },
      "text/plain": [
       "HBox(children=(IntProgress(value=1, bar_style='info', description='Reading...', max=1, style=ProgressStyle(des…"
      ]
     },
     "metadata": {},
     "output_type": "display_data"
    },
    {
     "data": {
      "application/vnd.jupyter.widget-view+json": {
       "model_id": "471116382a1b4e398b5c022c84d4aac7",
       "version_major": 2,
       "version_minor": 0
      },
      "text/plain": [
       "HBox(children=(IntProgress(value=0, description='Writing...', max=2500, style=ProgressStyle(description_width=…"
      ]
     },
     "metadata": {},
     "output_type": "display_data"
    },
    {
     "data": {
      "application/vnd.jupyter.widget-view+json": {
       "model_id": "5572268000c84a52ba6ba1b38cce654a",
       "version_major": 2,
       "version_minor": 0
      },
      "text/plain": [
       "HBox(children=(IntProgress(value=1, bar_style='info', description='Reading...', max=1, style=ProgressStyle(des…"
      ]
     },
     "metadata": {},
     "output_type": "display_data"
    },
    {
     "data": {
      "application/vnd.jupyter.widget-view+json": {
       "model_id": "a14705d4f4ab4324b81ac1b20b3b5310",
       "version_major": 2,
       "version_minor": 0
      },
      "text/plain": [
       "HBox(children=(IntProgress(value=0, description='Writing...', max=2500, style=ProgressStyle(description_width=…"
      ]
     },
     "metadata": {},
     "output_type": "display_data"
    },
    {
     "data": {
      "application/vnd.jupyter.widget-view+json": {
       "model_id": "b5fae2bf2b8f4a3db0d4fda521356630",
       "version_major": 2,
       "version_minor": 0
      },
      "text/plain": [
       "HBox(children=(IntProgress(value=1, bar_style='info', description='Reading...', max=1, style=ProgressStyle(des…"
      ]
     },
     "metadata": {},
     "output_type": "display_data"
    },
    {
     "data": {
      "application/vnd.jupyter.widget-view+json": {
       "model_id": "332fc3408f9d414cb7281326b69b6454",
       "version_major": 2,
       "version_minor": 0
      },
      "text/plain": [
       "HBox(children=(IntProgress(value=0, description='Writing...', max=2500, style=ProgressStyle(description_width=…"
      ]
     },
     "metadata": {},
     "output_type": "display_data"
    },
    {
     "data": {
      "application/vnd.jupyter.widget-view+json": {
       "model_id": "68c7104cff064699b6d0500eb57cc9c4",
       "version_major": 2,
       "version_minor": 0
      },
      "text/plain": [
       "HBox(children=(IntProgress(value=1, bar_style='info', description='Reading...', max=1, style=ProgressStyle(des…"
      ]
     },
     "metadata": {},
     "output_type": "display_data"
    },
    {
     "data": {
      "application/vnd.jupyter.widget-view+json": {
       "model_id": "47c9b6f574454c2f8778b7666d01c29b",
       "version_major": 2,
       "version_minor": 0
      },
      "text/plain": [
       "HBox(children=(IntProgress(value=0, description='Writing...', max=2500, style=ProgressStyle(description_width=…"
      ]
     },
     "metadata": {},
     "output_type": "display_data"
    },
    {
     "data": {
      "application/vnd.jupyter.widget-view+json": {
       "model_id": "194d9f2507d84b8b960bf7799440205c",
       "version_major": 2,
       "version_minor": 0
      },
      "text/plain": [
       "HBox(children=(IntProgress(value=1, bar_style='info', description='Reading...', max=1, style=ProgressStyle(des…"
      ]
     },
     "metadata": {},
     "output_type": "display_data"
    },
    {
     "data": {
      "application/vnd.jupyter.widget-view+json": {
       "model_id": "26a1592031b74bf6827723e9bdda10b3",
       "version_major": 2,
       "version_minor": 0
      },
      "text/plain": [
       "HBox(children=(IntProgress(value=0, description='Writing...', max=2500, style=ProgressStyle(description_width=…"
      ]
     },
     "metadata": {},
     "output_type": "display_data"
    },
    {
     "data": {
      "application/vnd.jupyter.widget-view+json": {
       "model_id": "ec91033bb123454ab24f8d69f343810f",
       "version_major": 2,
       "version_minor": 0
      },
      "text/plain": [
       "HBox(children=(IntProgress(value=1, bar_style='info', description='Reading...', max=1, style=ProgressStyle(des…"
      ]
     },
     "metadata": {},
     "output_type": "display_data"
    },
    {
     "data": {
      "application/vnd.jupyter.widget-view+json": {
       "model_id": "751485c1fc7d45158035b06311d00ce9",
       "version_major": 2,
       "version_minor": 0
      },
      "text/plain": [
       "HBox(children=(IntProgress(value=0, description='Writing...', max=2500, style=ProgressStyle(description_width=…"
      ]
     },
     "metadata": {},
     "output_type": "display_data"
    },
    {
     "name": "stdout",
     "output_type": "stream",
     "text": [
      "\r"
     ]
    },
    {
     "data": {
      "application/vnd.jupyter.widget-view+json": {
       "model_id": "75f9209ff19743569fa79536a56a04d2",
       "version_major": 2,
       "version_minor": 0
      },
      "text/plain": [
       "HBox(children=(IntProgress(value=1, bar_style='info', max=1), HTML(value='')))"
      ]
     },
     "metadata": {},
     "output_type": "display_data"
    },
    {
     "name": "stdout",
     "output_type": "stream",
     "text": [
      "\r"
     ]
    },
    {
     "data": {
      "application/vnd.jupyter.widget-view+json": {
       "model_id": "ac0ab74b61c44ba8a9528e7bbd93d4da",
       "version_major": 2,
       "version_minor": 0
      },
      "text/plain": [
       "HBox(children=(IntProgress(value=0, description='Shuffling...', max=20, style=ProgressStyle(description_width=…"
      ]
     },
     "metadata": {},
     "output_type": "display_data"
    },
    {
     "data": {
      "application/vnd.jupyter.widget-view+json": {
       "model_id": "efcfdde521c645739af39d02373885fa",
       "version_major": 2,
       "version_minor": 0
      },
      "text/plain": [
       "HBox(children=(IntProgress(value=1, bar_style='info', description='Reading...', max=1, style=ProgressStyle(des…"
      ]
     },
     "metadata": {},
     "output_type": "display_data"
    },
    {
     "data": {
      "application/vnd.jupyter.widget-view+json": {
       "model_id": "b8cfc358ec3d48bea0332538c4fde5f3",
       "version_major": 2,
       "version_minor": 0
      },
      "text/plain": [
       "HBox(children=(IntProgress(value=0, description='Writing...', max=2500, style=ProgressStyle(description_width=…"
      ]
     },
     "metadata": {},
     "output_type": "display_data"
    },
    {
     "data": {
      "application/vnd.jupyter.widget-view+json": {
       "model_id": "73cd40a055b94bd6ac20e9f5f11baae1",
       "version_major": 2,
       "version_minor": 0
      },
      "text/plain": [
       "HBox(children=(IntProgress(value=1, bar_style='info', description='Reading...', max=1, style=ProgressStyle(des…"
      ]
     },
     "metadata": {},
     "output_type": "display_data"
    },
    {
     "data": {
      "application/vnd.jupyter.widget-view+json": {
       "model_id": "9cb6da4aa4bf46748a70652b210adaa2",
       "version_major": 2,
       "version_minor": 0
      },
      "text/plain": [
       "HBox(children=(IntProgress(value=0, description='Writing...', max=2500, style=ProgressStyle(description_width=…"
      ]
     },
     "metadata": {},
     "output_type": "display_data"
    },
    {
     "data": {
      "application/vnd.jupyter.widget-view+json": {
       "model_id": "48753162d53345009a4a903ca1a2fee6",
       "version_major": 2,
       "version_minor": 0
      },
      "text/plain": [
       "HBox(children=(IntProgress(value=1, bar_style='info', description='Reading...', max=1, style=ProgressStyle(des…"
      ]
     },
     "metadata": {},
     "output_type": "display_data"
    },
    {
     "data": {
      "application/vnd.jupyter.widget-view+json": {
       "model_id": "124688bcb8ae43b18508ee6d95ac2c47",
       "version_major": 2,
       "version_minor": 0
      },
      "text/plain": [
       "HBox(children=(IntProgress(value=0, description='Writing...', max=2500, style=ProgressStyle(description_width=…"
      ]
     },
     "metadata": {},
     "output_type": "display_data"
    },
    {
     "data": {
      "application/vnd.jupyter.widget-view+json": {
       "model_id": "27a779136de74e1d911c317c92b4473b",
       "version_major": 2,
       "version_minor": 0
      },
      "text/plain": [
       "HBox(children=(IntProgress(value=1, bar_style='info', description='Reading...', max=1, style=ProgressStyle(des…"
      ]
     },
     "metadata": {},
     "output_type": "display_data"
    },
    {
     "data": {
      "application/vnd.jupyter.widget-view+json": {
       "model_id": "f6406c3074c34011bbc4f0a36f348230",
       "version_major": 2,
       "version_minor": 0
      },
      "text/plain": [
       "HBox(children=(IntProgress(value=0, description='Writing...', max=2500, style=ProgressStyle(description_width=…"
      ]
     },
     "metadata": {},
     "output_type": "display_data"
    },
    {
     "data": {
      "application/vnd.jupyter.widget-view+json": {
       "model_id": "9cefddbb7320466abbc0211f8cce0b29",
       "version_major": 2,
       "version_minor": 0
      },
      "text/plain": [
       "HBox(children=(IntProgress(value=1, bar_style='info', description='Reading...', max=1, style=ProgressStyle(des…"
      ]
     },
     "metadata": {},
     "output_type": "display_data"
    },
    {
     "data": {
      "application/vnd.jupyter.widget-view+json": {
       "model_id": "64602f11f7624eeeba105b0ab717c6b2",
       "version_major": 2,
       "version_minor": 0
      },
      "text/plain": [
       "HBox(children=(IntProgress(value=0, description='Writing...', max=2500, style=ProgressStyle(description_width=…"
      ]
     },
     "metadata": {},
     "output_type": "display_data"
    },
    {
     "data": {
      "application/vnd.jupyter.widget-view+json": {
       "model_id": "12500af28ae84bef83ef3222d5613ce3",
       "version_major": 2,
       "version_minor": 0
      },
      "text/plain": [
       "HBox(children=(IntProgress(value=1, bar_style='info', description='Reading...', max=1, style=ProgressStyle(des…"
      ]
     },
     "metadata": {},
     "output_type": "display_data"
    },
    {
     "data": {
      "application/vnd.jupyter.widget-view+json": {
       "model_id": "435bf08fe0e749899ecd5bdf30682a92",
       "version_major": 2,
       "version_minor": 0
      },
      "text/plain": [
       "HBox(children=(IntProgress(value=0, description='Writing...', max=2500, style=ProgressStyle(description_width=…"
      ]
     },
     "metadata": {},
     "output_type": "display_data"
    },
    {
     "data": {
      "application/vnd.jupyter.widget-view+json": {
       "model_id": "26c5f96340174c679463f6ce6530ee69",
       "version_major": 2,
       "version_minor": 0
      },
      "text/plain": [
       "HBox(children=(IntProgress(value=1, bar_style='info', description='Reading...', max=1, style=ProgressStyle(des…"
      ]
     },
     "metadata": {},
     "output_type": "display_data"
    },
    {
     "data": {
      "application/vnd.jupyter.widget-view+json": {
       "model_id": "a8d635584e9c41d784ddbb2b22b965af",
       "version_major": 2,
       "version_minor": 0
      },
      "text/plain": [
       "HBox(children=(IntProgress(value=0, description='Writing...', max=2500, style=ProgressStyle(description_width=…"
      ]
     },
     "metadata": {},
     "output_type": "display_data"
    },
    {
     "data": {
      "application/vnd.jupyter.widget-view+json": {
       "model_id": "5cba540ce5de4dfcb07669f47af71256",
       "version_major": 2,
       "version_minor": 0
      },
      "text/plain": [
       "HBox(children=(IntProgress(value=1, bar_style='info', description='Reading...', max=1, style=ProgressStyle(des…"
      ]
     },
     "metadata": {},
     "output_type": "display_data"
    },
    {
     "data": {
      "application/vnd.jupyter.widget-view+json": {
       "model_id": "d36c4aaa25984082bdba584a87b86667",
       "version_major": 2,
       "version_minor": 0
      },
      "text/plain": [
       "HBox(children=(IntProgress(value=0, description='Writing...', max=2500, style=ProgressStyle(description_width=…"
      ]
     },
     "metadata": {},
     "output_type": "display_data"
    },
    {
     "data": {
      "application/vnd.jupyter.widget-view+json": {
       "model_id": "e5ce7d394fe149f08afe95f7b6445f3d",
       "version_major": 2,
       "version_minor": 0
      },
      "text/plain": [
       "HBox(children=(IntProgress(value=1, bar_style='info', description='Reading...', max=1, style=ProgressStyle(des…"
      ]
     },
     "metadata": {},
     "output_type": "display_data"
    },
    {
     "data": {
      "application/vnd.jupyter.widget-view+json": {
       "model_id": "8396fad3f39846e6b84fa29abb2a88f3",
       "version_major": 2,
       "version_minor": 0
      },
      "text/plain": [
       "HBox(children=(IntProgress(value=0, description='Writing...', max=2500, style=ProgressStyle(description_width=…"
      ]
     },
     "metadata": {},
     "output_type": "display_data"
    },
    {
     "data": {
      "application/vnd.jupyter.widget-view+json": {
       "model_id": "30c9ea07ad7e43c494966447a191c802",
       "version_major": 2,
       "version_minor": 0
      },
      "text/plain": [
       "HBox(children=(IntProgress(value=1, bar_style='info', description='Reading...', max=1, style=ProgressStyle(des…"
      ]
     },
     "metadata": {},
     "output_type": "display_data"
    },
    {
     "data": {
      "application/vnd.jupyter.widget-view+json": {
       "model_id": "cc97fbd78ed947a7978c8996ceeea133",
       "version_major": 2,
       "version_minor": 0
      },
      "text/plain": [
       "HBox(children=(IntProgress(value=0, description='Writing...', max=2500, style=ProgressStyle(description_width=…"
      ]
     },
     "metadata": {},
     "output_type": "display_data"
    },
    {
     "data": {
      "application/vnd.jupyter.widget-view+json": {
       "model_id": "183349fc883b4c5c8af309e954214e96",
       "version_major": 2,
       "version_minor": 0
      },
      "text/plain": [
       "HBox(children=(IntProgress(value=1, bar_style='info', description='Reading...', max=1, style=ProgressStyle(des…"
      ]
     },
     "metadata": {},
     "output_type": "display_data"
    },
    {
     "data": {
      "application/vnd.jupyter.widget-view+json": {
       "model_id": "76d4192b141941419d6834ed2b6f84f7",
       "version_major": 2,
       "version_minor": 0
      },
      "text/plain": [
       "HBox(children=(IntProgress(value=0, description='Writing...', max=2500, style=ProgressStyle(description_width=…"
      ]
     },
     "metadata": {},
     "output_type": "display_data"
    },
    {
     "data": {
      "application/vnd.jupyter.widget-view+json": {
       "model_id": "8f21fb6b9d7240de925f46318156fa6e",
       "version_major": 2,
       "version_minor": 0
      },
      "text/plain": [
       "HBox(children=(IntProgress(value=1, bar_style='info', description='Reading...', max=1, style=ProgressStyle(des…"
      ]
     },
     "metadata": {},
     "output_type": "display_data"
    },
    {
     "data": {
      "application/vnd.jupyter.widget-view+json": {
       "model_id": "09c5626171c44832b619ebeab1e15162",
       "version_major": 2,
       "version_minor": 0
      },
      "text/plain": [
       "HBox(children=(IntProgress(value=0, description='Writing...', max=2500, style=ProgressStyle(description_width=…"
      ]
     },
     "metadata": {},
     "output_type": "display_data"
    },
    {
     "data": {
      "application/vnd.jupyter.widget-view+json": {
       "model_id": "32a612504e8a45878bb02a3c730d297b",
       "version_major": 2,
       "version_minor": 0
      },
      "text/plain": [
       "HBox(children=(IntProgress(value=1, bar_style='info', description='Reading...', max=1, style=ProgressStyle(des…"
      ]
     },
     "metadata": {},
     "output_type": "display_data"
    },
    {
     "data": {
      "application/vnd.jupyter.widget-view+json": {
       "model_id": "8768956c7ce345ec8e940a2c3aecf7ff",
       "version_major": 2,
       "version_minor": 0
      },
      "text/plain": [
       "HBox(children=(IntProgress(value=0, description='Writing...', max=2500, style=ProgressStyle(description_width=…"
      ]
     },
     "metadata": {},
     "output_type": "display_data"
    },
    {
     "data": {
      "application/vnd.jupyter.widget-view+json": {
       "model_id": "97b9e2757da6462199d409457d82d414",
       "version_major": 2,
       "version_minor": 0
      },
      "text/plain": [
       "HBox(children=(IntProgress(value=1, bar_style='info', description='Reading...', max=1, style=ProgressStyle(des…"
      ]
     },
     "metadata": {},
     "output_type": "display_data"
    },
    {
     "data": {
      "application/vnd.jupyter.widget-view+json": {
       "model_id": "80490002032e4ce69e23c8dfe45a13af",
       "version_major": 2,
       "version_minor": 0
      },
      "text/plain": [
       "HBox(children=(IntProgress(value=0, description='Writing...', max=2500, style=ProgressStyle(description_width=…"
      ]
     },
     "metadata": {},
     "output_type": "display_data"
    },
    {
     "data": {
      "application/vnd.jupyter.widget-view+json": {
       "model_id": "a7d690bd07664ab6b9d69b3186325009",
       "version_major": 2,
       "version_minor": 0
      },
      "text/plain": [
       "HBox(children=(IntProgress(value=1, bar_style='info', description='Reading...', max=1, style=ProgressStyle(des…"
      ]
     },
     "metadata": {},
     "output_type": "display_data"
    },
    {
     "data": {
      "application/vnd.jupyter.widget-view+json": {
       "model_id": "7b06f4986f2f455192effe6790bc7866",
       "version_major": 2,
       "version_minor": 0
      },
      "text/plain": [
       "HBox(children=(IntProgress(value=0, description='Writing...', max=2500, style=ProgressStyle(description_width=…"
      ]
     },
     "metadata": {},
     "output_type": "display_data"
    },
    {
     "data": {
      "application/vnd.jupyter.widget-view+json": {
       "model_id": "1a1f4d88d73d4cde8cdbbe34e1db269f",
       "version_major": 2,
       "version_minor": 0
      },
      "text/plain": [
       "HBox(children=(IntProgress(value=1, bar_style='info', description='Reading...', max=1, style=ProgressStyle(des…"
      ]
     },
     "metadata": {},
     "output_type": "display_data"
    },
    {
     "data": {
      "application/vnd.jupyter.widget-view+json": {
       "model_id": "3ea793ea8f3c479d9943f9a6df56b3ae",
       "version_major": 2,
       "version_minor": 0
      },
      "text/plain": [
       "HBox(children=(IntProgress(value=0, description='Writing...', max=2500, style=ProgressStyle(description_width=…"
      ]
     },
     "metadata": {},
     "output_type": "display_data"
    },
    {
     "data": {
      "application/vnd.jupyter.widget-view+json": {
       "model_id": "821858716a6e48ba938b0921f5f0e1c0",
       "version_major": 2,
       "version_minor": 0
      },
      "text/plain": [
       "HBox(children=(IntProgress(value=1, bar_style='info', description='Reading...', max=1, style=ProgressStyle(des…"
      ]
     },
     "metadata": {},
     "output_type": "display_data"
    },
    {
     "data": {
      "application/vnd.jupyter.widget-view+json": {
       "model_id": "310fae49ee7148f99d9659f0ff57a3b4",
       "version_major": 2,
       "version_minor": 0
      },
      "text/plain": [
       "HBox(children=(IntProgress(value=0, description='Writing...', max=2500, style=ProgressStyle(description_width=…"
      ]
     },
     "metadata": {},
     "output_type": "display_data"
    },
    {
     "data": {
      "application/vnd.jupyter.widget-view+json": {
       "model_id": "fb519947bc9b4fa3aef6387977297cf5",
       "version_major": 2,
       "version_minor": 0
      },
      "text/plain": [
       "HBox(children=(IntProgress(value=1, bar_style='info', description='Reading...', max=1, style=ProgressStyle(des…"
      ]
     },
     "metadata": {},
     "output_type": "display_data"
    },
    {
     "data": {
      "application/vnd.jupyter.widget-view+json": {
       "model_id": "6aa7a5b4d126446286e3ddca6d0bf8c2",
       "version_major": 2,
       "version_minor": 0
      },
      "text/plain": [
       "HBox(children=(IntProgress(value=0, description='Writing...', max=2500, style=ProgressStyle(description_width=…"
      ]
     },
     "metadata": {},
     "output_type": "display_data"
    },
    {
     "data": {
      "application/vnd.jupyter.widget-view+json": {
       "model_id": "779b0399868c43f290561ad3e38b8a1b",
       "version_major": 2,
       "version_minor": 0
      },
      "text/plain": [
       "HBox(children=(IntProgress(value=1, bar_style='info', description='Reading...', max=1, style=ProgressStyle(des…"
      ]
     },
     "metadata": {},
     "output_type": "display_data"
    },
    {
     "data": {
      "application/vnd.jupyter.widget-view+json": {
       "model_id": "c457b06ae08f4e26b5dbd9fe362ba663",
       "version_major": 2,
       "version_minor": 0
      },
      "text/plain": [
       "HBox(children=(IntProgress(value=0, description='Writing...', max=2500, style=ProgressStyle(description_width=…"
      ]
     },
     "metadata": {},
     "output_type": "display_data"
    },
    {
     "data": {
      "application/vnd.jupyter.widget-view+json": {
       "model_id": "c6309d40dad74d3cb71a053ba0a9f9f7",
       "version_major": 2,
       "version_minor": 0
      },
      "text/plain": [
       "HBox(children=(IntProgress(value=1, bar_style='info', description='Reading...', max=1, style=ProgressStyle(des…"
      ]
     },
     "metadata": {},
     "output_type": "display_data"
    },
    {
     "data": {
      "application/vnd.jupyter.widget-view+json": {
       "model_id": "f6198b643e054ababa82fcb18a773e7b",
       "version_major": 2,
       "version_minor": 0
      },
      "text/plain": [
       "HBox(children=(IntProgress(value=0, description='Writing...', max=2500, style=ProgressStyle(description_width=…"
      ]
     },
     "metadata": {},
     "output_type": "display_data"
    },
    {
     "name": "stdout",
     "output_type": "stream",
     "text": [
      "\u001b[1mDataset imdb_reviews downloaded and prepared to /Users/frankmanja/tensorflow_datasets/imdb_reviews/plain_text/0.1.0. Subsequent calls will reuse this data.\u001b[0m\n"
     ]
    }
   ],
   "source": [
    "import tensorflow_datasets as tfds\n",
    "imdb, info = tfds.load(\"imdb_reviews\", with_info=True, as_supervised=True)\n"
   ]
  },
  {
   "cell_type": "code",
   "execution_count": 4,
   "metadata": {
    "colab": {},
    "colab_type": "code",
    "id": "wHQ2Ko0zl7M4"
   },
   "outputs": [],
   "source": [
    "import numpy as np\n",
    "\n",
    "train_data, test_data = imdb['train'], imdb['test']\n",
    "\n",
    "training_sentences = []\n",
    "training_labels = []\n",
    "\n",
    "testing_sentences = []\n",
    "testing_labels = []\n",
    "\n",
    "# str(s.tonumpy()) is needed in Python3 instead of just s.numpy()\n",
    "for s,l in train_data:\n",
    "  training_sentences.append(str(s.numpy()))\n",
    "  training_labels.append(l.numpy())\n",
    "  \n",
    "for s,l in test_data:\n",
    "  testing_sentences.append(str(s.numpy()))\n",
    "  testing_labels.append(l.numpy())\n",
    "  \n",
    "training_labels_final = np.array(training_labels)\n",
    "testing_labels_final = np.array(testing_labels)\n"
   ]
  },
  {
   "cell_type": "code",
   "execution_count": 6,
   "metadata": {},
   "outputs": [
    {
     "data": {
      "text/plain": [
       "[1, 1, 1, 1, 1]"
      ]
     },
     "execution_count": 6,
     "metadata": {},
     "output_type": "execute_result"
    }
   ],
   "source": [
    "training_labels[:5]"
   ]
  },
  {
   "cell_type": "code",
   "execution_count": 7,
   "metadata": {
    "colab": {},
    "colab_type": "code",
    "id": "7n15yyMdmoH1"
   },
   "outputs": [],
   "source": [
    "vocab_size = 10000\n",
    "embedding_dim = 16\n",
    "max_length = 120\n",
    "trunc_type='post'\n",
    "oov_tok = \"<OOV>\"\n",
    "\n",
    "\n",
    "from tensorflow.keras.preprocessing.text import Tokenizer\n",
    "from tensorflow.keras.preprocessing.sequence import pad_sequences\n",
    "\n",
    "tokenizer = Tokenizer(num_words = vocab_size, oov_token=oov_tok)\n",
    "tokenizer.fit_on_texts(training_sentences)\n",
    "word_index = tokenizer.word_index\n",
    "sequences = tokenizer.texts_to_sequences(training_sentences)\n",
    "padded = pad_sequences(sequences,maxlen=max_length, truncating=trunc_type)\n",
    "\n",
    "testing_sequences = tokenizer.texts_to_sequences(testing_sentences)\n",
    "testing_padded = pad_sequences(testing_sequences,maxlen=max_length)\n",
    "\n"
   ]
  },
  {
   "cell_type": "code",
   "execution_count": 8,
   "metadata": {},
   "outputs": [
    {
     "data": {
      "text/plain": [
       "{'<OOV>': 1,\n",
       " 'the': 2,\n",
       " 'and': 3,\n",
       " 'a': 4,\n",
       " 'of': 5,\n",
       " 'to': 6,\n",
       " 'is': 7,\n",
       " 'br': 8,\n",
       " 'in': 9,\n",
       " 'it': 10,\n",
       " 'i': 11,\n",
       " 'this': 12,\n",
       " 'that': 13,\n",
       " 'was': 14,\n",
       " 'as': 15,\n",
       " 'for': 16,\n",
       " 'with': 17,\n",
       " 'movie': 18,\n",
       " 'but': 19,\n",
       " 'film': 20,\n",
       " \"'s\": 21,\n",
       " 'on': 22,\n",
       " 'you': 23,\n",
       " 'not': 24,\n",
       " 'are': 25,\n",
       " 'his': 26,\n",
       " 'he': 27,\n",
       " 'have': 28,\n",
       " 'be': 29,\n",
       " 'one': 30,\n",
       " 'all': 31,\n",
       " 'at': 32,\n",
       " 'by': 33,\n",
       " 'they': 34,\n",
       " 'an': 35,\n",
       " 'who': 36,\n",
       " 'so': 37,\n",
       " 'from': 38,\n",
       " 'like': 39,\n",
       " 'her': 40,\n",
       " \"'t\": 41,\n",
       " 'or': 42,\n",
       " 'just': 43,\n",
       " 'there': 44,\n",
       " 'about': 45,\n",
       " 'out': 46,\n",
       " \"'\": 47,\n",
       " 'has': 48,\n",
       " 'if': 49,\n",
       " 'some': 50,\n",
       " 'what': 51,\n",
       " 'good': 52,\n",
       " 'more': 53,\n",
       " 'very': 54,\n",
       " 'when': 55,\n",
       " 'she': 56,\n",
       " 'up': 57,\n",
       " 'can': 58,\n",
       " 'b': 59,\n",
       " 'time': 60,\n",
       " 'no': 61,\n",
       " 'even': 62,\n",
       " 'my': 63,\n",
       " 'would': 64,\n",
       " 'which': 65,\n",
       " 'story': 66,\n",
       " 'only': 67,\n",
       " 'really': 68,\n",
       " 'see': 69,\n",
       " 'their': 70,\n",
       " 'had': 71,\n",
       " 'were': 72,\n",
       " 'me': 73,\n",
       " 'well': 74,\n",
       " 'we': 75,\n",
       " 'than': 76,\n",
       " 'much': 77,\n",
       " 'been': 78,\n",
       " 'get': 79,\n",
       " 'bad': 80,\n",
       " 'will': 81,\n",
       " 'people': 82,\n",
       " 'do': 83,\n",
       " 'also': 84,\n",
       " 'other': 85,\n",
       " 'into': 86,\n",
       " 'because': 87,\n",
       " 'great': 88,\n",
       " 'first': 89,\n",
       " 'him': 90,\n",
       " 'how': 91,\n",
       " 'most': 92,\n",
       " 'made': 93,\n",
       " 'its': 94,\n",
       " 'then': 95,\n",
       " 'way': 96,\n",
       " 'make': 97,\n",
       " 'them': 98,\n",
       " 'could': 99,\n",
       " 'too': 100,\n",
       " 'movies': 101,\n",
       " 'any': 102,\n",
       " \"it's\": 103,\n",
       " 'after': 104,\n",
       " 'think': 105,\n",
       " 'characters': 106,\n",
       " 'watch': 107,\n",
       " 'two': 108,\n",
       " 'films': 109,\n",
       " 'character': 110,\n",
       " 'seen': 111,\n",
       " 'many': 112,\n",
       " 'life': 113,\n",
       " 'being': 114,\n",
       " 'plot': 115,\n",
       " 'acting': 116,\n",
       " 'never': 117,\n",
       " 'little': 118,\n",
       " 'love': 119,\n",
       " 'best': 120,\n",
       " 'where': 121,\n",
       " 'over': 122,\n",
       " 'did': 123,\n",
       " 'show': 124,\n",
       " 'know': 125,\n",
       " 'off': 126,\n",
       " 'ever': 127,\n",
       " 'does': 128,\n",
       " 'man': 129,\n",
       " 'better': 130,\n",
       " 'your': 131,\n",
       " 'here': 132,\n",
       " 'end': 133,\n",
       " 'still': 134,\n",
       " 'these': 135,\n",
       " 'say': 136,\n",
       " 'scene': 137,\n",
       " 'why': 138,\n",
       " 'while': 139,\n",
       " 'scenes': 140,\n",
       " 'go': 141,\n",
       " 'such': 142,\n",
       " 'something': 143,\n",
       " 'should': 144,\n",
       " 'through': 145,\n",
       " 'back': 146,\n",
       " 'don': 147,\n",
       " 'real': 148,\n",
       " 'those': 149,\n",
       " 'watching': 150,\n",
       " 'now': 151,\n",
       " 'though': 152,\n",
       " 'thing': 153,\n",
       " 'old': 154,\n",
       " 'years': 155,\n",
       " 'actors': 156,\n",
       " 'work': 157,\n",
       " 'director': 158,\n",
       " 'new': 159,\n",
       " 'another': 160,\n",
       " 'before': 161,\n",
       " 'funny': 162,\n",
       " 'nothing': 163,\n",
       " 'actually': 164,\n",
       " 'makes': 165,\n",
       " 'look': 166,\n",
       " 'find': 167,\n",
       " 'going': 168,\n",
       " 'few': 169,\n",
       " 'same': 170,\n",
       " 'part': 171,\n",
       " 'again': 172,\n",
       " 'lot': 173,\n",
       " \"don't\": 174,\n",
       " 'every': 175,\n",
       " '10': 176,\n",
       " 'cast': 177,\n",
       " 'us': 178,\n",
       " 'world': 179,\n",
       " 'quite': 180,\n",
       " 'down': 181,\n",
       " 'want': 182,\n",
       " 'things': 183,\n",
       " 'pretty': 184,\n",
       " 'young': 185,\n",
       " 'seems': 186,\n",
       " 'around': 187,\n",
       " 'got': 188,\n",
       " 'horror': 189,\n",
       " 'however': 190,\n",
       " 'fact': 191,\n",
       " 'take': 192,\n",
       " 'enough': 193,\n",
       " 'big': 194,\n",
       " 'long': 195,\n",
       " 'thought': 196,\n",
       " 'both': 197,\n",
       " 'series': 198,\n",
       " 'between': 199,\n",
       " 'may': 200,\n",
       " 'give': 201,\n",
       " 'original': 202,\n",
       " 'own': 203,\n",
       " 'action': 204,\n",
       " 'right': 205,\n",
       " 'without': 206,\n",
       " 'times': 207,\n",
       " 'always': 208,\n",
       " 'comedy': 209,\n",
       " 'point': 210,\n",
       " 'must': 211,\n",
       " 'gets': 212,\n",
       " 'role': 213,\n",
       " 'come': 214,\n",
       " 'family': 215,\n",
       " 'saw': 216,\n",
       " 'almost': 217,\n",
       " 'interesting': 218,\n",
       " 'least': 219,\n",
       " 'done': 220,\n",
       " 'whole': 221,\n",
       " 'bit': 222,\n",
       " 'music': 223,\n",
       " 'script': 224,\n",
       " 'guy': 225,\n",
       " 'far': 226,\n",
       " 'xc2': 227,\n",
       " 'anything': 228,\n",
       " 'making': 229,\n",
       " 'minutes': 230,\n",
       " 'feel': 231,\n",
       " 'last': 232,\n",
       " 'might': 233,\n",
       " 'performance': 234,\n",
       " 'since': 235,\n",
       " '2': 236,\n",
       " 'probably': 237,\n",
       " 'girl': 238,\n",
       " 'kind': 239,\n",
       " 'am': 240,\n",
       " 'away': 241,\n",
       " 'tv': 242,\n",
       " 'yet': 243,\n",
       " 'woman': 244,\n",
       " 'rather': 245,\n",
       " 'day': 246,\n",
       " \"'ve\": 247,\n",
       " 'worst': 248,\n",
       " 'fun': 249,\n",
       " 'sure': 250,\n",
       " 'hard': 251,\n",
       " \"'m\": 252,\n",
       " 'doesn': 253,\n",
       " 'anyone': 254,\n",
       " 'played': 255,\n",
       " \"b'i\": 256,\n",
       " 'each': 257,\n",
       " 'found': 258,\n",
       " 'xc3': 259,\n",
       " 'especially': 260,\n",
       " 'course': 261,\n",
       " 'our': 262,\n",
       " 'believe': 263,\n",
       " 'having': 264,\n",
       " 'comes': 265,\n",
       " 'looking': 266,\n",
       " 'screen': 267,\n",
       " 'although': 268,\n",
       " 'trying': 269,\n",
       " 'goes': 270,\n",
       " 'set': 271,\n",
       " 'looks': 272,\n",
       " 'place': 273,\n",
       " 'book': 274,\n",
       " 'different': 275,\n",
       " 'put': 276,\n",
       " 'money': 277,\n",
       " 'ending': 278,\n",
       " 'actor': 279,\n",
       " 'maybe': 280,\n",
       " 'year': 281,\n",
       " 'sense': 282,\n",
       " 'reason': 283,\n",
       " 'true': 284,\n",
       " 'everything': 285,\n",
       " 'dvd': 286,\n",
       " 'shows': 287,\n",
       " 'once': 288,\n",
       " 'didn': 289,\n",
       " 'someone': 290,\n",
       " 'three': 291,\n",
       " 'worth': 292,\n",
       " 'job': 293,\n",
       " \"'re\": 294,\n",
       " 'main': 295,\n",
       " 'together': 296,\n",
       " 'play': 297,\n",
       " 'watched': 298,\n",
       " 'american': 299,\n",
       " 'plays': 300,\n",
       " '1': 301,\n",
       " 'effects': 302,\n",
       " 'said': 303,\n",
       " 'later': 304,\n",
       " 'takes': 305,\n",
       " 'instead': 306,\n",
       " 'audience': 307,\n",
       " 'seem': 308,\n",
       " 'john': 309,\n",
       " 'beautiful': 310,\n",
       " 'everyone': 311,\n",
       " 'himself': 312,\n",
       " 'version': 313,\n",
       " 'house': 314,\n",
       " 'high': 315,\n",
       " 'night': 316,\n",
       " 'during': 317,\n",
       " 'left': 318,\n",
       " \"i'm\": 319,\n",
       " 'special': 320,\n",
       " 'wife': 321,\n",
       " 'seeing': 322,\n",
       " 'half': 323,\n",
       " 'let': 324,\n",
       " 'star': 325,\n",
       " 'father': 326,\n",
       " 'excellent': 327,\n",
       " 'shot': 328,\n",
       " \"didn't\": 329,\n",
       " 'war': 330,\n",
       " 'idea': 331,\n",
       " 'black': 332,\n",
       " 'nice': 333,\n",
       " 'less': 334,\n",
       " 'mind': 335,\n",
       " 'else': 336,\n",
       " 'read': 337,\n",
       " \"doesn't\": 338,\n",
       " 'second': 339,\n",
       " 'simply': 340,\n",
       " 'fan': 341,\n",
       " 'help': 342,\n",
       " 'death': 343,\n",
       " 'poor': 344,\n",
       " 'completely': 345,\n",
       " '3': 346,\n",
       " 'used': 347,\n",
       " 'men': 348,\n",
       " 'home': 349,\n",
       " 'either': 350,\n",
       " 'short': 351,\n",
       " 'hollywood': 352,\n",
       " 'line': 353,\n",
       " 'dead': 354,\n",
       " 'given': 355,\n",
       " 'top': 356,\n",
       " 'kids': 357,\n",
       " 'budget': 358,\n",
       " 'try': 359,\n",
       " \"b'this\": 360,\n",
       " 'performances': 361,\n",
       " 'wrong': 362,\n",
       " 'classic': 363,\n",
       " 'enjoy': 364,\n",
       " 'boring': 365,\n",
       " 'need': 366,\n",
       " 'rest': 367,\n",
       " 'use': 368,\n",
       " 'low': 369,\n",
       " 'women': 370,\n",
       " 'production': 371,\n",
       " 'isn': 372,\n",
       " 'friends': 373,\n",
       " 'until': 374,\n",
       " 'camera': 375,\n",
       " 'full': 376,\n",
       " 'along': 377,\n",
       " 'truly': 378,\n",
       " 'video': 379,\n",
       " 'awful': 380,\n",
       " 'next': 381,\n",
       " 'tell': 382,\n",
       " 'couple': 383,\n",
       " 'stupid': 384,\n",
       " 'start': 385,\n",
       " 'remember': 386,\n",
       " 'mean': 387,\n",
       " 'sex': 388,\n",
       " 'stars': 389,\n",
       " 'perhaps': 390,\n",
       " 'came': 391,\n",
       " 'recommend': 392,\n",
       " 'moments': 393,\n",
       " 'episode': 394,\n",
       " 'wonderful': 395,\n",
       " 'school': 396,\n",
       " 'understand': 397,\n",
       " 'small': 398,\n",
       " 'face': 399,\n",
       " 'playing': 400,\n",
       " 'terrible': 401,\n",
       " \"i've\": 402,\n",
       " 'getting': 403,\n",
       " 'written': 404,\n",
       " \"'ll\": 405,\n",
       " 'doing': 406,\n",
       " 'early': 407,\n",
       " 'often': 408,\n",
       " 'name': 409,\n",
       " 'keep': 410,\n",
       " 'style': 411,\n",
       " 'perfect': 412,\n",
       " 'human': 413,\n",
       " 'others': 414,\n",
       " 'gives': 415,\n",
       " 'definitely': 416,\n",
       " 'person': 417,\n",
       " 'itself': 418,\n",
       " 'lines': 419,\n",
       " 'live': 420,\n",
       " 'become': 421,\n",
       " 'dialogue': 422,\n",
       " \"can't\": 423,\n",
       " 'head': 424,\n",
       " 'lost': 425,\n",
       " 'piece': 426,\n",
       " 'case': 427,\n",
       " 'felt': 428,\n",
       " 'finally': 429,\n",
       " 'boy': 430,\n",
       " 'supposed': 431,\n",
       " 'liked': 432,\n",
       " 'title': 433,\n",
       " 'yes': 434,\n",
       " 'white': 435,\n",
       " 'picture': 436,\n",
       " 'cinema': 437,\n",
       " 'against': 438,\n",
       " 'absolutely': 439,\n",
       " 'mother': 440,\n",
       " 'sort': 441,\n",
       " 'worse': 442,\n",
       " 'entire': 443,\n",
       " 'went': 444,\n",
       " 'certainly': 445,\n",
       " 'waste': 446,\n",
       " 'problem': 447,\n",
       " 'hope': 448,\n",
       " 'entertaining': 449,\n",
       " 'evil': 450,\n",
       " 'mr': 451,\n",
       " 'overall': 452,\n",
       " 'called': 453,\n",
       " 'children': 454,\n",
       " 'loved': 455,\n",
       " 'based': 456,\n",
       " 'killer': 457,\n",
       " 'several': 458,\n",
       " 'friend': 459,\n",
       " 'fans': 460,\n",
       " \"that's\": 461,\n",
       " 'drama': 462,\n",
       " \"isn't\": 463,\n",
       " 'beginning': 464,\n",
       " 'lives': 465,\n",
       " 'direction': 466,\n",
       " '5': 467,\n",
       " 'care': 468,\n",
       " 'becomes': 469,\n",
       " 'already': 470,\n",
       " \"'d\": 471,\n",
       " 'laugh': 472,\n",
       " 'example': 473,\n",
       " 'oh': 474,\n",
       " 'dark': 475,\n",
       " 'under': 476,\n",
       " 'seemed': 477,\n",
       " 'throughout': 478,\n",
       " '4': 479,\n",
       " 'turn': 480,\n",
       " 'wanted': 481,\n",
       " 'unfortunately': 482,\n",
       " 'x96': 483,\n",
       " 'despite': 484,\n",
       " 'son': 485,\n",
       " 'history': 486,\n",
       " 'fine': 487,\n",
       " 'final': 488,\n",
       " 'sound': 489,\n",
       " 'amazing': 490,\n",
       " 'heart': 491,\n",
       " 'guess': 492,\n",
       " 'lead': 493,\n",
       " 'totally': 494,\n",
       " 'humor': 495,\n",
       " 'michael': 496,\n",
       " 'writing': 497,\n",
       " 'quality': 498,\n",
       " \"there's\": 499,\n",
       " 'guys': 500,\n",
       " 'close': 501,\n",
       " 'wants': 502,\n",
       " 'child': 503,\n",
       " 'works': 504,\n",
       " 'behind': 505,\n",
       " 'tries': 506,\n",
       " 'side': 507,\n",
       " 'art': 508,\n",
       " 'game': 509,\n",
       " 'past': 510,\n",
       " 'days': 511,\n",
       " 'town': 512,\n",
       " 'able': 513,\n",
       " 'hand': 514,\n",
       " 'flick': 515,\n",
       " 'turns': 516,\n",
       " 'genre': 517,\n",
       " 'act': 518,\n",
       " 'enjoyed': 519,\n",
       " 'viewer': 520,\n",
       " 'favorite': 521,\n",
       " 'kill': 522,\n",
       " 'car': 523,\n",
       " 'soon': 524,\n",
       " 'starts': 525,\n",
       " 'gave': 526,\n",
       " 'etc': 527,\n",
       " 'run': 528,\n",
       " 'sometimes': 529,\n",
       " 'actress': 530,\n",
       " 'late': 531,\n",
       " 'eyes': 532,\n",
       " 'directed': 533,\n",
       " 'horrible': 534,\n",
       " 'parts': 535,\n",
       " 'brilliant': 536,\n",
       " 'wasn': 537,\n",
       " 'girls': 538,\n",
       " 'themselves': 539,\n",
       " 'hour': 540,\n",
       " 'self': 541,\n",
       " 'thinking': 542,\n",
       " 'stories': 543,\n",
       " 'expect': 544,\n",
       " 'city': 545,\n",
       " 'stuff': 546,\n",
       " 'won': 547,\n",
       " 'kid': 548,\n",
       " 'god': 549,\n",
       " 'obviously': 550,\n",
       " 'blood': 551,\n",
       " 'decent': 552,\n",
       " 'voice': 553,\n",
       " 'highly': 554,\n",
       " 'myself': 555,\n",
       " 'feeling': 556,\n",
       " 'fight': 557,\n",
       " 'today': 558,\n",
       " 'writer': 559,\n",
       " \"wasn't\": 560,\n",
       " 'matter': 561,\n",
       " 'except': 562,\n",
       " 'slow': 563,\n",
       " 'type': 564,\n",
       " \"he's\": 565,\n",
       " 'anyway': 566,\n",
       " 'roles': 567,\n",
       " 'age': 568,\n",
       " 'heard': 569,\n",
       " 'killed': 570,\n",
       " 'says': 571,\n",
       " 'moment': 572,\n",
       " 'daughter': 573,\n",
       " 'took': 574,\n",
       " 'strong': 575,\n",
       " 'leave': 576,\n",
       " 'cannot': 577,\n",
       " 'violence': 578,\n",
       " 's': 579,\n",
       " 'hit': 580,\n",
       " 'police': 581,\n",
       " 'stop': 582,\n",
       " 'happens': 583,\n",
       " 'particularly': 584,\n",
       " 'known': 585,\n",
       " 'involved': 586,\n",
       " 'happened': 587,\n",
       " 'brother': 588,\n",
       " 'extremely': 589,\n",
       " 'obvious': 590,\n",
       " 'chance': 591,\n",
       " 'told': 592,\n",
       " 'living': 593,\n",
       " 'experience': 594,\n",
       " 'lack': 595,\n",
       " 'coming': 596,\n",
       " 'alone': 597,\n",
       " 'james': 598,\n",
       " 'including': 599,\n",
       " 'murder': 600,\n",
       " 'attempt': 601,\n",
       " 'happen': 602,\n",
       " 'please': 603,\n",
       " 'wonder': 604,\n",
       " 'gore': 605,\n",
       " 'crap': 606,\n",
       " 'ago': 607,\n",
       " 'group': 608,\n",
       " 'interest': 609,\n",
       " 'complete': 610,\n",
       " 'none': 611,\n",
       " 'score': 612,\n",
       " 'cut': 613,\n",
       " 'simple': 614,\n",
       " 'save': 615,\n",
       " 'hell': 616,\n",
       " 'hero': 617,\n",
       " 'looked': 618,\n",
       " 'number': 619,\n",
       " 'song': 620,\n",
       " 'career': 621,\n",
       " 'husband': 622,\n",
       " 'possible': 623,\n",
       " 'annoying': 624,\n",
       " 'sad': 625,\n",
       " 'shown': 626,\n",
       " 'exactly': 627,\n",
       " 'seriously': 628,\n",
       " 'running': 629,\n",
       " 'musical': 630,\n",
       " 'serious': 631,\n",
       " 'yourself': 632,\n",
       " 'taken': 633,\n",
       " 'david': 634,\n",
       " 'whose': 635,\n",
       " 'cinematography': 636,\n",
       " 'released': 637,\n",
       " 'ends': 638,\n",
       " 'scary': 639,\n",
       " 'reality': 640,\n",
       " 'hours': 641,\n",
       " 'english': 642,\n",
       " 'usually': 643,\n",
       " 'light': 644,\n",
       " 'opening': 645,\n",
       " 'jokes': 646,\n",
       " 'across': 647,\n",
       " 'body': 648,\n",
       " 'hilarious': 649,\n",
       " 'somewhat': 650,\n",
       " 'relationship': 651,\n",
       " 'usual': 652,\n",
       " 'started': 653,\n",
       " 'cool': 654,\n",
       " 'view': 655,\n",
       " 'level': 656,\n",
       " 'ridiculous': 657,\n",
       " 'change': 658,\n",
       " 'opinion': 659,\n",
       " 'happy': 660,\n",
       " 'wish': 661,\n",
       " 'middle': 662,\n",
       " 'king': 663,\n",
       " 'novel': 664,\n",
       " 'taking': 665,\n",
       " 'ones': 666,\n",
       " 'talking': 667,\n",
       " 'ok': 668,\n",
       " 'finds': 669,\n",
       " 'order': 670,\n",
       " 'shots': 671,\n",
       " 'documentary': 672,\n",
       " 'saying': 673,\n",
       " 'huge': 674,\n",
       " 'female': 675,\n",
       " 'room': 676,\n",
       " 'mostly': 677,\n",
       " 'power': 678,\n",
       " 'episodes': 679,\n",
       " 'robert': 680,\n",
       " 'important': 681,\n",
       " 'talent': 682,\n",
       " 'rating': 683,\n",
       " 'word': 684,\n",
       " 'turned': 685,\n",
       " 'strange': 686,\n",
       " 'major': 687,\n",
       " 'five': 688,\n",
       " 'modern': 689,\n",
       " 'call': 690,\n",
       " 'single': 691,\n",
       " 'disappointed': 692,\n",
       " 'country': 693,\n",
       " 'apparently': 694,\n",
       " 'events': 695,\n",
       " 'due': 696,\n",
       " 'songs': 697,\n",
       " 'attention': 698,\n",
       " 'earth': 699,\n",
       " '7': 700,\n",
       " 'four': 701,\n",
       " 'television': 702,\n",
       " 'jack': 703,\n",
       " 'knows': 704,\n",
       " 'comic': 705,\n",
       " 'non': 706,\n",
       " 'clearly': 707,\n",
       " 'knew': 708,\n",
       " 'basically': 709,\n",
       " 'supporting': 710,\n",
       " 'british': 711,\n",
       " 'future': 712,\n",
       " 'fast': 713,\n",
       " '8': 714,\n",
       " 'class': 715,\n",
       " 'cheap': 716,\n",
       " 'thriller': 717,\n",
       " 'problems': 718,\n",
       " 'silly': 719,\n",
       " 'easily': 720,\n",
       " 'tells': 721,\n",
       " 'miss': 722,\n",
       " 'local': 723,\n",
       " 'paul': 724,\n",
       " 'words': 725,\n",
       " 'sequence': 726,\n",
       " 'entertainment': 727,\n",
       " 'bring': 728,\n",
       " 'beyond': 729,\n",
       " 'rock': 730,\n",
       " 'oscar': 731,\n",
       " 'upon': 732,\n",
       " 'straight': 733,\n",
       " 'whether': 734,\n",
       " 'moving': 735,\n",
       " 'sets': 736,\n",
       " 'predictable': 737,\n",
       " 'similar': 738,\n",
       " 'romantic': 739,\n",
       " 'review': 740,\n",
       " 'falls': 741,\n",
       " 'mystery': 742,\n",
       " 'george': 743,\n",
       " 'needs': 744,\n",
       " 'appears': 745,\n",
       " 'enjoyable': 746,\n",
       " 'eye': 747,\n",
       " 'giving': 748,\n",
       " 'clich': 749,\n",
       " 'talk': 750,\n",
       " 'lady': 751,\n",
       " 'within': 752,\n",
       " 'richard': 753,\n",
       " \"b'\": 754,\n",
       " 'animation': 755,\n",
       " 'theater': 756,\n",
       " 'message': 757,\n",
       " 'ten': 758,\n",
       " 'near': 759,\n",
       " 'couldn': 760,\n",
       " 'above': 761,\n",
       " 'theme': 762,\n",
       " 'sequel': 763,\n",
       " 'nearly': 764,\n",
       " 'team': 765,\n",
       " 'points': 766,\n",
       " 'stand': 767,\n",
       " 'dull': 768,\n",
       " \"you're\": 769,\n",
       " 'mention': 770,\n",
       " 'bunch': 771,\n",
       " 'herself': 772,\n",
       " 'feels': 773,\n",
       " 'add': 774,\n",
       " 'release': 775,\n",
       " \"b'the\": 776,\n",
       " 'storyline': 777,\n",
       " 'ways': 778,\n",
       " 'sister': 779,\n",
       " 'surprised': 780,\n",
       " 'red': 781,\n",
       " 'named': 782,\n",
       " 'using': 783,\n",
       " 'york': 784,\n",
       " 'fantastic': 785,\n",
       " 'easy': 786,\n",
       " 'lots': 787,\n",
       " 'begins': 788,\n",
       " 'actual': 789,\n",
       " 't': 790,\n",
       " 'working': 791,\n",
       " 'effort': 792,\n",
       " 'lee': 793,\n",
       " 'tale': 794,\n",
       " 'minute': 795,\n",
       " 'die': 796,\n",
       " 'hate': 797,\n",
       " 'clear': 798,\n",
       " 'french': 799,\n",
       " 'stay': 800,\n",
       " 'elements': 801,\n",
       " 'feature': 802,\n",
       " 'among': 803,\n",
       " 'viewers': 804,\n",
       " '9': 805,\n",
       " 'follow': 806,\n",
       " 're': 807,\n",
       " 'comments': 808,\n",
       " 'editing': 809,\n",
       " 'avoid': 810,\n",
       " 'showing': 811,\n",
       " 'tried': 812,\n",
       " 'typical': 813,\n",
       " 'famous': 814,\n",
       " 'season': 815,\n",
       " 'fall': 816,\n",
       " 'tom': 817,\n",
       " 'dialog': 818,\n",
       " 'check': 819,\n",
       " 'period': 820,\n",
       " 'form': 821,\n",
       " 'soundtrack': 822,\n",
       " 'certain': 823,\n",
       " 'filmed': 824,\n",
       " 'sorry': 825,\n",
       " 'means': 826,\n",
       " 'buy': 827,\n",
       " 'material': 828,\n",
       " 'realistic': 829,\n",
       " 'weak': 830,\n",
       " 'peter': 831,\n",
       " 'crime': 832,\n",
       " 'figure': 833,\n",
       " 'doubt': 834,\n",
       " 'somehow': 835,\n",
       " 'general': 836,\n",
       " 'gone': 837,\n",
       " 'kept': 838,\n",
       " 'viewing': 839,\n",
       " 'leads': 840,\n",
       " 'parents': 841,\n",
       " 'greatest': 842,\n",
       " 'space': 843,\n",
       " 'dance': 844,\n",
       " 'suspense': 845,\n",
       " 'lame': 846,\n",
       " 'third': 847,\n",
       " 'brought': 848,\n",
       " 'atmosphere': 849,\n",
       " 'hear': 850,\n",
       " 'imagine': 851,\n",
       " 'particular': 852,\n",
       " 'sequences': 853,\n",
       " 'move': 854,\n",
       " 'whatever': 855,\n",
       " 'indeed': 856,\n",
       " 'eventually': 857,\n",
       " 'learn': 858,\n",
       " 'rent': 859,\n",
       " 'de': 860,\n",
       " 'reviews': 861,\n",
       " 'zombie': 862,\n",
       " 'deal': 863,\n",
       " 'wait': 864,\n",
       " 'average': 865,\n",
       " 'japanese': 866,\n",
       " 'sexual': 867,\n",
       " 'note': 868,\n",
       " 'forget': 869,\n",
       " 'premise': 870,\n",
       " 'surprise': 871,\n",
       " 'poorly': 872,\n",
       " 'believable': 873,\n",
       " 'stage': 874,\n",
       " 'sit': 875,\n",
       " 'disney': 876,\n",
       " 'nature': 877,\n",
       " 'possibly': 878,\n",
       " 'decided': 879,\n",
       " 'expected': 880,\n",
       " 'subject': 881,\n",
       " 'became': 882,\n",
       " 'america': 883,\n",
       " 'screenplay': 884,\n",
       " 'truth': 885,\n",
       " 'free': 886,\n",
       " 'killing': 887,\n",
       " 'difficult': 888,\n",
       " 'xa9': 889,\n",
       " 'romance': 890,\n",
       " 'imdb': 891,\n",
       " '20': 892,\n",
       " 'nor': 893,\n",
       " 'dr': 894,\n",
       " 'question': 895,\n",
       " 'street': 896,\n",
       " 'leaves': 897,\n",
       " 'needed': 898,\n",
       " 'baby': 899,\n",
       " \"couldn't\": 900,\n",
       " 'reading': 901,\n",
       " 'meets': 902,\n",
       " 'begin': 903,\n",
       " 'hot': 904,\n",
       " 'dog': 905,\n",
       " 'directors': 906,\n",
       " 'credits': 907,\n",
       " 'unless': 908,\n",
       " 'joe': 909,\n",
       " 'otherwise': 910,\n",
       " 'write': 911,\n",
       " 'superb': 912,\n",
       " 'society': 913,\n",
       " 'shame': 914,\n",
       " 'situation': 915,\n",
       " 'okay': 916,\n",
       " 'dramatic': 917,\n",
       " 'memorable': 918,\n",
       " 'weird': 919,\n",
       " 'open': 920,\n",
       " 'badly': 921,\n",
       " 'earlier': 922,\n",
       " 'meet': 923,\n",
       " 'male': 924,\n",
       " 'acted': 925,\n",
       " 'forced': 926,\n",
       " 'emotional': 927,\n",
       " 'sci': 928,\n",
       " 'fi': 929,\n",
       " 'writers': 930,\n",
       " 'laughs': 931,\n",
       " 'dream': 932,\n",
       " 'older': 933,\n",
       " 'realize': 934,\n",
       " 'forward': 935,\n",
       " 'footage': 936,\n",
       " 'interested': 937,\n",
       " 'comment': 938,\n",
       " 'crazy': 939,\n",
       " 'beauty': 940,\n",
       " 'fantasy': 941,\n",
       " 'whom': 942,\n",
       " 'sounds': 943,\n",
       " 'plus': 944,\n",
       " 'deep': 945,\n",
       " 'monster': 946,\n",
       " 'directing': 947,\n",
       " 'ask': 948,\n",
       " 'keeps': 949,\n",
       " 'features': 950,\n",
       " 'development': 951,\n",
       " 'air': 952,\n",
       " 'mess': 953,\n",
       " 'quickly': 954,\n",
       " 'mark': 955,\n",
       " 'perfectly': 956,\n",
       " 'towards': 957,\n",
       " 'box': 958,\n",
       " 'd': 959,\n",
       " 'creepy': 960,\n",
       " 'worked': 961,\n",
       " 'setting': 962,\n",
       " 'result': 963,\n",
       " 'unique': 964,\n",
       " 'cheesy': 965,\n",
       " 'plenty': 966,\n",
       " 'brings': 967,\n",
       " 'e': 968,\n",
       " 'hands': 969,\n",
       " 'total': 970,\n",
       " 'effect': 971,\n",
       " 'previous': 972,\n",
       " 'girlfriend': 973,\n",
       " 'jane': 974,\n",
       " 'fire': 975,\n",
       " 'personal': 976,\n",
       " 'bill': 977,\n",
       " 'incredibly': 978,\n",
       " 'rate': 979,\n",
       " 'business': 980,\n",
       " 'leading': 981,\n",
       " 'joke': 982,\n",
       " 'casting': 983,\n",
       " 'admit': 984,\n",
       " 'background': 985,\n",
       " 'appear': 986,\n",
       " 'powerful': 987,\n",
       " 'apart': 988,\n",
       " 'present': 989,\n",
       " 'telling': 990,\n",
       " 'christmas': 991,\n",
       " 'meant': 992,\n",
       " 'potential': 993,\n",
       " 'battle': 994,\n",
       " 'hardly': 995,\n",
       " 'break': 996,\n",
       " 'create': 997,\n",
       " 'era': 998,\n",
       " 'return': 999,\n",
       " 'boys': 1000,\n",
       " ...}"
      ]
     },
     "execution_count": 8,
     "metadata": {},
     "output_type": "execute_result"
    }
   ],
   "source": [
    "word_index"
   ]
  },
  {
   "cell_type": "code",
   "execution_count": 5,
   "metadata": {
    "colab": {
     "base_uri": "https://localhost:8080/",
     "height": 71
    },
    "colab_type": "code",
    "id": "9axf0uIXVMhO",
    "outputId": "f4566285-dad6-412f-abaa-1ab8557b737b"
   },
   "outputs": [
    {
     "name": "stdout",
     "output_type": "stream",
     "text": [
      "b oh yeah jenna jameson did it again yeah baby this movie rocks it was one of the 1st movies i saw of her and i have to say i feel in love with her she was great in this move br br her performance was outstanding and what i liked the most was the scenery and the wardrobe it was amazing you can tell that they put a lot into the movie the girls cloth were amazing br br i hope this comment helps and u can buy the movie the storyline is awesome is very unique and i'm sure u are going to like it jenna amazed us once more and no wonder the movie won so many\n",
      "b\"Oh yeah! Jenna Jameson did it again! Yeah Baby! This movie rocks. It was one of the 1st movies i saw of her. And i have to say i feel in love with her, she was great in this move.<br /><br />Her performance was outstanding and what i liked the most was the scenery and the wardrobe it was amazing you can tell that they put a lot into the movie the girls cloth were amazing.<br /><br />I hope this comment helps and u can buy the movie, the storyline is awesome is very unique and i'm sure u are going to like it. Jenna amazed us once more and no wonder the movie won so many awards. Her make-up and wardrobe is very very sexy and the girls on girls scene is amazing. specially the one where she looks like an angel. It's a must see and i hope u share my interests\"\n"
     ]
    }
   ],
   "source": [
    "reverse_word_index = dict([(value, key) for (key, value) in word_index.items()])\n",
    "\n",
    "def decode_review(text):\n",
    "    return ' '.join([reverse_word_index.get(i, '?') for i in text])\n",
    "\n",
    "print(decode_review(padded[1]))\n",
    "print(training_sentences[1])"
   ]
  },
  {
   "cell_type": "code",
   "execution_count": 6,
   "metadata": {
    "colab": {
     "base_uri": "https://localhost:8080/",
     "height": 289
    },
    "colab_type": "code",
    "id": "5NEpdhb8AxID",
    "outputId": "fd30b0c7-21b8-4ee8-a7ad-0f3eaa274b4d"
   },
   "outputs": [
    {
     "name": "stdout",
     "output_type": "stream",
     "text": [
      "Model: \"sequential\"\n",
      "_________________________________________________________________\n",
      "Layer (type)                 Output Shape              Param #   \n",
      "=================================================================\n",
      "embedding (Embedding)        (None, 120, 16)           160000    \n",
      "_________________________________________________________________\n",
      "flatten (Flatten)            (None, 1920)              0         \n",
      "_________________________________________________________________\n",
      "dense (Dense)                (None, 6)                 11526     \n",
      "_________________________________________________________________\n",
      "dense_1 (Dense)              (None, 1)                 7         \n",
      "=================================================================\n",
      "Total params: 171,533\n",
      "Trainable params: 171,533\n",
      "Non-trainable params: 0\n",
      "_________________________________________________________________\n"
     ]
    }
   ],
   "source": [
    "model = tf.keras.Sequential([\n",
    "    tf.keras.layers.Embedding(vocab_size, embedding_dim, input_length=max_length),\n",
    "    tf.keras.layers.Flatten(),\n",
    "    tf.keras.layers.Dense(6, activation='relu'),\n",
    "    tf.keras.layers.Dense(1, activation='sigmoid')\n",
    "])\n",
    "model.compile(loss='binary_crossentropy',optimizer='adam',metrics=['accuracy'])\n",
    "model.summary()\n"
   ]
  },
  {
   "cell_type": "code",
   "execution_count": 7,
   "metadata": {
    "colab": {
     "base_uri": "https://localhost:8080/",
     "height": 513
    },
    "colab_type": "code",
    "id": "V5LLrXC-uNX6",
    "outputId": "f44067a1-fb79-4a69-8873-003506b269a3"
   },
   "outputs": [
    {
     "name": "stdout",
     "output_type": "stream",
     "text": [
      "Train on 25000 samples, validate on 25000 samples\n",
      "Epoch 1/10\n",
      "WARNING:tensorflow:From /usr/local/lib/python3.6/dist-packages/tensorflow_core/python/ops/nn_impl.py:183: where (from tensorflow.python.ops.array_ops) is deprecated and will be removed in a future version.\n",
      "Instructions for updating:\n",
      "Use tf.where in 2.0, which has the same broadcast rule as np.where\n"
     ]
    },
    {
     "name": "stderr",
     "output_type": "stream",
     "text": [
      "WARNING:tensorflow:From /usr/local/lib/python3.6/dist-packages/tensorflow_core/python/ops/nn_impl.py:183: where (from tensorflow.python.ops.array_ops) is deprecated and will be removed in a future version.\n",
      "Instructions for updating:\n",
      "Use tf.where in 2.0, which has the same broadcast rule as np.where\n"
     ]
    },
    {
     "name": "stdout",
     "output_type": "stream",
     "text": [
      "25000/25000 [==============================] - 8s 316us/sample - loss: 0.4969 - acc: 0.7384 - val_loss: 0.3454 - val_acc: 0.8487\n",
      "Epoch 2/10\n",
      "25000/25000 [==============================] - 7s 260us/sample - loss: 0.2403 - acc: 0.9072 - val_loss: 0.3712 - val_acc: 0.8366\n",
      "Epoch 3/10\n",
      "25000/25000 [==============================] - 6s 258us/sample - loss: 0.0870 - acc: 0.9783 - val_loss: 0.4565 - val_acc: 0.8270\n",
      "Epoch 4/10\n",
      "25000/25000 [==============================] - 6s 257us/sample - loss: 0.0221 - acc: 0.9971 - val_loss: 0.5348 - val_acc: 0.8246\n",
      "Epoch 5/10\n",
      "25000/25000 [==============================] - 6s 259us/sample - loss: 0.0066 - acc: 0.9994 - val_loss: 0.5902 - val_acc: 0.8237\n",
      "Epoch 6/10\n",
      "25000/25000 [==============================] - 6s 258us/sample - loss: 0.0019 - acc: 1.0000 - val_loss: 0.6452 - val_acc: 0.8243\n",
      "Epoch 7/10\n",
      "25000/25000 [==============================] - 6s 257us/sample - loss: 8.7182e-04 - acc: 1.0000 - val_loss: 0.6881 - val_acc: 0.8249\n",
      "Epoch 8/10\n",
      "25000/25000 [==============================] - 6s 255us/sample - loss: 4.7434e-04 - acc: 1.0000 - val_loss: 0.7290 - val_acc: 0.8240\n",
      "Epoch 9/10\n",
      "25000/25000 [==============================] - 6s 257us/sample - loss: 2.6945e-04 - acc: 1.0000 - val_loss: 0.7656 - val_acc: 0.8243\n",
      "Epoch 10/10\n",
      "25000/25000 [==============================] - 6s 260us/sample - loss: 1.6091e-04 - acc: 1.0000 - val_loss: 0.8033 - val_acc: 0.8245\n"
     ]
    },
    {
     "data": {
      "text/plain": [
       "<tensorflow.python.keras.callbacks.History at 0x7f4525fcc470>"
      ]
     },
     "execution_count": 7,
     "metadata": {
      "tags": []
     },
     "output_type": "execute_result"
    }
   ],
   "source": [
    "num_epochs = 10\n",
    "model.fit(padded, training_labels_final, epochs=num_epochs, validation_data=(testing_padded, testing_labels_final))"
   ]
  },
  {
   "cell_type": "code",
   "execution_count": 8,
   "metadata": {
    "colab": {
     "base_uri": "https://localhost:8080/",
     "height": 34
    },
    "colab_type": "code",
    "id": "yAmjJqEyCOF_",
    "outputId": "0b76f232-ddf4-486b-fe41-cf90656394a1"
   },
   "outputs": [
    {
     "name": "stdout",
     "output_type": "stream",
     "text": [
      "(10000, 16)\n"
     ]
    }
   ],
   "source": [
    "e = model.layers[0]\n",
    "weights = e.get_weights()[0]\n",
    "print(weights.shape) # shape: (vocab_size, embedding_dim)"
   ]
  },
  {
   "cell_type": "code",
   "execution_count": null,
   "metadata": {
    "colab": {},
    "colab_type": "code",
    "id": "jmB0Uxk0ycP6"
   },
   "outputs": [],
   "source": [
    "import io\n",
    "\n",
    "out_v = io.open('vecs.tsv', 'w', encoding='utf-8')\n",
    "out_m = io.open('meta.tsv', 'w', encoding='utf-8')\n",
    "for word_num in range(1, vocab_size):\n",
    "  word = reverse_word_index[word_num]\n",
    "  embeddings = weights[word_num]\n",
    "  out_m.write(word + \"\\n\")\n",
    "  out_v.write('\\t'.join([str(x) for x in embeddings]) + \"\\n\")\n",
    "out_v.close()\n",
    "out_m.close()"
   ]
  },
  {
   "cell_type": "code",
   "execution_count": null,
   "metadata": {
    "colab": {},
    "colab_type": "code",
    "id": "VDeqpOCVydtq"
   },
   "outputs": [],
   "source": [
    "\n",
    "\n",
    "try:\n",
    "  from google.colab import files\n",
    "except ImportError:\n",
    "  pass\n",
    "else:\n",
    "  files.download('vecs.tsv')\n",
    "  files.download('meta.tsv')"
   ]
  },
  {
   "cell_type": "code",
   "execution_count": 11,
   "metadata": {
    "colab": {
     "base_uri": "https://localhost:8080/",
     "height": 54
    },
    "colab_type": "code",
    "id": "YRxoxc2apscY",
    "outputId": "a671cac4-7c22-45a3-deeb-43382562a44f"
   },
   "outputs": [
    {
     "name": "stdout",
     "output_type": "stream",
     "text": [
      "[[11], [], [1430], [968], [4], [1537], [1537], [4738], [], [790], [2015], [11], [2922], [2191], [], [790], [2015], [11], [579], [], [11], [579], [], [4], [1783], [4], [4508], [11], [2922], [1277], [], [], [2015], [1005], [2922], [968], [579], [790], []]\n"
     ]
    }
   ],
   "source": [
    "sentence = \"I really think this is amazing. honest.\"\n",
    "sequence = tokenizer.texts_to_sequences(sentence)\n",
    "print(sequence)"
   ]
  }
 ],
 "metadata": {
  "accelerator": "GPU",
  "colab": {
   "collapsed_sections": [],
   "name": "Course 3 - Week 2 - Lesson 1.ipynb",
   "provenance": []
  },
  "kernelspec": {
   "display_name": "Python 3",
   "language": "python",
   "name": "python3"
  },
  "language_info": {
   "codemirror_mode": {
    "name": "ipython",
    "version": 3
   },
   "file_extension": ".py",
   "mimetype": "text/x-python",
   "name": "python",
   "nbconvert_exporter": "python",
   "pygments_lexer": "ipython3",
   "version": "3.7.4"
  },
  "widgets": {
   "application/vnd.jupyter.widget-state+json": {
    "028f6bed645b47fbb54f6ae7ccbff3a6": {
     "model_module": "@jupyter-widgets/controls",
     "model_name": "HBoxModel",
     "state": {
      "_dom_classes": [],
      "_model_module": "@jupyter-widgets/controls",
      "_model_module_version": "1.5.0",
      "_model_name": "HBoxModel",
      "_view_count": null,
      "_view_module": "@jupyter-widgets/controls",
      "_view_module_version": "1.5.0",
      "_view_name": "HBoxView",
      "box_style": "",
      "children": [
       "IPY_MODEL_ff8d7b9631e34e89a3f9dd87f2d54036",
       "IPY_MODEL_9df4c7ebbd984d21a0698fc849083645"
      ],
      "layout": "IPY_MODEL_9e0d1166cbf840168a34230a2d0b8733"
     }
    },
    "03b9120c049b4246bc7926fd68996105": {
     "model_module": "@jupyter-widgets/controls",
     "model_name": "HBoxModel",
     "state": {
      "_dom_classes": [],
      "_model_module": "@jupyter-widgets/controls",
      "_model_module_version": "1.5.0",
      "_model_name": "HBoxModel",
      "_view_count": null,
      "_view_module": "@jupyter-widgets/controls",
      "_view_module_version": "1.5.0",
      "_view_name": "HBoxView",
      "box_style": "",
      "children": [
       "IPY_MODEL_d565d552f8bb431d946344d33cf2c6e3",
       "IPY_MODEL_bc586233c99e4b3d808b35d92d64224b"
      ],
      "layout": "IPY_MODEL_3d60bb4ae9184e119aafdbc0ab631a05"
     }
    },
    "09fd509e4ff3431d82f5be12a9ce0a77": {
     "model_module": "@jupyter-widgets/controls",
     "model_name": "HBoxModel",
     "state": {
      "_dom_classes": [],
      "_model_module": "@jupyter-widgets/controls",
      "_model_module_version": "1.5.0",
      "_model_name": "HBoxModel",
      "_view_count": null,
      "_view_module": "@jupyter-widgets/controls",
      "_view_module_version": "1.5.0",
      "_view_name": "HBoxView",
      "box_style": "",
      "children": [
       "IPY_MODEL_b5ab0a5c028b465fae99d0aea0b7eab5",
       "IPY_MODEL_b07532343148454a8bba7c18152244d1"
      ],
      "layout": "IPY_MODEL_7ea831bc8bcf4d7eae1eea250fe30923"
     }
    },
    "100e4a04dbd841d2a7d89036eb748ae8": {
     "model_module": "@jupyter-widgets/controls",
     "model_name": "HBoxModel",
     "state": {
      "_dom_classes": [],
      "_model_module": "@jupyter-widgets/controls",
      "_model_module_version": "1.5.0",
      "_model_name": "HBoxModel",
      "_view_count": null,
      "_view_module": "@jupyter-widgets/controls",
      "_view_module_version": "1.5.0",
      "_view_name": "HBoxView",
      "box_style": "",
      "children": [
       "IPY_MODEL_9a5841d6baee4cdcb7a9d4911ed82f2c",
       "IPY_MODEL_5ef2ef0e4c1642b588aed4a990da4540"
      ],
      "layout": "IPY_MODEL_f2b5d2972f0744c7b120e340f5415456"
     }
    },
    "12a8622a7525422e922c89f336dd9fee": {
     "model_module": "@jupyter-widgets/controls",
     "model_name": "HBoxModel",
     "state": {
      "_dom_classes": [],
      "_model_module": "@jupyter-widgets/controls",
      "_model_module_version": "1.5.0",
      "_model_name": "HBoxModel",
      "_view_count": null,
      "_view_module": "@jupyter-widgets/controls",
      "_view_module_version": "1.5.0",
      "_view_name": "HBoxView",
      "box_style": "",
      "children": [
       "IPY_MODEL_330afb8c1e9b44558e6646d6a13206cc",
       "IPY_MODEL_be814ffc96624c268b57b5cb9a980763"
      ],
      "layout": "IPY_MODEL_ed52c66df60742a58ab4efd93e5ea3dc"
     }
    },
    "188e4d66607b4e108fa42c84ddf65ffb": {
     "model_module": "@jupyter-widgets/controls",
     "model_name": "HBoxModel",
     "state": {
      "_dom_classes": [],
      "_model_module": "@jupyter-widgets/controls",
      "_model_module_version": "1.5.0",
      "_model_name": "HBoxModel",
      "_view_count": null,
      "_view_module": "@jupyter-widgets/controls",
      "_view_module_version": "1.5.0",
      "_view_name": "HBoxView",
      "box_style": "",
      "children": [
       "IPY_MODEL_ef40bf14310543708d02a7dea3e52c48",
       "IPY_MODEL_2f9b473adf124170bbb319c1fef97178"
      ],
      "layout": "IPY_MODEL_6443ebe7a8884ef2b3a109eea79905f1"
     }
    },
    "1c3ba598061f4a4e98204ebe93c87c4b": {
     "model_module": "@jupyter-widgets/controls",
     "model_name": "HBoxModel",
     "state": {
      "_dom_classes": [],
      "_model_module": "@jupyter-widgets/controls",
      "_model_module_version": "1.5.0",
      "_model_name": "HBoxModel",
      "_view_count": null,
      "_view_module": "@jupyter-widgets/controls",
      "_view_module_version": "1.5.0",
      "_view_name": "HBoxView",
      "box_style": "",
      "children": [
       "IPY_MODEL_4d5ded0f6f30478fb694515882ddd346",
       "IPY_MODEL_b9c2a09892234f32b49ded054e7ef2ff"
      ],
      "layout": "IPY_MODEL_0910584a59e1475bb68fc18d4257347a"
     }
    },
    "1ea74c9639c54215a6383c7bda101367": {
     "model_module": "@jupyter-widgets/controls",
     "model_name": "HBoxModel",
     "state": {
      "_dom_classes": [],
      "_model_module": "@jupyter-widgets/controls",
      "_model_module_version": "1.5.0",
      "_model_name": "HBoxModel",
      "_view_count": null,
      "_view_module": "@jupyter-widgets/controls",
      "_view_module_version": "1.5.0",
      "_view_name": "HBoxView",
      "box_style": "",
      "children": [
       "IPY_MODEL_2a13f25d5f9d4ad38f9974eaba5b93b2",
       "IPY_MODEL_46101bbb85e9418a8812cd0f3dd9a3e1"
      ],
      "layout": "IPY_MODEL_545201f4a62a407abf2404b6cbdab2fa"
     }
    },
    "26dbd12a3a604d70944ed8566d9c73f0": {
     "model_module": "@jupyter-widgets/controls",
     "model_name": "HBoxModel",
     "state": {
      "_dom_classes": [],
      "_model_module": "@jupyter-widgets/controls",
      "_model_module_version": "1.5.0",
      "_model_name": "HBoxModel",
      "_view_count": null,
      "_view_module": "@jupyter-widgets/controls",
      "_view_module_version": "1.5.0",
      "_view_name": "HBoxView",
      "box_style": "",
      "children": [
       "IPY_MODEL_9c8ab226e8ad40569411e32badfb6058",
       "IPY_MODEL_766623f6e83d4670a2ff37e8627e38a9"
      ],
      "layout": "IPY_MODEL_6c6f6498acb34990b930961a537974aa"
     }
    },
    "26ec87c78f41475391d65b9080ea8b07": {
     "model_module": "@jupyter-widgets/controls",
     "model_name": "HBoxModel",
     "state": {
      "_dom_classes": [],
      "_model_module": "@jupyter-widgets/controls",
      "_model_module_version": "1.5.0",
      "_model_name": "HBoxModel",
      "_view_count": null,
      "_view_module": "@jupyter-widgets/controls",
      "_view_module_version": "1.5.0",
      "_view_name": "HBoxView",
      "box_style": "",
      "children": [
       "IPY_MODEL_a2d1891e743b422598c1cdc43ac181f0",
       "IPY_MODEL_00861e8934fb4e4695fbabe476274eab"
      ],
      "layout": "IPY_MODEL_efb3a33fde8c4cbb99f198956f822bf8"
     }
    },
    "27d28ae74aab45a0b84116c0347cf388": {
     "model_module": "@jupyter-widgets/controls",
     "model_name": "HBoxModel",
     "state": {
      "_dom_classes": [],
      "_model_module": "@jupyter-widgets/controls",
      "_model_module_version": "1.5.0",
      "_model_name": "HBoxModel",
      "_view_count": null,
      "_view_module": "@jupyter-widgets/controls",
      "_view_module_version": "1.5.0",
      "_view_name": "HBoxView",
      "box_style": "",
      "children": [
       "IPY_MODEL_7eb543b091cb45c79435dd3d070ec35f",
       "IPY_MODEL_aee446ff8e8c4ca1badc460a1ceabb77"
      ],
      "layout": "IPY_MODEL_cee59bd24eae42b6b8d31ed8d2d224e4"
     }
    },
    "27d9bac9c9f74d28b04a47d32571fd48": {
     "model_module": "@jupyter-widgets/controls",
     "model_name": "HBoxModel",
     "state": {
      "_dom_classes": [],
      "_model_module": "@jupyter-widgets/controls",
      "_model_module_version": "1.5.0",
      "_model_name": "HBoxModel",
      "_view_count": null,
      "_view_module": "@jupyter-widgets/controls",
      "_view_module_version": "1.5.0",
      "_view_name": "HBoxView",
      "box_style": "",
      "children": [
       "IPY_MODEL_49b290f0a23f432d830751489ee61b04",
       "IPY_MODEL_3ff02743067a476aaea5539c1cee55c8"
      ],
      "layout": "IPY_MODEL_9459c9d83c284e3fb825d088f174d961"
     }
    },
    "2a380517cb064ea1a898adb3ee94753d": {
     "model_module": "@jupyter-widgets/controls",
     "model_name": "HBoxModel",
     "state": {
      "_dom_classes": [],
      "_model_module": "@jupyter-widgets/controls",
      "_model_module_version": "1.5.0",
      "_model_name": "HBoxModel",
      "_view_count": null,
      "_view_module": "@jupyter-widgets/controls",
      "_view_module_version": "1.5.0",
      "_view_name": "HBoxView",
      "box_style": "",
      "children": [
       "IPY_MODEL_ed80e32c8a4f4d28b1021b9970c0b21a",
       "IPY_MODEL_3b616c9473aa4489b891233352fff952"
      ],
      "layout": "IPY_MODEL_76279474b579411a86757dec41d694a4"
     }
    },
    "2ea26f0a16a745d6a484486ea6e501fc": {
     "model_module": "@jupyter-widgets/controls",
     "model_name": "HBoxModel",
     "state": {
      "_dom_classes": [],
      "_model_module": "@jupyter-widgets/controls",
      "_model_module_version": "1.5.0",
      "_model_name": "HBoxModel",
      "_view_count": null,
      "_view_module": "@jupyter-widgets/controls",
      "_view_module_version": "1.5.0",
      "_view_name": "HBoxView",
      "box_style": "",
      "children": [
       "IPY_MODEL_58ad316e030f416e88bbaba946f6b1a2",
       "IPY_MODEL_22270aa6365c4fa8b072a114b194095e"
      ],
      "layout": "IPY_MODEL_6c6338696f094085be1537c6f26c825b"
     }
    },
    "2eca5936b2d04c4db213391a5b9d69cb": {
     "model_module": "@jupyter-widgets/controls",
     "model_name": "HBoxModel",
     "state": {
      "_dom_classes": [],
      "_model_module": "@jupyter-widgets/controls",
      "_model_module_version": "1.5.0",
      "_model_name": "HBoxModel",
      "_view_count": null,
      "_view_module": "@jupyter-widgets/controls",
      "_view_module_version": "1.5.0",
      "_view_name": "HBoxView",
      "box_style": "",
      "children": [
       "IPY_MODEL_e781562c03e54f64b083805872192ce9",
       "IPY_MODEL_098e40bba80c4806b002a02574e918f8"
      ],
      "layout": "IPY_MODEL_a183941fa2d64335a2bcb353650bc555"
     }
    },
    "31f782e27da94e2489ce7cb59569cd6a": {
     "model_module": "@jupyter-widgets/controls",
     "model_name": "HBoxModel",
     "state": {
      "_dom_classes": [],
      "_model_module": "@jupyter-widgets/controls",
      "_model_module_version": "1.5.0",
      "_model_name": "HBoxModel",
      "_view_count": null,
      "_view_module": "@jupyter-widgets/controls",
      "_view_module_version": "1.5.0",
      "_view_name": "HBoxView",
      "box_style": "",
      "children": [
       "IPY_MODEL_16c955e613444751a81ed6f0b929fc84",
       "IPY_MODEL_3901757eb78b422098f706bb60ab3cb9"
      ],
      "layout": "IPY_MODEL_69823078840849438cbc7f078da22771"
     }
    },
    "32520527419e44409f2b2584c45e8479": {
     "model_module": "@jupyter-widgets/controls",
     "model_name": "HBoxModel",
     "state": {
      "_dom_classes": [],
      "_model_module": "@jupyter-widgets/controls",
      "_model_module_version": "1.5.0",
      "_model_name": "HBoxModel",
      "_view_count": null,
      "_view_module": "@jupyter-widgets/controls",
      "_view_module_version": "1.5.0",
      "_view_name": "HBoxView",
      "box_style": "",
      "children": [
       "IPY_MODEL_8badaa2bc756474cacea1df892fa90df",
       "IPY_MODEL_783e37dc0fe84b059a2d1d84d8643726"
      ],
      "layout": "IPY_MODEL_297bd6f3be0a4a1daa0200307b400e2b"
     }
    },
    "350ab0b46b0347d8b16fe9a54e4f68f7": {
     "model_module": "@jupyter-widgets/controls",
     "model_name": "HBoxModel",
     "state": {
      "_dom_classes": [],
      "_model_module": "@jupyter-widgets/controls",
      "_model_module_version": "1.5.0",
      "_model_name": "HBoxModel",
      "_view_count": null,
      "_view_module": "@jupyter-widgets/controls",
      "_view_module_version": "1.5.0",
      "_view_name": "HBoxView",
      "box_style": "",
      "children": [
       "IPY_MODEL_7f457c09e8a04cb181435e7c5f4a9790",
       "IPY_MODEL_31ddf3f7ed2d449db39a05482a05f636"
      ],
      "layout": "IPY_MODEL_6959740b4b34441fba774c0d6590fa38"
     }
    },
    "4129b2f02b24432981f72373bf64dd74": {
     "model_module": "@jupyter-widgets/controls",
     "model_name": "HBoxModel",
     "state": {
      "_dom_classes": [],
      "_model_module": "@jupyter-widgets/controls",
      "_model_module_version": "1.5.0",
      "_model_name": "HBoxModel",
      "_view_count": null,
      "_view_module": "@jupyter-widgets/controls",
      "_view_module_version": "1.5.0",
      "_view_name": "HBoxView",
      "box_style": "",
      "children": [
       "IPY_MODEL_53a711781f184a9eb7e06e0b2eae75a6",
       "IPY_MODEL_7498a63545304f7581801a6d0180f93d"
      ],
      "layout": "IPY_MODEL_d78f2ac58daa474985d5565a4858cc2f"
     }
    },
    "442667fe600e4f2391bd79cec04d5905": {
     "model_module": "@jupyter-widgets/controls",
     "model_name": "HBoxModel",
     "state": {
      "_dom_classes": [],
      "_model_module": "@jupyter-widgets/controls",
      "_model_module_version": "1.5.0",
      "_model_name": "HBoxModel",
      "_view_count": null,
      "_view_module": "@jupyter-widgets/controls",
      "_view_module_version": "1.5.0",
      "_view_name": "HBoxView",
      "box_style": "",
      "children": [
       "IPY_MODEL_0d7b6da38e6145c8a6266e98371b06e6",
       "IPY_MODEL_21b2c8f200a8494b95b02296552b395f"
      ],
      "layout": "IPY_MODEL_c3bb65963729413395e5ad1ac73934e6"
     }
    },
    "456b1a0d7d794081b1bae1108b284cab": {
     "model_module": "@jupyter-widgets/controls",
     "model_name": "HBoxModel",
     "state": {
      "_dom_classes": [],
      "_model_module": "@jupyter-widgets/controls",
      "_model_module_version": "1.5.0",
      "_model_name": "HBoxModel",
      "_view_count": null,
      "_view_module": "@jupyter-widgets/controls",
      "_view_module_version": "1.5.0",
      "_view_name": "HBoxView",
      "box_style": "",
      "children": [
       "IPY_MODEL_879433e0ae824b8fb46d04ae8dd10612",
       "IPY_MODEL_5972cfae42514fb58eb77a02cadbc7fa"
      ],
      "layout": "IPY_MODEL_8b7f49c0b5ba42a08cd4719bfc0f98de"
     }
    },
    "4595d701648b4605b4b48b7dded4fe5c": {
     "model_module": "@jupyter-widgets/controls",
     "model_name": "HBoxModel",
     "state": {
      "_dom_classes": [],
      "_model_module": "@jupyter-widgets/controls",
      "_model_module_version": "1.5.0",
      "_model_name": "HBoxModel",
      "_view_count": null,
      "_view_module": "@jupyter-widgets/controls",
      "_view_module_version": "1.5.0",
      "_view_name": "HBoxView",
      "box_style": "",
      "children": [
       "IPY_MODEL_04977b555ec743cfaa6a4f3263da60a9",
       "IPY_MODEL_7f38bcc2b89a4d90988c9a274abd0c74"
      ],
      "layout": "IPY_MODEL_593382133fc2406199e81910efeecc89"
     }
    },
    "4e644bdbaeb249a2a47b5b36694a6f66": {
     "model_module": "@jupyter-widgets/controls",
     "model_name": "HBoxModel",
     "state": {
      "_dom_classes": [],
      "_model_module": "@jupyter-widgets/controls",
      "_model_module_version": "1.5.0",
      "_model_name": "HBoxModel",
      "_view_count": null,
      "_view_module": "@jupyter-widgets/controls",
      "_view_module_version": "1.5.0",
      "_view_name": "HBoxView",
      "box_style": "",
      "children": [
       "IPY_MODEL_e84b3bcb0be04ac6ba714650e25d53aa",
       "IPY_MODEL_90af2dc105474db2a15bf7fef3b4ee16"
      ],
      "layout": "IPY_MODEL_c0cd71550644434493ca3f4e0ca03ca3"
     }
    },
    "5a068995daa44926b0a531fb5724b1e9": {
     "model_module": "@jupyter-widgets/controls",
     "model_name": "HBoxModel",
     "state": {
      "_dom_classes": [],
      "_model_module": "@jupyter-widgets/controls",
      "_model_module_version": "1.5.0",
      "_model_name": "HBoxModel",
      "_view_count": null,
      "_view_module": "@jupyter-widgets/controls",
      "_view_module_version": "1.5.0",
      "_view_name": "HBoxView",
      "box_style": "",
      "children": [
       "IPY_MODEL_aaa820c39f7e4f9c8e954d4ede528bb6",
       "IPY_MODEL_7fb86b3083394f828bf482c322518bec"
      ],
      "layout": "IPY_MODEL_998261d0219c4e9dbd41ead8e2f9bf15"
     }
    },
    "5d0a9843eda94e6bbc76ad316c0351e7": {
     "model_module": "@jupyter-widgets/controls",
     "model_name": "HBoxModel",
     "state": {
      "_dom_classes": [],
      "_model_module": "@jupyter-widgets/controls",
      "_model_module_version": "1.5.0",
      "_model_name": "HBoxModel",
      "_view_count": null,
      "_view_module": "@jupyter-widgets/controls",
      "_view_module_version": "1.5.0",
      "_view_name": "HBoxView",
      "box_style": "",
      "children": [
       "IPY_MODEL_da0448c876ce4335b3390942b5e2bf30",
       "IPY_MODEL_a6b1039bd3e84be88e99a3376fc66311"
      ],
      "layout": "IPY_MODEL_f20e0f0cd4ff4582b74b1ab8062c0425"
     }
    },
    "5fb22d613b6d4b8abf5db512c9b3c1bb": {
     "model_module": "@jupyter-widgets/controls",
     "model_name": "HBoxModel",
     "state": {
      "_dom_classes": [],
      "_model_module": "@jupyter-widgets/controls",
      "_model_module_version": "1.5.0",
      "_model_name": "HBoxModel",
      "_view_count": null,
      "_view_module": "@jupyter-widgets/controls",
      "_view_module_version": "1.5.0",
      "_view_name": "HBoxView",
      "box_style": "",
      "children": [
       "IPY_MODEL_f0ed2eb0948d4256971e12836427440b",
       "IPY_MODEL_8b2284933aa34f8ab766a027972e16bf"
      ],
      "layout": "IPY_MODEL_36de2860043a4b7195dd149f5f9c070a"
     }
    },
    "61b72bb501d844a9b38f03b3b481bc14": {
     "model_module": "@jupyter-widgets/controls",
     "model_name": "HBoxModel",
     "state": {
      "_dom_classes": [],
      "_model_module": "@jupyter-widgets/controls",
      "_model_module_version": "1.5.0",
      "_model_name": "HBoxModel",
      "_view_count": null,
      "_view_module": "@jupyter-widgets/controls",
      "_view_module_version": "1.5.0",
      "_view_name": "HBoxView",
      "box_style": "",
      "children": [
       "IPY_MODEL_97cccc3a2f1244028d17f55612ddc926",
       "IPY_MODEL_d6d7397225074ed4b92b8a7905d3100b"
      ],
      "layout": "IPY_MODEL_940ef582a6c941388ea1fb0af0698f3e"
     }
    },
    "684461f159b1407db3b084cc97367b5d": {
     "model_module": "@jupyter-widgets/controls",
     "model_name": "HBoxModel",
     "state": {
      "_dom_classes": [],
      "_model_module": "@jupyter-widgets/controls",
      "_model_module_version": "1.5.0",
      "_model_name": "HBoxModel",
      "_view_count": null,
      "_view_module": "@jupyter-widgets/controls",
      "_view_module_version": "1.5.0",
      "_view_name": "HBoxView",
      "box_style": "",
      "children": [
       "IPY_MODEL_852205558e444a1c80f6b997e3681de9",
       "IPY_MODEL_eb3e6b6b5e5d45cb81323d47766e9c80"
      ],
      "layout": "IPY_MODEL_5e3cea58299c4c599987012d0dfd9a7b"
     }
    },
    "6c79b100d4a94eeba6b6cc59e26ec5be": {
     "model_module": "@jupyter-widgets/controls",
     "model_name": "HBoxModel",
     "state": {
      "_dom_classes": [],
      "_model_module": "@jupyter-widgets/controls",
      "_model_module_version": "1.5.0",
      "_model_name": "HBoxModel",
      "_view_count": null,
      "_view_module": "@jupyter-widgets/controls",
      "_view_module_version": "1.5.0",
      "_view_name": "HBoxView",
      "box_style": "",
      "children": [
       "IPY_MODEL_8d94ca3d68324201baa0fe070e33bc57",
       "IPY_MODEL_e0a6578eeead47f39bcc849110d07cbc"
      ],
      "layout": "IPY_MODEL_dd4aa492cf2f4473a91aa18b1dc81555"
     }
    },
    "6d2e79d4b4004a6ab311019bb129a619": {
     "model_module": "@jupyter-widgets/controls",
     "model_name": "HBoxModel",
     "state": {
      "_dom_classes": [],
      "_model_module": "@jupyter-widgets/controls",
      "_model_module_version": "1.5.0",
      "_model_name": "HBoxModel",
      "_view_count": null,
      "_view_module": "@jupyter-widgets/controls",
      "_view_module_version": "1.5.0",
      "_view_name": "HBoxView",
      "box_style": "",
      "children": [
       "IPY_MODEL_eed201a674ec4b5694bda4cb1e599b62",
       "IPY_MODEL_b15b52a468714967b17eb85b2678193e"
      ],
      "layout": "IPY_MODEL_253eb3319a88496b932f2294dc50aa19"
     }
    },
    "6e03f65f4993406ab3501daadc8e57c9": {
     "model_module": "@jupyter-widgets/controls",
     "model_name": "HBoxModel",
     "state": {
      "_dom_classes": [],
      "_model_module": "@jupyter-widgets/controls",
      "_model_module_version": "1.5.0",
      "_model_name": "HBoxModel",
      "_view_count": null,
      "_view_module": "@jupyter-widgets/controls",
      "_view_module_version": "1.5.0",
      "_view_name": "HBoxView",
      "box_style": "",
      "children": [
       "IPY_MODEL_80d9f3cba80046359f8138941330a12e",
       "IPY_MODEL_c687918025424d5780c1d0cd3a5db9ae"
      ],
      "layout": "IPY_MODEL_d2d132e85d0a457daa1f4496c64a1e9f"
     }
    },
    "708d99c73f5d4a518ce3400d5aea8757": {
     "model_module": "@jupyter-widgets/controls",
     "model_name": "HBoxModel",
     "state": {
      "_dom_classes": [],
      "_model_module": "@jupyter-widgets/controls",
      "_model_module_version": "1.5.0",
      "_model_name": "HBoxModel",
      "_view_count": null,
      "_view_module": "@jupyter-widgets/controls",
      "_view_module_version": "1.5.0",
      "_view_name": "HBoxView",
      "box_style": "",
      "children": [
       "IPY_MODEL_37f9c9d41e764ac19cc6b59158ef76ec",
       "IPY_MODEL_315a71b2ba0549e29bffcb736f7e499e"
      ],
      "layout": "IPY_MODEL_45b003c49cca46ccb818337ba574de31"
     }
    },
    "74230b4db1d94682ba7d4da3de18fb25": {
     "model_module": "@jupyter-widgets/controls",
     "model_name": "HBoxModel",
     "state": {
      "_dom_classes": [],
      "_model_module": "@jupyter-widgets/controls",
      "_model_module_version": "1.5.0",
      "_model_name": "HBoxModel",
      "_view_count": null,
      "_view_module": "@jupyter-widgets/controls",
      "_view_module_version": "1.5.0",
      "_view_name": "HBoxView",
      "box_style": "",
      "children": [
       "IPY_MODEL_3b5e8daccf9042f9a6e655a05f447cb1",
       "IPY_MODEL_2fa780c2911e43e7b193f67a5b66a54d"
      ],
      "layout": "IPY_MODEL_f8502fcd6a554b6da3ad690f317f335a"
     }
    },
    "74344fb0a8ae476eb4d891d68acb794c": {
     "model_module": "@jupyter-widgets/controls",
     "model_name": "HBoxModel",
     "state": {
      "_dom_classes": [],
      "_model_module": "@jupyter-widgets/controls",
      "_model_module_version": "1.5.0",
      "_model_name": "HBoxModel",
      "_view_count": null,
      "_view_module": "@jupyter-widgets/controls",
      "_view_module_version": "1.5.0",
      "_view_name": "HBoxView",
      "box_style": "",
      "children": [
       "IPY_MODEL_4a58dcf863b24486b3dcff4a662a1b3c",
       "IPY_MODEL_1c2ba2437ab04500b4f89a0c6941568b"
      ],
      "layout": "IPY_MODEL_c20dffa0dd2d48d9b144e1102f921387"
     }
    },
    "745f46953edd41b1912d2dff0e833d2c": {
     "model_module": "@jupyter-widgets/controls",
     "model_name": "HBoxModel",
     "state": {
      "_dom_classes": [],
      "_model_module": "@jupyter-widgets/controls",
      "_model_module_version": "1.5.0",
      "_model_name": "HBoxModel",
      "_view_count": null,
      "_view_module": "@jupyter-widgets/controls",
      "_view_module_version": "1.5.0",
      "_view_name": "HBoxView",
      "box_style": "",
      "children": [
       "IPY_MODEL_10d2bc203c0241f680aa9780da188ca0",
       "IPY_MODEL_f4a2fd1db85d403fa0369e5f42be4271"
      ],
      "layout": "IPY_MODEL_c19ff1072dbb4c92a177b8961888e098"
     }
    },
    "74f5a97aff7c4d1e8eac14be400ef7d9": {
     "model_module": "@jupyter-widgets/controls",
     "model_name": "HBoxModel",
     "state": {
      "_dom_classes": [],
      "_model_module": "@jupyter-widgets/controls",
      "_model_module_version": "1.5.0",
      "_model_name": "HBoxModel",
      "_view_count": null,
      "_view_module": "@jupyter-widgets/controls",
      "_view_module_version": "1.5.0",
      "_view_name": "HBoxView",
      "box_style": "",
      "children": [
       "IPY_MODEL_4dfd3c1bcad147f6b611f8d082ae0eeb",
       "IPY_MODEL_78a31391f7cd4b42980458e718f053b7"
      ],
      "layout": "IPY_MODEL_4ab1594d285b4b5eb6168010c5e39917"
     }
    },
    "769270b781c4472c86697727f8ddaa20": {
     "model_module": "@jupyter-widgets/controls",
     "model_name": "HBoxModel",
     "state": {
      "_dom_classes": [],
      "_model_module": "@jupyter-widgets/controls",
      "_model_module_version": "1.5.0",
      "_model_name": "HBoxModel",
      "_view_count": null,
      "_view_module": "@jupyter-widgets/controls",
      "_view_module_version": "1.5.0",
      "_view_name": "HBoxView",
      "box_style": "",
      "children": [
       "IPY_MODEL_e1beaee0e69f4fedbd33e30a8e839888",
       "IPY_MODEL_9d385d06d76b43bcb20ed9397a7b62e5"
      ],
      "layout": "IPY_MODEL_8f949dd50b9b470bba83e0839254a47f"
     }
    },
    "77023616c83340879f99fa94a9b63e42": {
     "model_module": "@jupyter-widgets/controls",
     "model_name": "HBoxModel",
     "state": {
      "_dom_classes": [],
      "_model_module": "@jupyter-widgets/controls",
      "_model_module_version": "1.5.0",
      "_model_name": "HBoxModel",
      "_view_count": null,
      "_view_module": "@jupyter-widgets/controls",
      "_view_module_version": "1.5.0",
      "_view_name": "HBoxView",
      "box_style": "",
      "children": [
       "IPY_MODEL_551f2786d00a4640929b2bc9dfcee91b",
       "IPY_MODEL_2c3eafedc44b4d8db0267ea39d65e4f3"
      ],
      "layout": "IPY_MODEL_1074f966b6e94504ad16e0ff65cd2f8c"
     }
    },
    "7748e071888d49f6b2eeb34d23dabb40": {
     "model_module": "@jupyter-widgets/controls",
     "model_name": "HBoxModel",
     "state": {
      "_dom_classes": [],
      "_model_module": "@jupyter-widgets/controls",
      "_model_module_version": "1.5.0",
      "_model_name": "HBoxModel",
      "_view_count": null,
      "_view_module": "@jupyter-widgets/controls",
      "_view_module_version": "1.5.0",
      "_view_name": "HBoxView",
      "box_style": "",
      "children": [
       "IPY_MODEL_7ab15addafc94a6ca53b42f5d07dfdcb",
       "IPY_MODEL_39e8b2576c06491588cdc4e436b5137c"
      ],
      "layout": "IPY_MODEL_659bbb40a0fb40be86bd51a8e2829869"
     }
    },
    "7962b34fac914d24bc595ab98d6f289c": {
     "model_module": "@jupyter-widgets/controls",
     "model_name": "HBoxModel",
     "state": {
      "_dom_classes": [],
      "_model_module": "@jupyter-widgets/controls",
      "_model_module_version": "1.5.0",
      "_model_name": "HBoxModel",
      "_view_count": null,
      "_view_module": "@jupyter-widgets/controls",
      "_view_module_version": "1.5.0",
      "_view_name": "HBoxView",
      "box_style": "",
      "children": [
       "IPY_MODEL_d9f5e4e51a4941529134956cd4d7ba6c",
       "IPY_MODEL_43688c112a9d4f649ed2e8276cc11df9"
      ],
      "layout": "IPY_MODEL_6e0f66e19aa649659d337ea640d1bd45"
     }
    },
    "79b5db2ca414447e93ebc29a592ec4ac": {
     "model_module": "@jupyter-widgets/controls",
     "model_name": "HBoxModel",
     "state": {
      "_dom_classes": [],
      "_model_module": "@jupyter-widgets/controls",
      "_model_module_version": "1.5.0",
      "_model_name": "HBoxModel",
      "_view_count": null,
      "_view_module": "@jupyter-widgets/controls",
      "_view_module_version": "1.5.0",
      "_view_name": "HBoxView",
      "box_style": "",
      "children": [
       "IPY_MODEL_56942e72cdb34df18e9b02ef2c6de4bd",
       "IPY_MODEL_6bde5443529e47ee833d77c40d64ecff"
      ],
      "layout": "IPY_MODEL_cba3c5a8d16847babc6c0bec9a618a6e"
     }
    },
    "7a1a9dabd19e4f208c0d10acee775c10": {
     "model_module": "@jupyter-widgets/controls",
     "model_name": "HBoxModel",
     "state": {
      "_dom_classes": [],
      "_model_module": "@jupyter-widgets/controls",
      "_model_module_version": "1.5.0",
      "_model_name": "HBoxModel",
      "_view_count": null,
      "_view_module": "@jupyter-widgets/controls",
      "_view_module_version": "1.5.0",
      "_view_name": "HBoxView",
      "box_style": "",
      "children": [
       "IPY_MODEL_c195a05e128b47e397729a2583c96710",
       "IPY_MODEL_abb30f2cce5d4a4181e47ab608f5fd45"
      ],
      "layout": "IPY_MODEL_692a611f02974865b6fbf81066a2f9a1"
     }
    },
    "7b8e5f4dd2ed4f9c9dd74c1c9abf2dc9": {
     "model_module": "@jupyter-widgets/controls",
     "model_name": "HBoxModel",
     "state": {
      "_dom_classes": [],
      "_model_module": "@jupyter-widgets/controls",
      "_model_module_version": "1.5.0",
      "_model_name": "HBoxModel",
      "_view_count": null,
      "_view_module": "@jupyter-widgets/controls",
      "_view_module_version": "1.5.0",
      "_view_name": "HBoxView",
      "box_style": "",
      "children": [
       "IPY_MODEL_d2af8ce34dba4d08925785da1854c432",
       "IPY_MODEL_599f73184250439cb6ea08e573f83597"
      ],
      "layout": "IPY_MODEL_0b7df1df81824fbc9ae065f9e88d7d59"
     }
    },
    "8d51015124fa493794f6c1d46f7f3414": {
     "model_module": "@jupyter-widgets/controls",
     "model_name": "HBoxModel",
     "state": {
      "_dom_classes": [],
      "_model_module": "@jupyter-widgets/controls",
      "_model_module_version": "1.5.0",
      "_model_name": "HBoxModel",
      "_view_count": null,
      "_view_module": "@jupyter-widgets/controls",
      "_view_module_version": "1.5.0",
      "_view_name": "HBoxView",
      "box_style": "",
      "children": [
       "IPY_MODEL_918060fbf7b54abd896f562dc63220d6",
       "IPY_MODEL_c9559b8418884286abc425bc18448a7b"
      ],
      "layout": "IPY_MODEL_430341a62f754db2801ce7bb3bcae302"
     }
    },
    "91e03f5c76314c67a3fddf73c200feec": {
     "model_module": "@jupyter-widgets/controls",
     "model_name": "HBoxModel",
     "state": {
      "_dom_classes": [],
      "_model_module": "@jupyter-widgets/controls",
      "_model_module_version": "1.5.0",
      "_model_name": "HBoxModel",
      "_view_count": null,
      "_view_module": "@jupyter-widgets/controls",
      "_view_module_version": "1.5.0",
      "_view_name": "HBoxView",
      "box_style": "",
      "children": [
       "IPY_MODEL_a19d90b6243e4312b2647d56f5f9ded3",
       "IPY_MODEL_ed0b4e3deabe4245a0deabc526001df5"
      ],
      "layout": "IPY_MODEL_43df5d41302444d49d717d83ce590e8d"
     }
    },
    "957c4117211348faa938fcf45242e09e": {
     "model_module": "@jupyter-widgets/controls",
     "model_name": "HBoxModel",
     "state": {
      "_dom_classes": [],
      "_model_module": "@jupyter-widgets/controls",
      "_model_module_version": "1.5.0",
      "_model_name": "HBoxModel",
      "_view_count": null,
      "_view_module": "@jupyter-widgets/controls",
      "_view_module_version": "1.5.0",
      "_view_name": "HBoxView",
      "box_style": "",
      "children": [
       "IPY_MODEL_f7ac312bfc5f4af48fcc7bee7361b92d",
       "IPY_MODEL_48830cb5d4484745a0088158408e2363"
      ],
      "layout": "IPY_MODEL_38efcaacdd7f43839ed1f88f713f2f00"
     }
    },
    "981571cb810f43b9b07a2791b431ff21": {
     "model_module": "@jupyter-widgets/controls",
     "model_name": "HBoxModel",
     "state": {
      "_dom_classes": [],
      "_model_module": "@jupyter-widgets/controls",
      "_model_module_version": "1.5.0",
      "_model_name": "HBoxModel",
      "_view_count": null,
      "_view_module": "@jupyter-widgets/controls",
      "_view_module_version": "1.5.0",
      "_view_name": "HBoxView",
      "box_style": "",
      "children": [
       "IPY_MODEL_cce1e47a59644d6eb19ef52392649b59",
       "IPY_MODEL_e06a5080e4004e73a1f568fb55547ba2"
      ],
      "layout": "IPY_MODEL_d3c361cf2c3e4ff59952a041654bd9df"
     }
    },
    "99a3d9a64995481a84dca052eecf5955": {
     "model_module": "@jupyter-widgets/controls",
     "model_name": "HBoxModel",
     "state": {
      "_dom_classes": [],
      "_model_module": "@jupyter-widgets/controls",
      "_model_module_version": "1.5.0",
      "_model_name": "HBoxModel",
      "_view_count": null,
      "_view_module": "@jupyter-widgets/controls",
      "_view_module_version": "1.5.0",
      "_view_name": "HBoxView",
      "box_style": "",
      "children": [
       "IPY_MODEL_48f10cabbecd49ed96e4687bcee3c919",
       "IPY_MODEL_1613dacfda7846b5b68de9e8cc04ad5c"
      ],
      "layout": "IPY_MODEL_b9760ff1e49049f3b62ffcf577f5f76d"
     }
    },
    "9ab4a13ef44340c0b8b92594951f1737": {
     "model_module": "@jupyter-widgets/controls",
     "model_name": "HBoxModel",
     "state": {
      "_dom_classes": [],
      "_model_module": "@jupyter-widgets/controls",
      "_model_module_version": "1.5.0",
      "_model_name": "HBoxModel",
      "_view_count": null,
      "_view_module": "@jupyter-widgets/controls",
      "_view_module_version": "1.5.0",
      "_view_name": "HBoxView",
      "box_style": "",
      "children": [
       "IPY_MODEL_e606d6605e8c4910af65b444f3044609",
       "IPY_MODEL_c48f9da9d8714369bb8ddb01d180a09a"
      ],
      "layout": "IPY_MODEL_f9b554e315dd49b4b8ef3f79bd2113f9"
     }
    },
    "9e717638ecb04ff98510d1376e1b2ce2": {
     "model_module": "@jupyter-widgets/controls",
     "model_name": "HBoxModel",
     "state": {
      "_dom_classes": [],
      "_model_module": "@jupyter-widgets/controls",
      "_model_module_version": "1.5.0",
      "_model_name": "HBoxModel",
      "_view_count": null,
      "_view_module": "@jupyter-widgets/controls",
      "_view_module_version": "1.5.0",
      "_view_name": "HBoxView",
      "box_style": "",
      "children": [
       "IPY_MODEL_6e112948a9fc415d8d7faddbc7a0e72a",
       "IPY_MODEL_c0fa646d2c6d456081781fdc86605e5f"
      ],
      "layout": "IPY_MODEL_6ef263a45b3c42008523acd4411f9be8"
     }
    },
    "a572f9183652498690f82050eeea2ecc": {
     "model_module": "@jupyter-widgets/controls",
     "model_name": "HBoxModel",
     "state": {
      "_dom_classes": [],
      "_model_module": "@jupyter-widgets/controls",
      "_model_module_version": "1.5.0",
      "_model_name": "HBoxModel",
      "_view_count": null,
      "_view_module": "@jupyter-widgets/controls",
      "_view_module_version": "1.5.0",
      "_view_name": "HBoxView",
      "box_style": "",
      "children": [
       "IPY_MODEL_037c094513bd45eaa77f13b842b3662b",
       "IPY_MODEL_7258d1dbd29d4df29f09cf7d8b210c1e"
      ],
      "layout": "IPY_MODEL_2dcc4aaad2274129b618fbe362e58482"
     }
    },
    "a7dd71a439f54d01829cb01aa9ad682a": {
     "model_module": "@jupyter-widgets/controls",
     "model_name": "HBoxModel",
     "state": {
      "_dom_classes": [],
      "_model_module": "@jupyter-widgets/controls",
      "_model_module_version": "1.5.0",
      "_model_name": "HBoxModel",
      "_view_count": null,
      "_view_module": "@jupyter-widgets/controls",
      "_view_module_version": "1.5.0",
      "_view_name": "HBoxView",
      "box_style": "",
      "children": [
       "IPY_MODEL_755f7bd6810744cdbe34a1171b5aba1f",
       "IPY_MODEL_c84adac7d3604e7db75530c55ecc84d2"
      ],
      "layout": "IPY_MODEL_1cc53c06381a4f74867d333cbec95329"
     }
    },
    "ab86d44eefef413ba1ea86f9a4264047": {
     "model_module": "@jupyter-widgets/controls",
     "model_name": "HBoxModel",
     "state": {
      "_dom_classes": [],
      "_model_module": "@jupyter-widgets/controls",
      "_model_module_version": "1.5.0",
      "_model_name": "HBoxModel",
      "_view_count": null,
      "_view_module": "@jupyter-widgets/controls",
      "_view_module_version": "1.5.0",
      "_view_name": "HBoxView",
      "box_style": "",
      "children": [
       "IPY_MODEL_893376f07b27483fbfab9a4ce31f292f",
       "IPY_MODEL_bec068f8c0084f5186a9a2cf603b0468"
      ],
      "layout": "IPY_MODEL_a7277e2f8d6f42fc9b8462e4b611ee93"
     }
    },
    "ac089b1228354958be28171008cbaa49": {
     "model_module": "@jupyter-widgets/controls",
     "model_name": "HBoxModel",
     "state": {
      "_dom_classes": [],
      "_model_module": "@jupyter-widgets/controls",
      "_model_module_version": "1.5.0",
      "_model_name": "HBoxModel",
      "_view_count": null,
      "_view_module": "@jupyter-widgets/controls",
      "_view_module_version": "1.5.0",
      "_view_name": "HBoxView",
      "box_style": "",
      "children": [
       "IPY_MODEL_4a7fe9cb52184dd993c1b77b99c02d88",
       "IPY_MODEL_095390b51d3d4719b99331b054775ff0"
      ],
      "layout": "IPY_MODEL_8e0ffa5c615849b2a404b140a10987b7"
     }
    },
    "ad7777988d0b4bd78222373661c454a3": {
     "model_module": "@jupyter-widgets/controls",
     "model_name": "HBoxModel",
     "state": {
      "_dom_classes": [],
      "_model_module": "@jupyter-widgets/controls",
      "_model_module_version": "1.5.0",
      "_model_name": "HBoxModel",
      "_view_count": null,
      "_view_module": "@jupyter-widgets/controls",
      "_view_module_version": "1.5.0",
      "_view_name": "HBoxView",
      "box_style": "",
      "children": [
       "IPY_MODEL_a8a2861c2c674e379fca5bc399cc706a",
       "IPY_MODEL_e9a0bb5680fb45ab868acf9d87fdd9f2"
      ],
      "layout": "IPY_MODEL_ae1af11ec17e4c879c400fc7ccdc4e44"
     }
    },
    "af9efa40f7ac4585ab7c4f58f6aad90d": {
     "model_module": "@jupyter-widgets/controls",
     "model_name": "HBoxModel",
     "state": {
      "_dom_classes": [],
      "_model_module": "@jupyter-widgets/controls",
      "_model_module_version": "1.5.0",
      "_model_name": "HBoxModel",
      "_view_count": null,
      "_view_module": "@jupyter-widgets/controls",
      "_view_module_version": "1.5.0",
      "_view_name": "HBoxView",
      "box_style": "",
      "children": [
       "IPY_MODEL_001b764a9a2b419b8ac44c68a9698a87",
       "IPY_MODEL_23d2c65cc7944ce08ba6f9fb416d3c03"
      ],
      "layout": "IPY_MODEL_977a98cc4f15418aa637278facc95e0d"
     }
    },
    "b4f55efce4e14f01a6a4241d814e364d": {
     "model_module": "@jupyter-widgets/controls",
     "model_name": "HBoxModel",
     "state": {
      "_dom_classes": [],
      "_model_module": "@jupyter-widgets/controls",
      "_model_module_version": "1.5.0",
      "_model_name": "HBoxModel",
      "_view_count": null,
      "_view_module": "@jupyter-widgets/controls",
      "_view_module_version": "1.5.0",
      "_view_name": "HBoxView",
      "box_style": "",
      "children": [
       "IPY_MODEL_33b109b5c9214f11816e224b4d316dd5",
       "IPY_MODEL_8bec79793b8c4feb881f944911b96fdc"
      ],
      "layout": "IPY_MODEL_2bf9a266f5de449ba6ee7b2ea41ff92e"
     }
    },
    "ba401150ee8a4eb79f18f97db7761f0e": {
     "model_module": "@jupyter-widgets/controls",
     "model_name": "HBoxModel",
     "state": {
      "_dom_classes": [],
      "_model_module": "@jupyter-widgets/controls",
      "_model_module_version": "1.5.0",
      "_model_name": "HBoxModel",
      "_view_count": null,
      "_view_module": "@jupyter-widgets/controls",
      "_view_module_version": "1.5.0",
      "_view_name": "HBoxView",
      "box_style": "",
      "children": [
       "IPY_MODEL_4ea522d2934842c2a465ddedefe6e983",
       "IPY_MODEL_90fbfc9b1f914ee9bddb8e72065a65af"
      ],
      "layout": "IPY_MODEL_02f6def5cab54a0ea1dcc6c6f22ab1c5"
     }
    },
    "bb35c783d3654ce694e9c6071d07439f": {
     "model_module": "@jupyter-widgets/controls",
     "model_name": "HBoxModel",
     "state": {
      "_dom_classes": [],
      "_model_module": "@jupyter-widgets/controls",
      "_model_module_version": "1.5.0",
      "_model_name": "HBoxModel",
      "_view_count": null,
      "_view_module": "@jupyter-widgets/controls",
      "_view_module_version": "1.5.0",
      "_view_name": "HBoxView",
      "box_style": "",
      "children": [
       "IPY_MODEL_74c7711187c14eb886e2ffd98d6b1b32",
       "IPY_MODEL_f1e0fc554d4b4cc7b6051a6268f023a8"
      ],
      "layout": "IPY_MODEL_2db8940b99124d0cba1542ac6ca55b89"
     }
    },
    "bbb1f9a256a64288aa40a4dcaaba2f25": {
     "model_module": "@jupyter-widgets/controls",
     "model_name": "HBoxModel",
     "state": {
      "_dom_classes": [],
      "_model_module": "@jupyter-widgets/controls",
      "_model_module_version": "1.5.0",
      "_model_name": "HBoxModel",
      "_view_count": null,
      "_view_module": "@jupyter-widgets/controls",
      "_view_module_version": "1.5.0",
      "_view_name": "HBoxView",
      "box_style": "",
      "children": [
       "IPY_MODEL_d214ab6c5e934aa08cc05467c31195b4",
       "IPY_MODEL_b590374016cb44f69f869e84a1f2d5e1"
      ],
      "layout": "IPY_MODEL_cfb58fe3a4604b27bcc49bf3900b38c9"
     }
    },
    "beb531e722a74e9182d62423accd4d70": {
     "model_module": "@jupyter-widgets/controls",
     "model_name": "HBoxModel",
     "state": {
      "_dom_classes": [],
      "_model_module": "@jupyter-widgets/controls",
      "_model_module_version": "1.5.0",
      "_model_name": "HBoxModel",
      "_view_count": null,
      "_view_module": "@jupyter-widgets/controls",
      "_view_module_version": "1.5.0",
      "_view_name": "HBoxView",
      "box_style": "",
      "children": [
       "IPY_MODEL_be063e1a8c554819a48916b0670ba9ea",
       "IPY_MODEL_f7f944b4a31a46749cf234ff9e240b7f"
      ],
      "layout": "IPY_MODEL_d3d928bb2f0d421985fe50e4cdf3f4ce"
     }
    },
    "c0dd260c7d664625aa9e73e7b4ff9849": {
     "model_module": "@jupyter-widgets/controls",
     "model_name": "HBoxModel",
     "state": {
      "_dom_classes": [],
      "_model_module": "@jupyter-widgets/controls",
      "_model_module_version": "1.5.0",
      "_model_name": "HBoxModel",
      "_view_count": null,
      "_view_module": "@jupyter-widgets/controls",
      "_view_module_version": "1.5.0",
      "_view_name": "HBoxView",
      "box_style": "",
      "children": [
       "IPY_MODEL_523f74f071ab49e8afe01b1da2c69765",
       "IPY_MODEL_b99a1ab14c14485a9722f4a6b7a1e080"
      ],
      "layout": "IPY_MODEL_6ef49f4dda49401d8d77df1ef22b8d9c"
     }
    },
    "c7e253bf313a453489568542c41ca7aa": {
     "model_module": "@jupyter-widgets/controls",
     "model_name": "HBoxModel",
     "state": {
      "_dom_classes": [],
      "_model_module": "@jupyter-widgets/controls",
      "_model_module_version": "1.5.0",
      "_model_name": "HBoxModel",
      "_view_count": null,
      "_view_module": "@jupyter-widgets/controls",
      "_view_module_version": "1.5.0",
      "_view_name": "HBoxView",
      "box_style": "",
      "children": [
       "IPY_MODEL_187b866e40d3434fb488e8e363988665",
       "IPY_MODEL_3883b1931f71452a87d1cc11026c2841"
      ],
      "layout": "IPY_MODEL_469c527df8fb4cde80b181fefa4e0893"
     }
    },
    "c839491e65aa4eb89c83b22253d9ca43": {
     "model_module": "@jupyter-widgets/controls",
     "model_name": "HBoxModel",
     "state": {
      "_dom_classes": [],
      "_model_module": "@jupyter-widgets/controls",
      "_model_module_version": "1.5.0",
      "_model_name": "HBoxModel",
      "_view_count": null,
      "_view_module": "@jupyter-widgets/controls",
      "_view_module_version": "1.5.0",
      "_view_name": "HBoxView",
      "box_style": "",
      "children": [
       "IPY_MODEL_f71041b5cca848cda5e91cb8a350e97d",
       "IPY_MODEL_2099c149645444eaafd5e6f867193804"
      ],
      "layout": "IPY_MODEL_f2a9fd222f604982b1f15631af7992a2"
     }
    },
    "c8acd6ba1333469c94bbdcc99ff771b2": {
     "model_module": "@jupyter-widgets/controls",
     "model_name": "HBoxModel",
     "state": {
      "_dom_classes": [],
      "_model_module": "@jupyter-widgets/controls",
      "_model_module_version": "1.5.0",
      "_model_name": "HBoxModel",
      "_view_count": null,
      "_view_module": "@jupyter-widgets/controls",
      "_view_module_version": "1.5.0",
      "_view_name": "HBoxView",
      "box_style": "",
      "children": [
       "IPY_MODEL_74fa5a6791564e2b82d9e26d3a1b7e80",
       "IPY_MODEL_efdce344787742af88fab6a745de4370"
      ],
      "layout": "IPY_MODEL_7b26da588198493298ed1372341b1d23"
     }
    },
    "cb2d648e60f8416cbdb0c70db3e09362": {
     "model_module": "@jupyter-widgets/controls",
     "model_name": "HBoxModel",
     "state": {
      "_dom_classes": [],
      "_model_module": "@jupyter-widgets/controls",
      "_model_module_version": "1.5.0",
      "_model_name": "HBoxModel",
      "_view_count": null,
      "_view_module": "@jupyter-widgets/controls",
      "_view_module_version": "1.5.0",
      "_view_name": "HBoxView",
      "box_style": "",
      "children": [
       "IPY_MODEL_8b6bf3d10ef5489f895165d6cc74b014",
       "IPY_MODEL_f7fdbc45e358450d9851d338f5df9611"
      ],
      "layout": "IPY_MODEL_6f6373bc3ff24869b6e2d17dad00e43e"
     }
    },
    "cc9f1cc461874d2386ef44687e5fe6c0": {
     "model_module": "@jupyter-widgets/controls",
     "model_name": "HBoxModel",
     "state": {
      "_dom_classes": [],
      "_model_module": "@jupyter-widgets/controls",
      "_model_module_version": "1.5.0",
      "_model_name": "HBoxModel",
      "_view_count": null,
      "_view_module": "@jupyter-widgets/controls",
      "_view_module_version": "1.5.0",
      "_view_name": "HBoxView",
      "box_style": "",
      "children": [
       "IPY_MODEL_fc898af3fe2042f4b336b69fff53d9e9",
       "IPY_MODEL_268c6817aab94c0f821902033f52467c"
      ],
      "layout": "IPY_MODEL_302b4ba270aa4657a3bbd008043c980f"
     }
    },
    "d23d1eb2b39a46f390368d4746558ddc": {
     "model_module": "@jupyter-widgets/controls",
     "model_name": "HBoxModel",
     "state": {
      "_dom_classes": [],
      "_model_module": "@jupyter-widgets/controls",
      "_model_module_version": "1.5.0",
      "_model_name": "HBoxModel",
      "_view_count": null,
      "_view_module": "@jupyter-widgets/controls",
      "_view_module_version": "1.5.0",
      "_view_name": "HBoxView",
      "box_style": "",
      "children": [
       "IPY_MODEL_0b46f86d2446472098196ba59432da45",
       "IPY_MODEL_010ec390ba71476ba7af7eb16f075618"
      ],
      "layout": "IPY_MODEL_06e9abccb2cd447c940e006b691f7cf5"
     }
    },
    "d2a220f1140049ea91bc752ef1a380cc": {
     "model_module": "@jupyter-widgets/controls",
     "model_name": "HBoxModel",
     "state": {
      "_dom_classes": [],
      "_model_module": "@jupyter-widgets/controls",
      "_model_module_version": "1.5.0",
      "_model_name": "HBoxModel",
      "_view_count": null,
      "_view_module": "@jupyter-widgets/controls",
      "_view_module_version": "1.5.0",
      "_view_name": "HBoxView",
      "box_style": "",
      "children": [
       "IPY_MODEL_41249847e02b4e0a956c2ec336cca13d",
       "IPY_MODEL_c7481315368c47dea855d7b45b44df8c"
      ],
      "layout": "IPY_MODEL_bbf1f600d8384f51a89dc6f672d9ab18"
     }
    },
    "d346486cd5864ec097403206fa1048fe": {
     "model_module": "@jupyter-widgets/controls",
     "model_name": "HBoxModel",
     "state": {
      "_dom_classes": [],
      "_model_module": "@jupyter-widgets/controls",
      "_model_module_version": "1.5.0",
      "_model_name": "HBoxModel",
      "_view_count": null,
      "_view_module": "@jupyter-widgets/controls",
      "_view_module_version": "1.5.0",
      "_view_name": "HBoxView",
      "box_style": "",
      "children": [
       "IPY_MODEL_205b3a87dd2440728b56187f76efcdd6",
       "IPY_MODEL_cbe6612262b5424aa01fd3e6e167d704"
      ],
      "layout": "IPY_MODEL_0d212f7292134354be4478b847c496fa"
     }
    },
    "d42e476f9489418693aa2ae31b6d8fb9": {
     "model_module": "@jupyter-widgets/controls",
     "model_name": "HBoxModel",
     "state": {
      "_dom_classes": [],
      "_model_module": "@jupyter-widgets/controls",
      "_model_module_version": "1.5.0",
      "_model_name": "HBoxModel",
      "_view_count": null,
      "_view_module": "@jupyter-widgets/controls",
      "_view_module_version": "1.5.0",
      "_view_name": "HBoxView",
      "box_style": "",
      "children": [
       "IPY_MODEL_26517eec8cae4c3ba4ac877465db76b6",
       "IPY_MODEL_bb9df4d231d34fd9b3475b077484f28d"
      ],
      "layout": "IPY_MODEL_be30c3d687be4508be65ef193fa2ef4f"
     }
    },
    "d6b5f0cbede54a8bbd39447e1b120a4e": {
     "model_module": "@jupyter-widgets/controls",
     "model_name": "HBoxModel",
     "state": {
      "_dom_classes": [],
      "_model_module": "@jupyter-widgets/controls",
      "_model_module_version": "1.5.0",
      "_model_name": "HBoxModel",
      "_view_count": null,
      "_view_module": "@jupyter-widgets/controls",
      "_view_module_version": "1.5.0",
      "_view_name": "HBoxView",
      "box_style": "",
      "children": [
       "IPY_MODEL_ab4cfda24190492288a6fb0d02da7c30",
       "IPY_MODEL_219550d640004c56a4accda2d2fff4eb"
      ],
      "layout": "IPY_MODEL_7a242b1bc5a74e469c6a00ca6607ea9c"
     }
    },
    "db7039f610e6406392d91ce51b6fd334": {
     "model_module": "@jupyter-widgets/controls",
     "model_name": "HBoxModel",
     "state": {
      "_dom_classes": [],
      "_model_module": "@jupyter-widgets/controls",
      "_model_module_version": "1.5.0",
      "_model_name": "HBoxModel",
      "_view_count": null,
      "_view_module": "@jupyter-widgets/controls",
      "_view_module_version": "1.5.0",
      "_view_name": "HBoxView",
      "box_style": "",
      "children": [
       "IPY_MODEL_880a92fce62643088b2c5305df6eb325",
       "IPY_MODEL_293cac353b8643349372e1ac4ce14235"
      ],
      "layout": "IPY_MODEL_72a9ffe89e9540949681f3b9bbb4e1ec"
     }
    },
    "dc04c1cdce0e4ccdb2b8a300ae1d6f70": {
     "model_module": "@jupyter-widgets/controls",
     "model_name": "HBoxModel",
     "state": {
      "_dom_classes": [],
      "_model_module": "@jupyter-widgets/controls",
      "_model_module_version": "1.5.0",
      "_model_name": "HBoxModel",
      "_view_count": null,
      "_view_module": "@jupyter-widgets/controls",
      "_view_module_version": "1.5.0",
      "_view_name": "HBoxView",
      "box_style": "",
      "children": [
       "IPY_MODEL_3dc2e1068f7944bcaa0f0863934384bd",
       "IPY_MODEL_86cad29533884830a8aacb16a6a7042b"
      ],
      "layout": "IPY_MODEL_b1e6d33606cc425693c5545860cec5c5"
     }
    },
    "e8fde260b92e4c2e9013c18df8b0e132": {
     "model_module": "@jupyter-widgets/controls",
     "model_name": "HBoxModel",
     "state": {
      "_dom_classes": [],
      "_model_module": "@jupyter-widgets/controls",
      "_model_module_version": "1.5.0",
      "_model_name": "HBoxModel",
      "_view_count": null,
      "_view_module": "@jupyter-widgets/controls",
      "_view_module_version": "1.5.0",
      "_view_name": "HBoxView",
      "box_style": "",
      "children": [
       "IPY_MODEL_9b6f002debb844f9b0b414bd8c197ee1",
       "IPY_MODEL_84f73d19db79495c9a90205dcd4b4f2c"
      ],
      "layout": "IPY_MODEL_be7ee166c6b246e3996f5fb872f29d74"
     }
    },
    "edc7bc505b824651ba44187a3a43f26c": {
     "model_module": "@jupyter-widgets/controls",
     "model_name": "HBoxModel",
     "state": {
      "_dom_classes": [],
      "_model_module": "@jupyter-widgets/controls",
      "_model_module_version": "1.5.0",
      "_model_name": "HBoxModel",
      "_view_count": null,
      "_view_module": "@jupyter-widgets/controls",
      "_view_module_version": "1.5.0",
      "_view_name": "HBoxView",
      "box_style": "",
      "children": [
       "IPY_MODEL_aa80ca2949624301a3e941d92a1ade6e",
       "IPY_MODEL_a946c71c56694c339f035e351c6fed52"
      ],
      "layout": "IPY_MODEL_116a9756608f40c187e176f1acbfbff3"
     }
    },
    "f01c59ef7642474eb5a382a558f3a3e2": {
     "model_module": "@jupyter-widgets/controls",
     "model_name": "HBoxModel",
     "state": {
      "_dom_classes": [],
      "_model_module": "@jupyter-widgets/controls",
      "_model_module_version": "1.5.0",
      "_model_name": "HBoxModel",
      "_view_count": null,
      "_view_module": "@jupyter-widgets/controls",
      "_view_module_version": "1.5.0",
      "_view_name": "HBoxView",
      "box_style": "",
      "children": [
       "IPY_MODEL_38388947bd8d470fbd5b27bd9bff69c6",
       "IPY_MODEL_c6a4b367978c400fa6bc2e7cf59fbc03"
      ],
      "layout": "IPY_MODEL_57cb61f223a842c0a6aaee117ada8cff"
     }
    },
    "f35d7ca0b0ce4ecd9bc794eaeed70535": {
     "model_module": "@jupyter-widgets/controls",
     "model_name": "HBoxModel",
     "state": {
      "_dom_classes": [],
      "_model_module": "@jupyter-widgets/controls",
      "_model_module_version": "1.5.0",
      "_model_name": "HBoxModel",
      "_view_count": null,
      "_view_module": "@jupyter-widgets/controls",
      "_view_module_version": "1.5.0",
      "_view_name": "HBoxView",
      "box_style": "",
      "children": [
       "IPY_MODEL_6e01e44e521f49768f753e1ee6fc8299",
       "IPY_MODEL_7adfbb5269df4698b3727ecd2a7d357c"
      ],
      "layout": "IPY_MODEL_19e4f17ba75644d5820465437d4771f7"
     }
    },
    "f38b02e758d345ed808e3b5f1c3a2f52": {
     "model_module": "@jupyter-widgets/controls",
     "model_name": "HBoxModel",
     "state": {
      "_dom_classes": [],
      "_model_module": "@jupyter-widgets/controls",
      "_model_module_version": "1.5.0",
      "_model_name": "HBoxModel",
      "_view_count": null,
      "_view_module": "@jupyter-widgets/controls",
      "_view_module_version": "1.5.0",
      "_view_name": "HBoxView",
      "box_style": "",
      "children": [
       "IPY_MODEL_3bcce590cd934c309d4350bd7480f4d9",
       "IPY_MODEL_1db190a5992549eb8190b35d39592061"
      ],
      "layout": "IPY_MODEL_d238e153abd0404cb8105b52519b1b6f"
     }
    },
    "f3cc1234a8f24f96881a89932ca839cf": {
     "model_module": "@jupyter-widgets/controls",
     "model_name": "HBoxModel",
     "state": {
      "_dom_classes": [],
      "_model_module": "@jupyter-widgets/controls",
      "_model_module_version": "1.5.0",
      "_model_name": "HBoxModel",
      "_view_count": null,
      "_view_module": "@jupyter-widgets/controls",
      "_view_module_version": "1.5.0",
      "_view_name": "HBoxView",
      "box_style": "",
      "children": [
       "IPY_MODEL_50c4baef623047838ad88e9f7e318af7",
       "IPY_MODEL_e4f28409e9124a6b8fb425f87ee98e9c"
      ],
      "layout": "IPY_MODEL_7f825a38fae04a73a6f543e9c1bfc632"
     }
    },
    "f44fd91f34574bc7bac90559d392804c": {
     "model_module": "@jupyter-widgets/controls",
     "model_name": "HBoxModel",
     "state": {
      "_dom_classes": [],
      "_model_module": "@jupyter-widgets/controls",
      "_model_module_version": "1.5.0",
      "_model_name": "HBoxModel",
      "_view_count": null,
      "_view_module": "@jupyter-widgets/controls",
      "_view_module_version": "1.5.0",
      "_view_name": "HBoxView",
      "box_style": "",
      "children": [
       "IPY_MODEL_2db2f4efd3df4309908ca57ebde4b314",
       "IPY_MODEL_5d608a25fa6f46c187b97fd37a341ffe"
      ],
      "layout": "IPY_MODEL_72088345a93c4698802f235aac638c0e"
     }
    },
    "f6e4717c08aa402390c68d9bd1ab52df": {
     "model_module": "@jupyter-widgets/controls",
     "model_name": "HBoxModel",
     "state": {
      "_dom_classes": [],
      "_model_module": "@jupyter-widgets/controls",
      "_model_module_version": "1.5.0",
      "_model_name": "HBoxModel",
      "_view_count": null,
      "_view_module": "@jupyter-widgets/controls",
      "_view_module_version": "1.5.0",
      "_view_name": "HBoxView",
      "box_style": "",
      "children": [
       "IPY_MODEL_dcea7dd2b75b4706a8c64b3347f24403",
       "IPY_MODEL_aef870c41c304a5cbe6c59c52c700034"
      ],
      "layout": "IPY_MODEL_b130081d213b4a9098693ac02abb1e46"
     }
    },
    "f85cb7a306cc49dcbed55a533a8ea789": {
     "model_module": "@jupyter-widgets/controls",
     "model_name": "HBoxModel",
     "state": {
      "_dom_classes": [],
      "_model_module": "@jupyter-widgets/controls",
      "_model_module_version": "1.5.0",
      "_model_name": "HBoxModel",
      "_view_count": null,
      "_view_module": "@jupyter-widgets/controls",
      "_view_module_version": "1.5.0",
      "_view_name": "HBoxView",
      "box_style": "",
      "children": [
       "IPY_MODEL_60826b45fbfe4213a54c1f3547dca1b1",
       "IPY_MODEL_a9ab4e727a77485882d6fc2af18838e7"
      ],
      "layout": "IPY_MODEL_b27d268d1dea486fbb72e94219317f43"
     }
    },
    "fb63ff950d284908b33bd370dc0cf10a": {
     "model_module": "@jupyter-widgets/controls",
     "model_name": "HBoxModel",
     "state": {
      "_dom_classes": [],
      "_model_module": "@jupyter-widgets/controls",
      "_model_module_version": "1.5.0",
      "_model_name": "HBoxModel",
      "_view_count": null,
      "_view_module": "@jupyter-widgets/controls",
      "_view_module_version": "1.5.0",
      "_view_name": "HBoxView",
      "box_style": "",
      "children": [
       "IPY_MODEL_e64aebb4d8eb42ccacdab57f669448a2",
       "IPY_MODEL_21d555bb048148cf911b7a8533f1b00e"
      ],
      "layout": "IPY_MODEL_f82290f20ade427c9c62e3a7923e68d3"
     }
    },
    "fc00aa0b96df4a209d14562b2b0640af": {
     "model_module": "@jupyter-widgets/controls",
     "model_name": "HBoxModel",
     "state": {
      "_dom_classes": [],
      "_model_module": "@jupyter-widgets/controls",
      "_model_module_version": "1.5.0",
      "_model_name": "HBoxModel",
      "_view_count": null,
      "_view_module": "@jupyter-widgets/controls",
      "_view_module_version": "1.5.0",
      "_view_name": "HBoxView",
      "box_style": "",
      "children": [
       "IPY_MODEL_6d449eb0e17f4730b54e4a95a78f2370",
       "IPY_MODEL_9a6e37288c46431f97fbe6d46d246288"
      ],
      "layout": "IPY_MODEL_4fb73f18326b41ccbfe2fb8452ad9234"
     }
    },
    "fceebe9a1d944940a8d1639c9c4d9c36": {
     "model_module": "@jupyter-widgets/controls",
     "model_name": "HBoxModel",
     "state": {
      "_dom_classes": [],
      "_model_module": "@jupyter-widgets/controls",
      "_model_module_version": "1.5.0",
      "_model_name": "HBoxModel",
      "_view_count": null,
      "_view_module": "@jupyter-widgets/controls",
      "_view_module_version": "1.5.0",
      "_view_name": "HBoxView",
      "box_style": "",
      "children": [
       "IPY_MODEL_8bbdc472e6af447d911cfebec443296a",
       "IPY_MODEL_514cda1a1f6549b797509629656e76b3"
      ],
      "layout": "IPY_MODEL_799585076c9344c588d22a889681f12a"
     }
    },
    "fcff28a9d7954d8cae9e10b3b27e5daf": {
     "model_module": "@jupyter-widgets/controls",
     "model_name": "HBoxModel",
     "state": {
      "_dom_classes": [],
      "_model_module": "@jupyter-widgets/controls",
      "_model_module_version": "1.5.0",
      "_model_name": "HBoxModel",
      "_view_count": null,
      "_view_module": "@jupyter-widgets/controls",
      "_view_module_version": "1.5.0",
      "_view_name": "HBoxView",
      "box_style": "",
      "children": [
       "IPY_MODEL_7b9da661bc1a429eb3e07b56f6b975ad",
       "IPY_MODEL_339d2cf291a944689e66b876b148f965"
      ],
      "layout": "IPY_MODEL_f1eb365e7b024ff482e9126e1532ac83"
     }
    },
    "fd442c05f3b44b88b63972ab211c84ad": {
     "model_module": "@jupyter-widgets/controls",
     "model_name": "HBoxModel",
     "state": {
      "_dom_classes": [],
      "_model_module": "@jupyter-widgets/controls",
      "_model_module_version": "1.5.0",
      "_model_name": "HBoxModel",
      "_view_count": null,
      "_view_module": "@jupyter-widgets/controls",
      "_view_module_version": "1.5.0",
      "_view_name": "HBoxView",
      "box_style": "",
      "children": [
       "IPY_MODEL_152a7d569a9e41a283d86ea286b52ceb",
       "IPY_MODEL_38440881dae74f16961e828af71361d1"
      ],
      "layout": "IPY_MODEL_e926a6b281b84d61973fc3c43300a900"
     }
    }
   }
  }
 },
 "nbformat": 4,
 "nbformat_minor": 4
}
