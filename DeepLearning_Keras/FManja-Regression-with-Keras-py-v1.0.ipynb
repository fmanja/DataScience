{
 "cells": [
  {
   "cell_type": "markdown",
   "metadata": {
    "button": false,
    "deletable": true,
    "new_sheet": false,
    "run_control": {
     "read_only": false
    }
   },
   "source": [
    "<h1 align=center><font size = 5>F. Manja Submission: Regression Models with Keras</font></h1>"
   ]
  },
  {
   "cell_type": "markdown",
   "metadata": {
    "button": false,
    "deletable": true,
    "new_sheet": false,
    "run_control": {
     "read_only": false
    }
   },
   "source": [
    "## Introduction"
   ]
  },
  {
   "cell_type": "markdown",
   "metadata": {
    "button": false,
    "deletable": true,
    "new_sheet": false,
    "run_control": {
     "read_only": false
    }
   },
   "source": [
    "In this notebook, we will use the Keras library to build regression models."
   ]
  },
  {
   "cell_type": "markdown",
   "metadata": {
    "button": false,
    "deletable": true,
    "new_sheet": false,
    "run_control": {
     "read_only": false
    }
   },
   "source": [
    "## Download and Clean Dataset"
   ]
  },
  {
   "cell_type": "markdown",
   "metadata": {
    "button": false,
    "deletable": true,
    "new_sheet": false,
    "run_control": {
     "read_only": false
    }
   },
   "source": [
    "Let's start by importing the <em>pandas</em> and the Numpy libraries."
   ]
  },
  {
   "cell_type": "code",
   "execution_count": 1,
   "metadata": {
    "button": false,
    "deletable": true,
    "new_sheet": false,
    "run_control": {
     "read_only": false
    }
   },
   "outputs": [],
   "source": [
    "import pandas as pd\n",
    "import numpy as np"
   ]
  },
  {
   "cell_type": "markdown",
   "metadata": {
    "button": false,
    "deletable": true,
    "new_sheet": false,
    "run_control": {
     "read_only": false
    }
   },
   "source": [
    "We will be playing around with the same dataset that we used in the videos.\n",
    "\n",
    "<strong>The dataset is about the compressive strength of different samples of concrete based on the volumes of the different ingredients that were used to make them. Ingredients include:</strong>\n",
    "\n",
    "<strong>1. Cement</strong>\n",
    "\n",
    "<strong>2. Blast Furnace Slag</strong>\n",
    "\n",
    "<strong>3. Fly Ash</strong>\n",
    "\n",
    "<strong>4. Water</strong>\n",
    "\n",
    "<strong>5. Superplasticizer</strong>\n",
    "\n",
    "<strong>6. Coarse Aggregate</strong>\n",
    "\n",
    "<strong>7. Fine Aggregate</strong>"
   ]
  },
  {
   "cell_type": "markdown",
   "metadata": {
    "button": false,
    "deletable": true,
    "new_sheet": false,
    "run_control": {
     "read_only": false
    }
   },
   "source": [
    "Let's download the data and read it into a <em>pandas</em> dataframe."
   ]
  },
  {
   "cell_type": "code",
   "execution_count": 2,
   "metadata": {
    "button": false,
    "deletable": true,
    "new_sheet": false,
    "run_control": {
     "read_only": false
    }
   },
   "outputs": [
    {
     "data": {
      "text/html": [
       "<div>\n",
       "<style scoped>\n",
       "    .dataframe tbody tr th:only-of-type {\n",
       "        vertical-align: middle;\n",
       "    }\n",
       "\n",
       "    .dataframe tbody tr th {\n",
       "        vertical-align: top;\n",
       "    }\n",
       "\n",
       "    .dataframe thead th {\n",
       "        text-align: right;\n",
       "    }\n",
       "</style>\n",
       "<table border=\"1\" class=\"dataframe\">\n",
       "  <thead>\n",
       "    <tr style=\"text-align: right;\">\n",
       "      <th></th>\n",
       "      <th>Cement</th>\n",
       "      <th>Blast Furnace Slag</th>\n",
       "      <th>Fly Ash</th>\n",
       "      <th>Water</th>\n",
       "      <th>Superplasticizer</th>\n",
       "      <th>Coarse Aggregate</th>\n",
       "      <th>Fine Aggregate</th>\n",
       "      <th>Age</th>\n",
       "      <th>Strength</th>\n",
       "    </tr>\n",
       "  </thead>\n",
       "  <tbody>\n",
       "    <tr>\n",
       "      <th>0</th>\n",
       "      <td>540.0</td>\n",
       "      <td>0.0</td>\n",
       "      <td>0.0</td>\n",
       "      <td>162.0</td>\n",
       "      <td>2.5</td>\n",
       "      <td>1040.0</td>\n",
       "      <td>676.0</td>\n",
       "      <td>28</td>\n",
       "      <td>79.99</td>\n",
       "    </tr>\n",
       "    <tr>\n",
       "      <th>1</th>\n",
       "      <td>540.0</td>\n",
       "      <td>0.0</td>\n",
       "      <td>0.0</td>\n",
       "      <td>162.0</td>\n",
       "      <td>2.5</td>\n",
       "      <td>1055.0</td>\n",
       "      <td>676.0</td>\n",
       "      <td>28</td>\n",
       "      <td>61.89</td>\n",
       "    </tr>\n",
       "    <tr>\n",
       "      <th>2</th>\n",
       "      <td>332.5</td>\n",
       "      <td>142.5</td>\n",
       "      <td>0.0</td>\n",
       "      <td>228.0</td>\n",
       "      <td>0.0</td>\n",
       "      <td>932.0</td>\n",
       "      <td>594.0</td>\n",
       "      <td>270</td>\n",
       "      <td>40.27</td>\n",
       "    </tr>\n",
       "    <tr>\n",
       "      <th>3</th>\n",
       "      <td>332.5</td>\n",
       "      <td>142.5</td>\n",
       "      <td>0.0</td>\n",
       "      <td>228.0</td>\n",
       "      <td>0.0</td>\n",
       "      <td>932.0</td>\n",
       "      <td>594.0</td>\n",
       "      <td>365</td>\n",
       "      <td>41.05</td>\n",
       "    </tr>\n",
       "    <tr>\n",
       "      <th>4</th>\n",
       "      <td>198.6</td>\n",
       "      <td>132.4</td>\n",
       "      <td>0.0</td>\n",
       "      <td>192.0</td>\n",
       "      <td>0.0</td>\n",
       "      <td>978.4</td>\n",
       "      <td>825.5</td>\n",
       "      <td>360</td>\n",
       "      <td>44.30</td>\n",
       "    </tr>\n",
       "  </tbody>\n",
       "</table>\n",
       "</div>"
      ],
      "text/plain": [
       "   Cement  Blast Furnace Slag  Fly Ash  Water  Superplasticizer  \\\n",
       "0   540.0                 0.0      0.0  162.0               2.5   \n",
       "1   540.0                 0.0      0.0  162.0               2.5   \n",
       "2   332.5               142.5      0.0  228.0               0.0   \n",
       "3   332.5               142.5      0.0  228.0               0.0   \n",
       "4   198.6               132.4      0.0  192.0               0.0   \n",
       "\n",
       "   Coarse Aggregate  Fine Aggregate  Age  Strength  \n",
       "0            1040.0           676.0   28     79.99  \n",
       "1            1055.0           676.0   28     61.89  \n",
       "2             932.0           594.0  270     40.27  \n",
       "3             932.0           594.0  365     41.05  \n",
       "4             978.4           825.5  360     44.30  "
      ]
     },
     "execution_count": 2,
     "metadata": {},
     "output_type": "execute_result"
    }
   ],
   "source": [
    "concrete_data = pd.read_csv('https://s3-api.us-geo.objectstorage.softlayer.net/cf-courses-data/CognitiveClass/DL0101EN/labs/data/concrete_data.csv')\n",
    "concrete_data.head()"
   ]
  },
  {
   "cell_type": "markdown",
   "metadata": {},
   "source": [
    "Let's see shape of data"
   ]
  },
  {
   "cell_type": "code",
   "execution_count": 3,
   "metadata": {},
   "outputs": [
    {
     "data": {
      "text/plain": [
       "(1030, 9)"
      ]
     },
     "execution_count": 3,
     "metadata": {},
     "output_type": "execute_result"
    }
   ],
   "source": [
    "concrete_data.shape"
   ]
  },
  {
   "cell_type": "markdown",
   "metadata": {
    "button": false,
    "deletable": true,
    "new_sheet": false,
    "run_control": {
     "read_only": false
    }
   },
   "source": [
    "Let's check the dataset for any missing values."
   ]
  },
  {
   "cell_type": "code",
   "execution_count": 4,
   "metadata": {
    "button": false,
    "deletable": true,
    "new_sheet": false,
    "run_control": {
     "read_only": false
    }
   },
   "outputs": [
    {
     "data": {
      "text/plain": [
       "Cement                0\n",
       "Blast Furnace Slag    0\n",
       "Fly Ash               0\n",
       "Water                 0\n",
       "Superplasticizer      0\n",
       "Coarse Aggregate      0\n",
       "Fine Aggregate        0\n",
       "Age                   0\n",
       "Strength              0\n",
       "dtype: int64"
      ]
     },
     "execution_count": 4,
     "metadata": {},
     "output_type": "execute_result"
    }
   ],
   "source": [
    "concrete_data.isnull().sum()"
   ]
  },
  {
   "cell_type": "markdown",
   "metadata": {
    "button": false,
    "deletable": true,
    "new_sheet": false,
    "run_control": {
     "read_only": false
    }
   },
   "source": [
    "The data looks very clean and is ready to be used to build our model."
   ]
  },
  {
   "cell_type": "markdown",
   "metadata": {
    "button": false,
    "deletable": true,
    "new_sheet": false,
    "run_control": {
     "read_only": false
    }
   },
   "source": [
    "#### Split data into predictors and target"
   ]
  },
  {
   "cell_type": "markdown",
   "metadata": {},
   "source": [
    "The target variable in this problem is the concrete sample strength. Therefore, our predictors will be all the other columns."
   ]
  },
  {
   "cell_type": "code",
   "execution_count": 5,
   "metadata": {
    "button": false,
    "deletable": true,
    "new_sheet": false,
    "run_control": {
     "read_only": false
    }
   },
   "outputs": [],
   "source": [
    "concrete_data_columns = concrete_data.columns\n",
    "\n",
    "predictors = concrete_data[concrete_data_columns[concrete_data_columns != 'Strength']] # all columns except Strength\n",
    "target = concrete_data['Strength'] # Strength column"
   ]
  },
  {
   "cell_type": "markdown",
   "metadata": {
    "button": false,
    "deletable": true,
    "new_sheet": false,
    "run_control": {
     "read_only": false
    }
   },
   "source": [
    "<a id=\"item2\"></a>"
   ]
  },
  {
   "cell_type": "markdown",
   "metadata": {
    "button": false,
    "deletable": true,
    "new_sheet": false,
    "run_control": {
     "read_only": false
    }
   },
   "source": [
    "Let's do a quick sanity check of the predictors and the target dataframes."
   ]
  },
  {
   "cell_type": "code",
   "execution_count": 6,
   "metadata": {
    "button": false,
    "deletable": true,
    "new_sheet": false,
    "run_control": {
     "read_only": false
    }
   },
   "outputs": [
    {
     "data": {
      "text/html": [
       "<div>\n",
       "<style scoped>\n",
       "    .dataframe tbody tr th:only-of-type {\n",
       "        vertical-align: middle;\n",
       "    }\n",
       "\n",
       "    .dataframe tbody tr th {\n",
       "        vertical-align: top;\n",
       "    }\n",
       "\n",
       "    .dataframe thead th {\n",
       "        text-align: right;\n",
       "    }\n",
       "</style>\n",
       "<table border=\"1\" class=\"dataframe\">\n",
       "  <thead>\n",
       "    <tr style=\"text-align: right;\">\n",
       "      <th></th>\n",
       "      <th>Cement</th>\n",
       "      <th>Blast Furnace Slag</th>\n",
       "      <th>Fly Ash</th>\n",
       "      <th>Water</th>\n",
       "      <th>Superplasticizer</th>\n",
       "      <th>Coarse Aggregate</th>\n",
       "      <th>Fine Aggregate</th>\n",
       "      <th>Age</th>\n",
       "    </tr>\n",
       "  </thead>\n",
       "  <tbody>\n",
       "    <tr>\n",
       "      <th>0</th>\n",
       "      <td>540.0</td>\n",
       "      <td>0.0</td>\n",
       "      <td>0.0</td>\n",
       "      <td>162.0</td>\n",
       "      <td>2.5</td>\n",
       "      <td>1040.0</td>\n",
       "      <td>676.0</td>\n",
       "      <td>28</td>\n",
       "    </tr>\n",
       "    <tr>\n",
       "      <th>1</th>\n",
       "      <td>540.0</td>\n",
       "      <td>0.0</td>\n",
       "      <td>0.0</td>\n",
       "      <td>162.0</td>\n",
       "      <td>2.5</td>\n",
       "      <td>1055.0</td>\n",
       "      <td>676.0</td>\n",
       "      <td>28</td>\n",
       "    </tr>\n",
       "    <tr>\n",
       "      <th>2</th>\n",
       "      <td>332.5</td>\n",
       "      <td>142.5</td>\n",
       "      <td>0.0</td>\n",
       "      <td>228.0</td>\n",
       "      <td>0.0</td>\n",
       "      <td>932.0</td>\n",
       "      <td>594.0</td>\n",
       "      <td>270</td>\n",
       "    </tr>\n",
       "    <tr>\n",
       "      <th>3</th>\n",
       "      <td>332.5</td>\n",
       "      <td>142.5</td>\n",
       "      <td>0.0</td>\n",
       "      <td>228.0</td>\n",
       "      <td>0.0</td>\n",
       "      <td>932.0</td>\n",
       "      <td>594.0</td>\n",
       "      <td>365</td>\n",
       "    </tr>\n",
       "    <tr>\n",
       "      <th>4</th>\n",
       "      <td>198.6</td>\n",
       "      <td>132.4</td>\n",
       "      <td>0.0</td>\n",
       "      <td>192.0</td>\n",
       "      <td>0.0</td>\n",
       "      <td>978.4</td>\n",
       "      <td>825.5</td>\n",
       "      <td>360</td>\n",
       "    </tr>\n",
       "  </tbody>\n",
       "</table>\n",
       "</div>"
      ],
      "text/plain": [
       "   Cement  Blast Furnace Slag  Fly Ash  Water  Superplasticizer  \\\n",
       "0   540.0                 0.0      0.0  162.0               2.5   \n",
       "1   540.0                 0.0      0.0  162.0               2.5   \n",
       "2   332.5               142.5      0.0  228.0               0.0   \n",
       "3   332.5               142.5      0.0  228.0               0.0   \n",
       "4   198.6               132.4      0.0  192.0               0.0   \n",
       "\n",
       "   Coarse Aggregate  Fine Aggregate  Age  \n",
       "0            1040.0           676.0   28  \n",
       "1            1055.0           676.0   28  \n",
       "2             932.0           594.0  270  \n",
       "3             932.0           594.0  365  \n",
       "4             978.4           825.5  360  "
      ]
     },
     "execution_count": 6,
     "metadata": {},
     "output_type": "execute_result"
    }
   ],
   "source": [
    "predictors.head()"
   ]
  },
  {
   "cell_type": "code",
   "execution_count": 7,
   "metadata": {
    "button": false,
    "deletable": true,
    "new_sheet": false,
    "run_control": {
     "read_only": false
    }
   },
   "outputs": [
    {
     "data": {
      "text/plain": [
       "0    79.99\n",
       "1    61.89\n",
       "2    40.27\n",
       "3    41.05\n",
       "4    44.30\n",
       "Name: Strength, dtype: float64"
      ]
     },
     "execution_count": 7,
     "metadata": {},
     "output_type": "execute_result"
    }
   ],
   "source": [
    "target.head()"
   ]
  },
  {
   "cell_type": "markdown",
   "metadata": {
    "button": false,
    "deletable": true,
    "new_sheet": false,
    "run_control": {
     "read_only": false
    }
   },
   "source": [
    "Finally, the last step is to normalize the predictor data by substracting the mean and dividing by the standard deviation."
   ]
  },
  {
   "cell_type": "code",
   "execution_count": 8,
   "metadata": {
    "button": false,
    "deletable": true,
    "new_sheet": false,
    "run_control": {
     "read_only": false
    }
   },
   "outputs": [
    {
     "data": {
      "text/html": [
       "<div>\n",
       "<style scoped>\n",
       "    .dataframe tbody tr th:only-of-type {\n",
       "        vertical-align: middle;\n",
       "    }\n",
       "\n",
       "    .dataframe tbody tr th {\n",
       "        vertical-align: top;\n",
       "    }\n",
       "\n",
       "    .dataframe thead th {\n",
       "        text-align: right;\n",
       "    }\n",
       "</style>\n",
       "<table border=\"1\" class=\"dataframe\">\n",
       "  <thead>\n",
       "    <tr style=\"text-align: right;\">\n",
       "      <th></th>\n",
       "      <th>Cement</th>\n",
       "      <th>Blast Furnace Slag</th>\n",
       "      <th>Fly Ash</th>\n",
       "      <th>Water</th>\n",
       "      <th>Superplasticizer</th>\n",
       "      <th>Coarse Aggregate</th>\n",
       "      <th>Fine Aggregate</th>\n",
       "      <th>Age</th>\n",
       "    </tr>\n",
       "  </thead>\n",
       "  <tbody>\n",
       "    <tr>\n",
       "      <th>0</th>\n",
       "      <td>2.476712</td>\n",
       "      <td>-0.856472</td>\n",
       "      <td>-0.846733</td>\n",
       "      <td>-0.916319</td>\n",
       "      <td>-0.620147</td>\n",
       "      <td>0.862735</td>\n",
       "      <td>-1.217079</td>\n",
       "      <td>-0.279597</td>\n",
       "    </tr>\n",
       "    <tr>\n",
       "      <th>1</th>\n",
       "      <td>2.476712</td>\n",
       "      <td>-0.856472</td>\n",
       "      <td>-0.846733</td>\n",
       "      <td>-0.916319</td>\n",
       "      <td>-0.620147</td>\n",
       "      <td>1.055651</td>\n",
       "      <td>-1.217079</td>\n",
       "      <td>-0.279597</td>\n",
       "    </tr>\n",
       "    <tr>\n",
       "      <th>2</th>\n",
       "      <td>0.491187</td>\n",
       "      <td>0.795140</td>\n",
       "      <td>-0.846733</td>\n",
       "      <td>2.174405</td>\n",
       "      <td>-1.038638</td>\n",
       "      <td>-0.526262</td>\n",
       "      <td>-2.239829</td>\n",
       "      <td>3.551340</td>\n",
       "    </tr>\n",
       "    <tr>\n",
       "      <th>3</th>\n",
       "      <td>0.491187</td>\n",
       "      <td>0.795140</td>\n",
       "      <td>-0.846733</td>\n",
       "      <td>2.174405</td>\n",
       "      <td>-1.038638</td>\n",
       "      <td>-0.526262</td>\n",
       "      <td>-2.239829</td>\n",
       "      <td>5.055221</td>\n",
       "    </tr>\n",
       "    <tr>\n",
       "      <th>4</th>\n",
       "      <td>-0.790075</td>\n",
       "      <td>0.678079</td>\n",
       "      <td>-0.846733</td>\n",
       "      <td>0.488555</td>\n",
       "      <td>-1.038638</td>\n",
       "      <td>0.070492</td>\n",
       "      <td>0.647569</td>\n",
       "      <td>4.976069</td>\n",
       "    </tr>\n",
       "  </tbody>\n",
       "</table>\n",
       "</div>"
      ],
      "text/plain": [
       "     Cement  Blast Furnace Slag   Fly Ash     Water  Superplasticizer  \\\n",
       "0  2.476712           -0.856472 -0.846733 -0.916319         -0.620147   \n",
       "1  2.476712           -0.856472 -0.846733 -0.916319         -0.620147   \n",
       "2  0.491187            0.795140 -0.846733  2.174405         -1.038638   \n",
       "3  0.491187            0.795140 -0.846733  2.174405         -1.038638   \n",
       "4 -0.790075            0.678079 -0.846733  0.488555         -1.038638   \n",
       "\n",
       "   Coarse Aggregate  Fine Aggregate       Age  \n",
       "0          0.862735       -1.217079 -0.279597  \n",
       "1          1.055651       -1.217079 -0.279597  \n",
       "2         -0.526262       -2.239829  3.551340  \n",
       "3         -0.526262       -2.239829  5.055221  \n",
       "4          0.070492        0.647569  4.976069  "
      ]
     },
     "execution_count": 8,
     "metadata": {},
     "output_type": "execute_result"
    }
   ],
   "source": [
    "predictors_norm = (predictors - predictors.mean()) / predictors.std()\n",
    "predictors_norm.head()"
   ]
  },
  {
   "cell_type": "markdown",
   "metadata": {},
   "source": [
    "Let's save the number of predictors to *n_cols* since we will need this number when building our network."
   ]
  },
  {
   "cell_type": "code",
   "execution_count": 9,
   "metadata": {},
   "outputs": [],
   "source": [
    "n_cols = predictors_norm.shape[1] # number of predictors"
   ]
  },
  {
   "cell_type": "code",
   "execution_count": 10,
   "metadata": {},
   "outputs": [],
   "source": [
    "import sklearn.model_selection as model_selection\n",
    "\n",
    "X_train, X_test, y_train, y_test = model_selection.train_test_split(predictors, target, train_size=0.70,test_size=0.3)\n"
   ]
  },
  {
   "cell_type": "markdown",
   "metadata": {
    "button": false,
    "deletable": true,
    "new_sheet": false,
    "run_control": {
     "read_only": false
    }
   },
   "source": [
    "<a id=\"item1\"></a>"
   ]
  },
  {
   "cell_type": "markdown",
   "metadata": {},
   "source": [
    "<a id='item32'></a>"
   ]
  },
  {
   "cell_type": "markdown",
   "metadata": {
    "button": false,
    "deletable": true,
    "new_sheet": false,
    "run_control": {
     "read_only": false
    }
   },
   "source": [
    "## Import Keras"
   ]
  },
  {
   "cell_type": "markdown",
   "metadata": {
    "button": false,
    "deletable": true,
    "new_sheet": false,
    "run_control": {
     "read_only": false
    }
   },
   "source": [
    "We used TensorFlow as the backend to install Keras, so it should clearly print that when we import Keras."
   ]
  },
  {
   "cell_type": "markdown",
   "metadata": {
    "button": false,
    "deletable": true,
    "new_sheet": false,
    "run_control": {
     "read_only": false
    }
   },
   "source": [
    "#### Let's go ahead and import the Keras library"
   ]
  },
  {
   "cell_type": "code",
   "execution_count": 11,
   "metadata": {
    "button": false,
    "deletable": true,
    "new_sheet": false,
    "run_control": {
     "read_only": false
    }
   },
   "outputs": [
    {
     "name": "stderr",
     "output_type": "stream",
     "text": [
      "Using TensorFlow backend.\n"
     ]
    }
   ],
   "source": [
    "import keras"
   ]
  },
  {
   "cell_type": "markdown",
   "metadata": {
    "button": false,
    "deletable": true,
    "new_sheet": false,
    "run_control": {
     "read_only": false
    }
   },
   "source": [
    "As you can see, the TensorFlow backend was used to install the Keras library."
   ]
  },
  {
   "cell_type": "markdown",
   "metadata": {
    "button": false,
    "deletable": true,
    "new_sheet": false,
    "run_control": {
     "read_only": false
    }
   },
   "source": [
    "Let's import the rest of the packages from the Keras library that we will need to build our regressoin model."
   ]
  },
  {
   "cell_type": "code",
   "execution_count": 12,
   "metadata": {
    "button": false,
    "deletable": true,
    "new_sheet": false,
    "run_control": {
     "read_only": false
    }
   },
   "outputs": [],
   "source": [
    "from keras.models import Sequential\n",
    "from keras.layers import Dense"
   ]
  },
  {
   "cell_type": "markdown",
   "metadata": {},
   "source": [
    "<a id='item33'></a>"
   ]
  },
  {
   "cell_type": "markdown",
   "metadata": {
    "button": false,
    "deletable": true,
    "new_sheet": false,
    "run_control": {
     "read_only": false
    }
   },
   "source": [
    "## Part A. Build a Neural (Network Baseline)"
   ]
  },
  {
   "cell_type": "markdown",
   "metadata": {
    "button": false,
    "deletable": true,
    "new_sheet": false,
    "run_control": {
     "read_only": false
    }
   },
   "source": [
    "Let's define a function that defines our regression model for us so that we can conveniently call it to create our model."
   ]
  },
  {
   "cell_type": "code",
   "execution_count": 13,
   "metadata": {
    "button": false,
    "deletable": true,
    "new_sheet": false,
    "run_control": {
     "read_only": false
    }
   },
   "outputs": [],
   "source": [
    "# define regression model\n",
    "def regression_model():\n",
    "    # create model\n",
    "    model = Sequential()\n",
    "    model.add(Dense(10, activation='relu', input_shape=(n_cols,)))\n",
    "    model.add(Dense(1))\n",
    "    \n",
    "    # compile model\n",
    "    model.compile(optimizer='adam', loss='mean_squared_error')\n",
    "    return model"
   ]
  },
  {
   "cell_type": "markdown",
   "metadata": {},
   "source": [
    "The above function create a model that has two hidden layers, each of 50 hidden units."
   ]
  },
  {
   "cell_type": "markdown",
   "metadata": {
    "button": false,
    "deletable": true,
    "new_sheet": false,
    "run_control": {
     "read_only": false
    }
   },
   "source": [
    "<a id=\"item4\"></a>"
   ]
  },
  {
   "cell_type": "markdown",
   "metadata": {},
   "source": [
    "<a id='item34'></a>"
   ]
  },
  {
   "cell_type": "markdown",
   "metadata": {
    "button": false,
    "deletable": true,
    "new_sheet": false,
    "run_control": {
     "read_only": false
    }
   },
   "source": [
    "## Train and Test the Network"
   ]
  },
  {
   "cell_type": "markdown",
   "metadata": {},
   "source": [
    "Let's call the function now to create our model."
   ]
  },
  {
   "cell_type": "code",
   "execution_count": 14,
   "metadata": {
    "button": false,
    "deletable": true,
    "new_sheet": false,
    "run_control": {
     "read_only": false
    }
   },
   "outputs": [],
   "source": [
    "# build the model\n",
    "model = regression_model()"
   ]
  },
  {
   "cell_type": "markdown",
   "metadata": {},
   "source": [
    "Next, we will train and test the model at the same time using the *fit* method. We will leave out 30% of the data for validation and we will train the model for 100 epochs."
   ]
  },
  {
   "cell_type": "code",
   "execution_count": 15,
   "metadata": {},
   "outputs": [
    {
     "name": "stdout",
     "output_type": "stream",
     "text": [
      "Iteration: 0, Mean Squared Error: 119.08858838127655\n",
      "Iteration: 1, Mean Squared Error: 109.23927682425983\n",
      "Iteration: 2, Mean Squared Error: 110.62815348307292\n",
      "Iteration: 3, Mean Squared Error: 109.506158007773\n",
      "Iteration: 4, Mean Squared Error: 110.95111237066078\n",
      "Iteration: 5, Mean Squared Error: 110.39537579187683\n",
      "Iteration: 6, Mean Squared Error: 111.58564662007453\n",
      "Iteration: 7, Mean Squared Error: 111.63172287925548\n",
      "Iteration: 8, Mean Squared Error: 114.71439361572266\n",
      "Iteration: 9, Mean Squared Error: 122.90328643700066\n",
      "Iteration: 10, Mean Squared Error: 114.82957367140884\n",
      "Iteration: 11, Mean Squared Error: 110.25210813256915\n",
      "Iteration: 12, Mean Squared Error: 115.31798600378931\n",
      "Iteration: 13, Mean Squared Error: 108.96239891175699\n",
      "Iteration: 14, Mean Squared Error: 112.43585402602902\n",
      "Iteration: 15, Mean Squared Error: 113.01621298188145\n",
      "Iteration: 16, Mean Squared Error: 129.0523644851635\n",
      "Iteration: 17, Mean Squared Error: 114.20447221774499\n",
      "Iteration: 18, Mean Squared Error: 109.0188207780659\n",
      "Iteration: 19, Mean Squared Error: 110.41998839146882\n",
      "Iteration: 20, Mean Squared Error: 109.77326387572057\n",
      "Iteration: 21, Mean Squared Error: 109.71347384159618\n",
      "Iteration: 22, Mean Squared Error: 112.02425661056174\n",
      "Iteration: 23, Mean Squared Error: 117.20446046502073\n",
      "Iteration: 24, Mean Squared Error: 133.9037681752424\n",
      "Iteration: 25, Mean Squared Error: 123.17074757795118\n",
      "Iteration: 26, Mean Squared Error: 129.23486426887388\n",
      "Iteration: 27, Mean Squared Error: 110.29390249900447\n",
      "Iteration: 28, Mean Squared Error: 113.78537283591854\n",
      "Iteration: 29, Mean Squared Error: 109.16039806970886\n",
      "Iteration: 30, Mean Squared Error: 110.49983978271484\n",
      "Iteration: 31, Mean Squared Error: 122.35692058180528\n",
      "Iteration: 32, Mean Squared Error: 114.11405641129873\n",
      "Iteration: 33, Mean Squared Error: 123.674834538432\n",
      "Iteration: 34, Mean Squared Error: 110.30103119291535\n",
      "Iteration: 35, Mean Squared Error: 110.23760317212941\n",
      "Iteration: 36, Mean Squared Error: 120.53494909588959\n",
      "Iteration: 37, Mean Squared Error: 119.45333175906086\n",
      "Iteration: 38, Mean Squared Error: 109.24541453636193\n",
      "Iteration: 39, Mean Squared Error: 114.17523605692348\n",
      "Iteration: 40, Mean Squared Error: 110.79704193312759\n",
      "Iteration: 41, Mean Squared Error: 115.47065670667729\n",
      "Iteration: 42, Mean Squared Error: 109.48339189449175\n",
      "Iteration: 43, Mean Squared Error: 110.28015460165574\n",
      "Iteration: 44, Mean Squared Error: 117.7045678444279\n",
      "Iteration: 45, Mean Squared Error: 112.14339007528855\n",
      "Iteration: 46, Mean Squared Error: 109.31508584624355\n",
      "Iteration: 47, Mean Squared Error: 113.3220838034423\n",
      "Iteration: 48, Mean Squared Error: 116.06964303914783\n",
      "Iteration: 49, Mean Squared Error: 128.18925256327904\n"
     ]
    }
   ],
   "source": [
    "mean_squared_errors = []\n",
    "for iter in range(50):\n",
    "    # fit the model\n",
    "    model.fit(X_train, y_train, validation_split=0.3, epochs=50, verbose=0)\n",
    "    # evaluate the model\n",
    "    scores = model.evaluate(X_test, y_test, verbose=0)\n",
    "    mean_squared_errors.append(scores)\n",
    "    print('Iteration: {}, Mean Squared Error: {}'.format(iter,scores))  "
   ]
  },
  {
   "cell_type": "code",
   "execution_count": 16,
   "metadata": {},
   "outputs": [
    {
     "name": "stdout",
     "output_type": "stream",
     "text": [
      "Report of Mean Squared Errors (Baseline)\n",
      "Mean: 114.67572975331525, Standard deviation: 6.178903255945665\n"
     ]
    }
   ],
   "source": [
    "import statistics \n",
    "m = statistics.mean(mean_squared_errors)\n",
    "s = statistics.stdev(mean_squared_errors)\n",
    "print(\"Report of Mean Squared Errors (Baseline)\\nMean: {}, Standard deviation: {}\".format(m,s))"
   ]
  },
  {
   "cell_type": "markdown",
   "metadata": {},
   "source": [
    "## Part B. Train and Test the Network with Normalized data"
   ]
  },
  {
   "cell_type": "code",
   "execution_count": 17,
   "metadata": {},
   "outputs": [],
   "source": [
    "X_train_norm, X_test_norm, y_train, y_test = model_selection.train_test_split(predictors_norm, target, train_size=0.70,test_size=0.30)"
   ]
  },
  {
   "cell_type": "code",
   "execution_count": 18,
   "metadata": {},
   "outputs": [],
   "source": [
    "# build the model\n",
    "model_norm = regression_model()"
   ]
  },
  {
   "cell_type": "code",
   "execution_count": 19,
   "metadata": {},
   "outputs": [
    {
     "name": "stdout",
     "output_type": "stream",
     "text": [
      "Iteration: 0, Mean Squared Error: 404.2545988706323\n",
      "Iteration: 1, Mean Squared Error: 174.58862521964755\n",
      "Iteration: 2, Mean Squared Error: 142.48626062090727\n",
      "Iteration: 3, Mean Squared Error: 131.04479698995942\n",
      "Iteration: 4, Mean Squared Error: 122.42332710340185\n",
      "Iteration: 5, Mean Squared Error: 115.98812071173708\n",
      "Iteration: 6, Mean Squared Error: 111.66817985460597\n",
      "Iteration: 7, Mean Squared Error: 108.74326354091608\n",
      "Iteration: 8, Mean Squared Error: 106.14425330794745\n",
      "Iteration: 9, Mean Squared Error: 103.24142428895031\n",
      "Iteration: 10, Mean Squared Error: 99.1133181624428\n",
      "Iteration: 11, Mean Squared Error: 93.13979897607106\n",
      "Iteration: 12, Mean Squared Error: 85.99203007275233\n",
      "Iteration: 13, Mean Squared Error: 78.95525436648273\n",
      "Iteration: 14, Mean Squared Error: 73.2325966597375\n",
      "Iteration: 15, Mean Squared Error: 69.21084014497528\n",
      "Iteration: 16, Mean Squared Error: 66.61397394470413\n",
      "Iteration: 17, Mean Squared Error: 62.99882401154651\n",
      "Iteration: 18, Mean Squared Error: 60.261424536843904\n",
      "Iteration: 19, Mean Squared Error: 58.53355273151089\n",
      "Iteration: 20, Mean Squared Error: 57.57327981597012\n",
      "Iteration: 21, Mean Squared Error: 57.229104310563464\n",
      "Iteration: 22, Mean Squared Error: 56.74925170207101\n",
      "Iteration: 23, Mean Squared Error: 56.126954433601654\n",
      "Iteration: 24, Mean Squared Error: 55.83739044288215\n",
      "Iteration: 25, Mean Squared Error: 54.9033317812824\n",
      "Iteration: 26, Mean Squared Error: 54.49721676477722\n",
      "Iteration: 27, Mean Squared Error: 53.85845881835542\n",
      "Iteration: 28, Mean Squared Error: 53.5544125825456\n",
      "Iteration: 29, Mean Squared Error: 53.1651418000749\n",
      "Iteration: 30, Mean Squared Error: 53.02154647185193\n",
      "Iteration: 31, Mean Squared Error: 52.85241986864207\n",
      "Iteration: 32, Mean Squared Error: 52.375356556914\n",
      "Iteration: 33, Mean Squared Error: 52.18885200772085\n",
      "Iteration: 34, Mean Squared Error: 51.88279445117345\n",
      "Iteration: 35, Mean Squared Error: 51.76248502268375\n",
      "Iteration: 36, Mean Squared Error: 51.6475636874202\n",
      "Iteration: 37, Mean Squared Error: 51.54050994922428\n",
      "Iteration: 38, Mean Squared Error: 51.12811682988139\n",
      "Iteration: 39, Mean Squared Error: 51.00608489891472\n",
      "Iteration: 40, Mean Squared Error: 50.99857534019692\n",
      "Iteration: 41, Mean Squared Error: 50.712572437274034\n",
      "Iteration: 42, Mean Squared Error: 50.50280256796037\n",
      "Iteration: 43, Mean Squared Error: 50.46156597446084\n",
      "Iteration: 44, Mean Squared Error: 50.4725455620528\n",
      "Iteration: 45, Mean Squared Error: 50.213700118574124\n",
      "Iteration: 46, Mean Squared Error: 49.90855362037239\n",
      "Iteration: 47, Mean Squared Error: 49.6968659953392\n",
      "Iteration: 48, Mean Squared Error: 49.734382135582585\n",
      "Iteration: 49, Mean Squared Error: 49.57111061120882\n"
     ]
    }
   ],
   "source": [
    "mean_squared_errors_norm = []\n",
    "for iter in range(50):\n",
    "    # fit the model\n",
    "    model.fit(X_train_norm, y_train, validation_split=0.3, epochs=50, verbose=0)\n",
    "    # evaluate the model\n",
    "    scores = model.evaluate(X_test_norm, y_test, verbose=0)\n",
    "    mean_squared_errors_norm.append(scores)\n",
    "    print('Iteration: {}, Mean Squared Error: {}'.format(iter,scores)) "
   ]
  },
  {
   "cell_type": "code",
   "execution_count": 20,
   "metadata": {},
   "outputs": [
    {
     "name": "stdout",
     "output_type": "stream",
     "text": [
      "Report of Mean Squared Errors (Normalized Data) \n",
      "Mean: 76.87614821350691, Standard deviation: 55.5411597085841\n"
     ]
    }
   ],
   "source": [
    "m_norm = statistics.mean(mean_squared_errors_norm)\n",
    "s_norm = statistics.stdev(mean_squared_errors_norm)\n",
    "print(\"Report of Mean Squared Errors (Normalized Data) \\nMean: {}, Standard deviation: {}\".format(m_norm,s_norm))"
   ]
  },
  {
   "cell_type": "markdown",
   "metadata": {},
   "source": [
    "### Comparison\n",
    "Part B had a lower mean but higher standard deviation of mean squared errors than Part A."
   ]
  },
  {
   "cell_type": "markdown",
   "metadata": {},
   "source": [
    "## Part C. Increate the number of epochs "
   ]
  },
  {
   "cell_type": "code",
   "execution_count": 21,
   "metadata": {},
   "outputs": [
    {
     "name": "stdout",
     "output_type": "stream",
     "text": [
      "Iteration: 0, Mean Squared Error: 174.25027367057925\n",
      "Iteration: 1, Mean Squared Error: 126.54502700756282\n",
      "Iteration: 2, Mean Squared Error: 92.8033596890644\n",
      "Iteration: 3, Mean Squared Error: 68.95629132218346\n",
      "Iteration: 4, Mean Squared Error: 60.86431026767373\n",
      "Iteration: 5, Mean Squared Error: 58.946939425175245\n",
      "Iteration: 6, Mean Squared Error: 57.725301489475086\n",
      "Iteration: 7, Mean Squared Error: 56.81174465290551\n",
      "Iteration: 8, Mean Squared Error: 56.097227744685796\n",
      "Iteration: 9, Mean Squared Error: 55.54263443931407\n",
      "Iteration: 10, Mean Squared Error: 55.23093930340122\n",
      "Iteration: 11, Mean Squared Error: 54.82446785343503\n",
      "Iteration: 12, Mean Squared Error: 54.509078769622114\n",
      "Iteration: 13, Mean Squared Error: 54.48396095103045\n",
      "Iteration: 14, Mean Squared Error: 54.34634654961744\n",
      "Iteration: 15, Mean Squared Error: 54.30112040004298\n",
      "Iteration: 16, Mean Squared Error: 54.27587928895426\n",
      "Iteration: 17, Mean Squared Error: 54.19734491885287\n",
      "Iteration: 18, Mean Squared Error: 54.231400017599455\n",
      "Iteration: 19, Mean Squared Error: 54.11993735353538\n",
      "Iteration: 20, Mean Squared Error: 54.08788577329765\n",
      "Iteration: 21, Mean Squared Error: 53.95289030352843\n",
      "Iteration: 22, Mean Squared Error: 53.90222624744798\n",
      "Iteration: 23, Mean Squared Error: 53.77427184466019\n",
      "Iteration: 24, Mean Squared Error: 53.751977469928825\n",
      "Iteration: 25, Mean Squared Error: 53.69668195162776\n",
      "Iteration: 26, Mean Squared Error: 53.530842185406236\n",
      "Iteration: 27, Mean Squared Error: 53.30457439237428\n",
      "Iteration: 28, Mean Squared Error: 53.10532707535333\n",
      "Iteration: 29, Mean Squared Error: 53.05617454059687\n",
      "Iteration: 30, Mean Squared Error: 53.16057748393334\n",
      "Iteration: 31, Mean Squared Error: 53.03493312107321\n",
      "Iteration: 32, Mean Squared Error: 52.945055211631995\n",
      "Iteration: 33, Mean Squared Error: 52.98010648955805\n",
      "Iteration: 34, Mean Squared Error: 52.84499048029335\n",
      "Iteration: 35, Mean Squared Error: 52.86535928473118\n",
      "Iteration: 36, Mean Squared Error: 52.896009945175024\n",
      "Iteration: 37, Mean Squared Error: 52.817623484096096\n",
      "Iteration: 38, Mean Squared Error: 52.70161050345905\n",
      "Iteration: 39, Mean Squared Error: 52.735431843976755\n",
      "Iteration: 40, Mean Squared Error: 52.74501389438666\n",
      "Iteration: 41, Mean Squared Error: 52.66136008944712\n",
      "Iteration: 42, Mean Squared Error: 52.62175771719429\n",
      "Iteration: 43, Mean Squared Error: 52.58789126695552\n",
      "Iteration: 44, Mean Squared Error: 52.634066177417544\n",
      "Iteration: 45, Mean Squared Error: 52.6388211666959\n",
      "Iteration: 46, Mean Squared Error: 52.43878998494071\n",
      "Iteration: 47, Mean Squared Error: 52.511035808081765\n",
      "Iteration: 48, Mean Squared Error: 52.460069020589195\n",
      "Iteration: 49, Mean Squared Error: 52.49241435720697\n"
     ]
    }
   ],
   "source": [
    "# build the model\n",
    "model = regression_model()\n",
    "#Use 100 epochs\n",
    "mean_squared_errors_norm_100_epochs = []\n",
    "for iter in range(50):\n",
    "    # fit the model\n",
    "    model.fit(X_train_norm, y_train, validation_split=0.3, epochs=100, verbose=0)\n",
    "    # evaluate the model\n",
    "    scores = model.evaluate(X_test_norm, y_test, verbose=0)\n",
    "    mean_squared_errors_norm_100_epochs.append(scores)\n",
    "    print('Iteration: {}, Mean Squared Error: {}'.format(iter,scores)) "
   ]
  },
  {
   "cell_type": "code",
   "execution_count": 22,
   "metadata": {},
   "outputs": [
    {
     "name": "stdout",
     "output_type": "stream",
     "text": [
      "Report of Mean Squared Errors (Normalized Data Increased Epochs) \n",
      "Mean: 58.87998708459552, Standard deviation: 20.404096566978357\n"
     ]
    }
   ],
   "source": [
    "m_norm = statistics.mean(mean_squared_errors_norm_100_epochs)\n",
    "s_norm = statistics.stdev(mean_squared_errors_norm_100_epochs)\n",
    "print(\"Report of Mean Squared Errors (Normalized Data Increased Epochs) \\nMean: {}, Standard deviation: {}\".format(m_norm,s_norm))"
   ]
  },
  {
   "cell_type": "markdown",
   "metadata": {},
   "source": [
    "### Comparison\n",
    "Part C had a low mean and standard deviation of mean squared errors than Part B."
   ]
  },
  {
   "cell_type": "markdown",
   "metadata": {},
   "source": [
    "## Part D. Increase the number of hidden layers to 3"
   ]
  },
  {
   "cell_type": "code",
   "execution_count": 23,
   "metadata": {},
   "outputs": [],
   "source": [
    "# define regression model\n",
    "def regression_model_3_hidden():\n",
    "    # create model\n",
    "    model = Sequential()\n",
    "    model.add(Dense(10, activation='relu', input_shape=(n_cols,)))\n",
    "    model.add(Dense(10, activation='relu'))\n",
    "    model.add(Dense(10, activation='relu'))\n",
    "    model.add(Dense(1))\n",
    "    \n",
    "    # compile model\n",
    "    model.compile(optimizer='adam', loss='mean_squared_error')\n",
    "    return model"
   ]
  },
  {
   "cell_type": "code",
   "execution_count": 24,
   "metadata": {},
   "outputs": [],
   "source": [
    "# build the model\n",
    "model_norm_3_hidden = regression_model_3_hidden()"
   ]
  },
  {
   "cell_type": "code",
   "execution_count": 25,
   "metadata": {},
   "outputs": [
    {
     "name": "stdout",
     "output_type": "stream",
     "text": [
      "Iteration: 0, Mean Squared Error: 119.03568640650283\n",
      "Iteration: 1, Mean Squared Error: 92.4856045423588\n",
      "Iteration: 2, Mean Squared Error: 84.75809762701633\n",
      "Iteration: 3, Mean Squared Error: 79.66866855559611\n",
      "Iteration: 4, Mean Squared Error: 74.55992923971132\n",
      "Iteration: 5, Mean Squared Error: 58.7219694810392\n",
      "Iteration: 6, Mean Squared Error: 50.56752114157075\n",
      "Iteration: 7, Mean Squared Error: 48.236611684163414\n",
      "Iteration: 8, Mean Squared Error: 46.93101792813891\n",
      "Iteration: 9, Mean Squared Error: 46.07208142079968\n",
      "Iteration: 10, Mean Squared Error: 45.21188890278147\n",
      "Iteration: 11, Mean Squared Error: 43.99983394338861\n",
      "Iteration: 12, Mean Squared Error: 43.67819217570777\n",
      "Iteration: 13, Mean Squared Error: 43.515211062138135\n",
      "Iteration: 14, Mean Squared Error: 42.958496513490154\n",
      "Iteration: 15, Mean Squared Error: 42.59388044042495\n",
      "Iteration: 16, Mean Squared Error: 42.30062560047532\n",
      "Iteration: 17, Mean Squared Error: 42.207236404172036\n",
      "Iteration: 18, Mean Squared Error: 40.88560598182061\n",
      "Iteration: 19, Mean Squared Error: 40.674741751167765\n",
      "Iteration: 20, Mean Squared Error: 40.02043461722464\n",
      "Iteration: 21, Mean Squared Error: 39.71594993813524\n",
      "Iteration: 22, Mean Squared Error: 39.69691990725816\n",
      "Iteration: 23, Mean Squared Error: 39.76834460755382\n",
      "Iteration: 24, Mean Squared Error: 39.74740710459095\n",
      "Iteration: 25, Mean Squared Error: 39.191006262325544\n",
      "Iteration: 26, Mean Squared Error: 38.918459821287485\n",
      "Iteration: 27, Mean Squared Error: 38.42798313276668\n",
      "Iteration: 28, Mean Squared Error: 37.79347852441485\n",
      "Iteration: 29, Mean Squared Error: 37.55461747746637\n",
      "Iteration: 30, Mean Squared Error: 37.608997875818545\n",
      "Iteration: 31, Mean Squared Error: 37.733179098579875\n",
      "Iteration: 32, Mean Squared Error: 38.20539875709509\n",
      "Iteration: 33, Mean Squared Error: 37.6748460072144\n",
      "Iteration: 34, Mean Squared Error: 38.35585535537078\n",
      "Iteration: 35, Mean Squared Error: 38.545424464451074\n",
      "Iteration: 36, Mean Squared Error: 38.530120849609375\n",
      "Iteration: 37, Mean Squared Error: 38.73326837977931\n",
      "Iteration: 38, Mean Squared Error: 39.075968473860364\n",
      "Iteration: 39, Mean Squared Error: 39.693560084864544\n",
      "Iteration: 40, Mean Squared Error: 39.24050293462562\n",
      "Iteration: 41, Mean Squared Error: 39.53582388374798\n",
      "Iteration: 42, Mean Squared Error: 39.18075249187383\n",
      "Iteration: 43, Mean Squared Error: 39.08946620607839\n",
      "Iteration: 44, Mean Squared Error: 38.93563453896532\n",
      "Iteration: 45, Mean Squared Error: 39.74239533310183\n",
      "Iteration: 46, Mean Squared Error: 39.184234162364575\n",
      "Iteration: 47, Mean Squared Error: 39.58810563072032\n",
      "Iteration: 48, Mean Squared Error: 39.25915808816558\n",
      "Iteration: 49, Mean Squared Error: 39.34465912013378\n"
     ]
    }
   ],
   "source": [
    "mean_squared_errors_norm_3_hidden = []\n",
    "for iter in range(50):\n",
    "    # fit the model\n",
    "    model_norm_3_hidden.fit(X_train_norm, y_train, validation_split=0.3, epochs=50, verbose=0)\n",
    "    # evaluate the model\n",
    "    scores_3_hidden = model_norm_3_hidden.evaluate(X_test_norm, y_test, verbose=0)\n",
    "    mean_squared_errors_norm_3_hidden.append(scores)\n",
    "    print('Iteration: {}, Mean Squared Error: {}'.format(iter,scores_3_hidden)) "
   ]
  },
  {
   "cell_type": "code",
   "execution_count": 26,
   "metadata": {},
   "outputs": [
    {
     "name": "stdout",
     "output_type": "stream",
     "text": [
      "Report of Mean Squared Errors (Normalized Data, 3 Hidden Layers) \n",
      "Mean: 52.49241435720697, Standard deviation: 0.0\n"
     ]
    }
   ],
   "source": [
    "m_norm_3_hidden = statistics.mean(mean_squared_errors_norm_3_hidden)\n",
    "s_norm_3_hidden = statistics.stdev(mean_squared_errors_norm_3_hidden)\n",
    "print(\"Report of Mean Squared Errors (Normalized Data, 3 Hidden Layers) \\nMean: {}, Standard deviation: {}\".format(m_norm_3_hidden,s_norm_3_hidden))"
   ]
  },
  {
   "cell_type": "markdown",
   "metadata": {},
   "source": [
    "### Comparison\n",
    "Part D had a lower mean and standard deviation of mean squared errors than Part B."
   ]
  },
  {
   "cell_type": "code",
   "execution_count": null,
   "metadata": {},
   "outputs": [],
   "source": []
  }
 ],
 "metadata": {
  "kernelspec": {
   "display_name": "Python",
   "language": "python",
   "name": "conda-env-python-py"
  },
  "language_info": {
   "codemirror_mode": {
    "name": "ipython",
    "version": 3
   },
   "file_extension": ".py",
   "mimetype": "text/x-python",
   "name": "python",
   "nbconvert_exporter": "python",
   "pygments_lexer": "ipython3",
   "version": "3.6.7"
  }
 },
 "nbformat": 4,
 "nbformat_minor": 4
}
